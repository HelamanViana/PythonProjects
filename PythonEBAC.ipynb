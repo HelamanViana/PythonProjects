{
  "cells": [
    {
      "cell_type": "markdown",
      "metadata": {
        "id": "view-in-github",
        "colab_type": "text"
      },
      "source": [
        "<a href=\"https://colab.research.google.com/github/HelamanViana/PythonProjects/blob/main/PythonEBAC.ipynb\" target=\"_parent\"><img src=\"https://colab.research.google.com/assets/colab-badge.svg\" alt=\"Open In Colab\"/></a>"
      ]
    },
    {
      "cell_type": "markdown",
      "metadata": {
        "id": "4JLQ9TKcvtT-"
      },
      "source": [
        "# Cientista de Dados - Python"
      ]
    },
    {
      "cell_type": "code",
      "execution_count": null,
      "metadata": {
        "id": "t73Bs458vfOU"
      },
      "outputs": [],
      "source": [
        "#--------Int e String-------------\n",
        "print(\"Olá, mundo!\")\n",
        "\n",
        "idade = 30\n",
        "print(idade)\n",
        "\n",
        "idade = 27\n",
        "print(idade)\n",
        "\n",
        "nome = \"Helaman\"\n",
        "print(nome)"
      ]
    },
    {
      "cell_type": "code",
      "execution_count": null,
      "metadata": {
        "id": "49fRMpQsviql"
      },
      "outputs": [],
      "source": [
        "nome = \"Helaman\"\n",
        "tipo_nome = type(nome)\n",
        "\n",
        "print(nome)\n",
        "print(tipo_nome)\n",
        "\n",
        "#----------------\n",
        "\n",
        "numero = 10\n",
        "print(numero)\n",
        "print(type(numero))\n",
        "#-----------------"
      ]
    },
    {
      "cell_type": "code",
      "execution_count": null,
      "metadata": {
        "id": "7zk0LYxUvlXN"
      },
      "outputs": [],
      "source": [
        "#-----Bool------\n",
        "maior_de_idade = False\n",
        "print(maior_de_idade)\n",
        "print(type(maior_de_idade))\n",
        "\n",
        "maior_de_idade = True\n",
        "print(maior_de_idade)\n",
        "print(type(maior_de_idade))"
      ]
    },
    {
      "cell_type": "code",
      "execution_count": null,
      "metadata": {
        "id": "eSJgWtz4vnt9"
      },
      "outputs": [],
      "source": [
        "#------None------\n",
        "telefone = None\n",
        "\n",
        "print(telefone)\n",
        "print(type(telefone))"
      ]
    },
    {
      "cell_type": "code",
      "execution_count": null,
      "metadata": {
        "id": "eS9sfSxTiISf"
      },
      "outputs": [],
      "source": [
        "#-----Valores numéricos-------\n",
        "print(type(37))\n",
        "print(type(10.1))\n",
        "print(type(1 + 3j))"
      ]
    },
    {
      "cell_type": "code",
      "execution_count": null,
      "metadata": {
        "id": "6GZIoFRUjNV-"
      },
      "outputs": [],
      "source": [
        "#------Compras-------\n",
        "qtd_itens_carrinho = 0\n",
        "\n",
        "qtd_itens_carrinho = qtd_itens_carrinho + 1\n",
        "print(qtd_itens_carrinho)\n",
        "\n",
        "qtd_itens_carrinho = qtd_itens_carrinho + 1\n",
        "print(qtd_itens_carrinho)\n",
        "\n",
        "qtd_itens_carrinho = qtd_itens_carrinho - 1\n",
        "print(qtd_itens_carrinho)\n"
      ]
    },
    {
      "cell_type": "code",
      "execution_count": null,
      "metadata": {
        "id": "Ej1PzyG_kjhX"
      },
      "outputs": [],
      "source": [
        "#-------Código Reduzido de Compras-------\n",
        "qtd_compras =  0\n",
        "\n",
        "qtd_compras += 1\n",
        "print(qtd_compras)\n",
        "\n",
        "qtd_compras += 1\n",
        "print(qtd_compras)\n",
        "\n",
        "qtd_compras -= 1\n",
        "print(qtd_compras)"
      ]
    },
    {
      "cell_type": "code",
      "execution_count": null,
      "metadata": {
        "id": "CMbtxiLyk5t2"
      },
      "outputs": [],
      "source": [
        "#----Exemplo Carne Mercado------\n",
        "preco = 47\n",
        "qtd = 0.345\n",
        "\n",
        "total_pagar = qtd * preco\n",
        "print(total_pagar)"
      ]
    },
    {
      "cell_type": "code",
      "execution_count": null,
      "metadata": {
        "id": "Pk4mRYtnlzp1"
      },
      "outputs": [],
      "source": [
        "#---- divisão normal(/) e divisão inteira(//)------------\n",
        "a = 3\n",
        "b = 2\n",
        "\n",
        "c = a / b\n",
        "print(c)\n",
        "print(type(c))\n",
        "\n",
        "d = a// b\n",
        "print(d)\n",
        "print(type(d))"
      ]
    },
    {
      "cell_type": "code",
      "execution_count": null,
      "metadata": {
        "id": "iah8m1z6mri_"
      },
      "outputs": [],
      "source": [
        "#-------Conversão de Tipos---------\n",
        "print(int(3.90))\n",
        "print(float(5))\n",
        "print(complex(10))"
      ]
    },
    {
      "cell_type": "code",
      "execution_count": null,
      "metadata": {
        "id": "S7o3X3TynOaN",
        "colab": {
          "base_uri": "https://localhost:8080/"
        },
        "outputId": "aa091c9f-462c-4f45-905e-b34744d26d29"
      },
      "outputs": [
        {
          "output_type": "stream",
          "name": "stdout",
          "text": [
            "19/01\n",
            "51.32666666666666\n",
            "51\n",
            "20/01\n",
            "48.144285714285715\n",
            "48\n",
            "23/01\n",
            "59.065999999999995\n",
            "59\n",
            "Valor total da Média\n",
            "119.15961904761905\n",
            "119\n",
            "Venda alta.\n"
          ]
        }
      ],
      "source": [
        "#------Exercício Ticket-------\n",
        "#-----dia 19/01-----\n",
        "data = \"19/01\"\n",
        "print(data)\n",
        "\n",
        "total_vendas1 = 153.98\n",
        "qtd_vendas1 = 3\n",
        "\n",
        "tik_medio1 = total_vendas1 / qtd_vendas1\n",
        "print(tik_medio1)\n",
        "print(int(tik_medio1))\n",
        "\n",
        "#----------dia 20/01 ------------\n",
        "data = \"20/01\"\n",
        "print(data)\n",
        "\n",
        "total_vendas2 = 337.01\n",
        "qtd_vendas2 = 7\n",
        "\n",
        "tik_medio2 = total_vendas2 / qtd_vendas2\n",
        "print(tik_medio2)\n",
        "print(int(tik_medio2))\n",
        "\n",
        "#----------dia 23/01 ------------\n",
        "data =\"23/01\"\n",
        "print(data)\n",
        "\n",
        "total_vendas3 = 295.33\n",
        "qtd_vendas3 = 5\n",
        "\n",
        "tik_medio3 = total_vendas3 / qtd_vendas3\n",
        "print(tik_medio3)\n",
        "print(int(tik_medio3))\n",
        "\n",
        "#-----Ticket Total Dias-------\n",
        "tkt = \"Valor total da Média\"\n",
        "print(tkt)\n",
        "tkt_total = tik_medio1 + tik_medio2 + tik_medio3 / 3\n",
        "print(tkt_total)\n",
        "print(int(tkt_total))\n",
        "\n",
        "if tkt_total > 100:\n",
        "  print(\"Venda alta.\")\n",
        "else:\n",
        "  print(\"Venda baixa.\")"
      ]
    },
    {
      "cell_type": "code",
      "execution_count": null,
      "metadata": {
        "id": "7OMOWLTp2emU"
      },
      "outputs": [],
      "source": [
        "#-----Input------\n",
        "#Interação com usuario\n",
        "\n",
        "nome = input(\"Digite seu nome:\")\n",
        "idade = input(\"Digite sua idade:\")\n",
        "peso = input(\"Digite seu peso:\")\n",
        "\n",
        "print(\"Nome:\", nome, \"Idade:\", idade, \"Peso:\", peso)"
      ]
    },
    {
      "cell_type": "code",
      "execution_count": null,
      "metadata": {
        "id": "5ueTCzrf44rG"
      },
      "outputs": [],
      "source": [
        "#----Desafio Curso em Video-------\n",
        "nome = input(\"Digite seu nome:\")\n",
        "print(\"Seja bem-vindo,\", nome)"
      ]
    },
    {
      "cell_type": "code",
      "execution_count": null,
      "metadata": {
        "id": "WlDTzujn5fPD"
      },
      "outputs": [],
      "source": [
        "#-----Desafio Curso em Video----------\n",
        "print(\"Data de Nascimento\")\n",
        "dia = input(\"Digite o dia:\")\n",
        "mes = input(\"Digite o mês:\")\n",
        "ano = input(\"Digite o ano:\")\n",
        "\n",
        "print(\"Esta é sua data de nascimento:\", dia, \"/\", mes, \"/\", ano, \". Correto?\")"
      ]
    },
    {
      "cell_type": "code",
      "execution_count": null,
      "metadata": {
        "id": "uBJfcoRZ6aam"
      },
      "outputs": [],
      "source": [
        "#-----Desafio Curso em Video--------\n",
        "print(\"Vamos somar!\")\n",
        "n1 = int(input(\"Digite o primeiro número:\"))\n",
        "n2 = int(input(\"Digite o segundo número:\"))\n",
        "total = int(n1 + n2)\n",
        "print(\"A soma é:\", total)"
      ]
    },
    {
      "cell_type": "code",
      "execution_count": null,
      "metadata": {
        "id": "cpOO6SNP_LIC"
      },
      "outputs": [],
      "source": [
        "#------Strings-------\n",
        "nome_aula = \"Aula 04, Módulo 1 - Strings\"\n",
        "\n",
        "print(nome_aula)\n",
        "print(type(nome_aula))\n",
        "\n",
        "#---------String Vazia-------\n",
        "string_vazia = \"\"\n",
        "\n",
        "print(string_vazia)\n",
        "print(type(string_vazia))"
      ]
    },
    {
      "cell_type": "code",
      "execution_count": null,
      "metadata": {
        "id": "wjzy1akSAz_7"
      },
      "outputs": [],
      "source": [
        "#-------Concatenação-------\n",
        "nome = \"Helaman\"\n",
        "sobrenome = \"Viana\"\n",
        "\n",
        "apresentacao = f\"Olá! Meu nome é {nome} {sobrenome}\"\n",
        "print(apresentacao)\n",
        "\n",
        "#----------Teste Concatenação-------------\n",
        "nome = input(\"Digite seu primeiro nome:\")\n",
        "sobrenome = input(\"Digite seu sobrenome:\")\n",
        "\n",
        "apresenta = f\"Olá! Me chamo {nome} {sobrenome}\"\n",
        "print(apresenta)"
      ]
    },
    {
      "cell_type": "code",
      "execution_count": null,
      "metadata": {
        "id": "DEJe708HDCmJ"
      },
      "outputs": [],
      "source": [
        "#----------Fatiamento Fixo-----------\n",
        "email = \"helaman@gmail.com\"\n",
        "\n",
        "print(f\"0: {email[0]}\")\n",
        "print(f\"11: {email[11]}\")\n",
        "\n",
        "#-----Posição Negativa (de tras para frente)--------\n",
        "email = \"helaman@gmail.com\"\n",
        "\n",
        "print(f\"-1: {email[-1]}\")\n",
        "print(f\"-4: {email[-4]}\")"
      ]
    },
    {
      "cell_type": "code",
      "execution_count": null,
      "metadata": {
        "id": "WYlF0y1VELsB"
      },
      "outputs": [],
      "source": [
        "#-------Fatiamento por Intervalo-----------\n",
        "email = \"helaman@gmail.com\"\n",
        "email_usuario = email[0:7]\n",
        "email_provedor = email[9:18]\n",
        "caracter = email[7]\n",
        "\n",
        "print(f\"O nome de usuário é: {email_usuario}\")\n",
        "print(f\"O provedor do email é: {email_provedor}\")\n",
        "print(f\"O caracter especial é: {caracter}\")"
      ]
    },
    {
      "cell_type": "code",
      "execution_count": null,
      "metadata": {
        "id": "fvWny-MgF89p"
      },
      "outputs": [],
      "source": [
        "#---------Métodos---------------\n",
        "endereco = \"Rua Pau Darco Roxo, 181 - Jardim Pedro José Nunes\"\n",
        "\n",
        "#Deixa em maiúsculo\n",
        "print(endereco.upper())\n",
        "\n",
        "#Encontra uma palavra dentro da variavel\n",
        "posicao = endereco.find(\"Rua\")\n",
        "print(posicao)\n",
        "\n",
        "#Troca uma palavra dentro da variavel\n",
        "print(endereco.replace(\"Rua\", \"R.\"))"
      ]
    },
    {
      "cell_type": "code",
      "execution_count": null,
      "metadata": {
        "id": "YCH-dH4BIiKh"
      },
      "outputs": [],
      "source": [
        "#------------Conversão------------\n",
        "idade = 19\n",
        "print(type(idade))\n",
        "\n",
        "idade = str(idade)\n",
        "print(type(idade))\n",
        "\n",
        "#-------\n",
        "faturamento = \"R$ 35 Mi\"\n",
        "print(faturamento)\n",
        "print(type(faturamento))\n",
        "\n",
        "#Conversão e fatiamento por intervalo\n",
        "faturamento = int(faturamento[3:5])\n",
        "print(faturamento)\n",
        "print(type(faturamento))"
      ]
    },
    {
      "cell_type": "code",
      "execution_count": null,
      "metadata": {
        "id": "zmeStBnybSwo"
      },
      "outputs": [],
      "source": [
        "#------Revisando Motivação - Exercício-------------------\n",
        "latlon = \"3847238947 ;88979804287\"\n",
        "print(latlon)\n",
        "\n",
        "posicao_char = latlon.find(\";\")\n",
        "print(\"Posição do ponto e vírgula:\", posicao_char, \"caracter da variável.\")\n",
        "\n",
        "lat_startup = latlon[0:posicao_char]\n",
        "print(lat_startup)\n",
        "\n",
        "lon_startup = latlon[posicao_char+1:len(latlon)]\n",
        "print(lon_startup)"
      ]
    },
    {
      "cell_type": "code",
      "execution_count": null,
      "metadata": {
        "id": "gFi25Tarm8jE"
      },
      "outputs": [],
      "source": [
        "#-----Boleanos-------------\n",
        "verdadeiro = True\n",
        "print(verdadeiro)\n",
        "\n",
        "falso = False\n",
        "print(falso)\n",
        "\n",
        "print(type(True))"
      ]
    },
    {
      "cell_type": "code",
      "execution_count": null,
      "metadata": {
        "id": "g1Rb05-ooCFM",
        "colab": {
          "base_uri": "https://localhost:8080/"
        },
        "outputId": "b5742ed0-402e-4337-e93c-eba4b5e64073"
      },
      "outputs": [
        {
          "output_type": "stream",
          "name": "stdout",
          "text": [
            "True\n",
            "Transação bem sucedida!\n"
          ]
        }
      ],
      "source": [
        "#----------Caixa Eletrônic0-----------------\n",
        "saldo_conta = 200\n",
        "valor_saque = 100\n",
        "\n",
        "executar_saque = valor_saque <= saldo_conta\n",
        "print(executar_saque)\n",
        "if valor_saque <= saldo_conta:\n",
        "  print(\"Transação bem sucedida!\")\n",
        "else:\n",
        "  print(\"Transação bloqueada!\")"
      ]
    },
    {
      "cell_type": "code",
      "execution_count": null,
      "metadata": {
        "id": "DexdVavjpMae"
      },
      "outputs": [],
      "source": [
        "#---------Cartão Crédito---------\n",
        "codigo_seguranca = 855\n",
        "codigo_seguranca_cadastro = 123\n",
        "\n",
        "acesso = codigo_seguranca == codigo_seguranca_cadastro\n",
        "print(acesso)"
      ]
    },
    {
      "cell_type": "code",
      "execution_count": null,
      "metadata": {
        "id": "TggZyRWTq6rm"
      },
      "outputs": [],
      "source": [
        "#---------Conversão Bool----------\n",
        "idade = 19\n",
        "tipo_sanguineo = \"0-\"\n",
        "filhos = 0\n",
        "telefone_fixo = None\n",
        "telefone_fixo =\"\"\n",
        "\n",
        "print(bool(idade))\n",
        "print(bool(tipo_sanguineo))\n",
        "print(bool(filhos))\n",
        "print(bool(telefone_fixo))\n",
        "print(bool(telefone_fixo))"
      ]
    },
    {
      "cell_type": "code",
      "execution_count": null,
      "metadata": {
        "id": "O9QSJ4l6sH2t",
        "colab": {
          "base_uri": "https://localhost:8080/"
        },
        "outputId": "e4cb8cbd-6702-496b-ce7d-e90fad322ee1"
      },
      "outputs": [
        {
          "output_type": "stream",
          "name": "stdout",
          "text": [
            "True\n",
            "False\n",
            "False\n"
          ]
        }
      ],
      "source": [
        "usuario = \"helamanviana\"\n",
        "senha = \"031202\"\n",
        "\n",
        "usuario_cadastrado = \"helamanviana\"\n",
        "senha_cadastrado = \"197710\"\n",
        "\n",
        "\n",
        "usuario_igual = usuario == usuario_cadastrado\n",
        "senha_igual = senha == senha_cadastrado\n",
        "\n",
        "print(usuario_igual)\n",
        "print(senha_igual)\n",
        "\n",
        "conceder_acesso = usuario_igual & senha_igual\n",
        "print(conceder_acesso)"
      ]
    },
    {
      "cell_type": "code",
      "execution_count": null,
      "metadata": {
        "id": "Xzox0pdQOXj1",
        "colab": {
          "base_uri": "https://localhost:8080/"
        },
        "outputId": "eeb1dcdb-63d2-4648-e996-937f98dff3ea"
      },
      "outputs": [
        {
          "output_type": "stream",
          "name": "stdout",
          "text": [
            "Vendas do dia 19/01\n",
            "Valor total de vendas: 961.56\n",
            "Vendas do dia 20/01\n",
            "Valor da quantidade de vendas: 7.0\n",
            "Vendas do dia 23/01\n",
            "Valor de ticket médio: 3075.0\n"
          ]
        }
      ],
      "source": [
        "#------------Exercícios---------------\n",
        "\n",
        "#Valor total vendas 1\n",
        "print('Vendas do dia 19/01')\n",
        "qtd_vendas = 3\n",
        "tkt_medio = 320.52\n",
        "valor_vendas = qtd_vendas * tkt_medio\n",
        "print('Valor total de vendas:', valor_vendas)\n",
        "\n",
        "#Valor total vendas 2\n",
        "print('Vendas do dia 20/01')\n",
        "valor_vendas = 834.47\n",
        "tkt_medio = 119.21\n",
        "qtd_vendas = valor_vendas // tkt_medio\n",
        "print('Valor da quantidade de vendas:', qtd_vendas)\n",
        "\n",
        "#Valor total vendas 3\n",
        "print('Vendas do dia 23/01')\n",
        "qtd_vendas = 5\n",
        "valor_vendas = 15378.12\n",
        "tkt_medio = valor_vendas // qtd_vendas\n",
        "print('Valor de ticket médio:', tkt_medio)"
      ]
    },
    {
      "cell_type": "code",
      "execution_count": null,
      "metadata": {
        "id": "orHXpmk8QjfX"
      },
      "outputs": [],
      "source": [
        "#--------------Exercício--------------\n",
        "\n",
        "cancao = 'Roda mundo, roda gigante, roda moinho, roda pião.'\n",
        "\n",
        "#Maiúsculo\n",
        "print(cancao.upper())\n",
        "\n",
        "#Econtrar\n",
        "posicao = cancao.find('gigante')\n",
        "print(posicao)\n",
        "\n",
        "#Trocar\n",
        "print(cancao.replace('roda', 'Roda'))"
      ]
    },
    {
      "cell_type": "code",
      "execution_count": null,
      "metadata": {
        "id": "JAigroDoRIlJ"
      },
      "outputs": [],
      "source": [
        "#---------Exercícios------------\n",
        "\n",
        "noticia = 'Selic vai a 2,75% e supera expectativas,' + 'é a primeira alta em 6 anos.'\n",
        "\n",
        "valor_taxa_selic = noticia[12:17]\n",
        "valor_ano = noticia[-7:len(noticia)]\n",
        "\n",
        "print('Valor da taxa selic:', valor_taxa_selic)\n",
        "print('Valor do ano:', valor_ano)"
      ]
    },
    {
      "cell_type": "code",
      "execution_count": null,
      "metadata": {
        "id": "zYI1IBQeSAUw"
      },
      "outputs": [],
      "source": [
        "#---------Exercícios-------------\n",
        "a = False\n",
        "b = True\n",
        "\n",
        "x = not a & b\n",
        "print(x)"
      ]
    },
    {
      "cell_type": "code",
      "execution_count": null,
      "metadata": {
        "id": "GirrM_bnSLpu"
      },
      "outputs": [],
      "source": [
        "#------Teste-------------\n",
        "print('Olá, professor!')\n",
        "nota = float(input('Digite a nota do aluno:'))\n",
        "\n",
        "if nota <= 9:\n",
        "  print('Valor de nota inválido!')\n",
        "else:\n",
        "  print('Obrigado, professor!')"
      ]
    },
    {
      "cell_type": "markdown",
      "metadata": {
        "id": "zgIfqmFq5_GF"
      },
      "source": [
        "# Módulo 2 - Python"
      ]
    },
    {
      "cell_type": "markdown",
      "metadata": {
        "id": "sYAvMLCVlFtg"
      },
      "source": [
        "## Listas"
      ]
    },
    {
      "cell_type": "code",
      "execution_count": null,
      "metadata": {
        "id": "xE4LWK046Gq4"
      },
      "outputs": [],
      "source": [
        "#-------------Listas-------------\n",
        "dia_11_saldo_inicial = 1000\n",
        "\n",
        "dia_11_transacao1 = 243\n",
        "dia_11_transacao2 = -798.58\n",
        "dia_11_transacao3 = 427.12\n",
        "dia_11_transacao4 = -10.91\n",
        "\n",
        "dia_11_saldo_final = dia_11_saldo_inicial + dia_11_transacao1 + dia_11_transacao2 + dia_11_transacao3 + dia_11_transacao4\n",
        "\n",
        "print(dia_11_saldo_final)"
      ]
    },
    {
      "cell_type": "code",
      "execution_count": null,
      "metadata": {
        "id": "qQOWHPWv7ieJ"
      },
      "outputs": [],
      "source": [
        "#------------Listas------------------\n",
        "usuario_web = [\"HelamanViana\",\n",
        "               \"helaman.viana\",\n",
        "               \"helaman12345\",\n",
        "               \"helaman@gmail.com\"]\n",
        "\n",
        "print(usuario_web)\n",
        "print(type(usuario_web))"
      ]
    },
    {
      "cell_type": "code",
      "execution_count": null,
      "metadata": {
        "colab": {
          "base_uri": "https://localhost:8080/"
        },
        "id": "DE3GQwMsDJwH",
        "outputId": "18092238-4f5b-4cca-e95d-ba045804f7d8"
      },
      "outputs": [
        {
          "name": "stdout",
          "output_type": "stream",
          "text": [
            "['HelamanViana', 20, 'helaman.viana', 'helaman12345', 'helaman@gmail.com', 723.15, True]\n",
            "<class 'list'>\n"
          ]
        }
      ],
      "source": [
        "idade = 20\n",
        "saldo_conta = 723.15\n",
        "usuario_loggedin = True\n",
        "\n",
        "usuario_web = [\"HelamanViana\",\n",
        "               idade,\n",
        "               \"helaman.viana\",\n",
        "               \"helaman12345\",\n",
        "               \"helaman@gmail.com\",\n",
        "               saldo_conta,\n",
        "               usuario_loggedin]\n",
        "\n",
        "print(usuario_web)\n",
        "print(type(usuario_web))"
      ]
    },
    {
      "cell_type": "code",
      "execution_count": null,
      "metadata": {
        "id": "e3tEM5E1D_8t"
      },
      "outputs": [],
      "source": [
        "#---------Listas - Operações (Concatenação)---------------\n",
        "fabricante_china = [\"xioami\", \"huawei\"]\n",
        "fabricante_eua = [\"apple\", \"motorola\"]\n",
        "fabricantes_mobile = fabricante_china + fabricante_eua\n",
        "\n",
        "print(\"Fabricantes da China:\", fabricante_china)\n",
        "print(\"Fabricantes dos EUA:\", fabricante_eua)\n",
        "print(\"Fabricantes no geral:\", fabricantes_mobile)"
      ]
    },
    {
      "cell_type": "code",
      "execution_count": null,
      "metadata": {
        "id": "nkTIkw9rFY99"
      },
      "outputs": [],
      "source": [
        "#---------Listas - Operações (Fatiamento)---------------\n",
        "fabricante_china = [\"xioami\", \"huawei\"]\n",
        "fabricante_eua = [\"apple\", \"motorola\"]\n",
        "fabricantes_mobile = fabricante_china + fabricante_eua\n",
        "\n",
        "fabricante_china = fabricantes_mobile[0:2]\n",
        "fabricante_eua = fabricantes_mobile[2:len(fabricantes_mobile)]\n",
        "\n",
        "print(f\"China: {str(fabricante_china)}\")\n",
        "print(f\"EUA: {str(fabricante_eua)}\")\n",
        "\n",
        "#-----------Trocar Valor--------------\n",
        "fabricantes_mobile[2] = \"nokia\"\n",
        "print(fabricantes_mobile)"
      ]
    },
    {
      "cell_type": "code",
      "execution_count": null,
      "metadata": {
        "id": "ITbMul4QJXvc"
      },
      "outputs": [],
      "source": [
        "#-----------Listas - Métodos----------------\n",
        "juros = [0.05, 0.07, 0.02, 0.04, 0.08]\n",
        "print(juros)\n",
        "\n",
        "#Inserir elemento sem substituir\n",
        "juros.insert(0, 0.10)\n",
        "print(juros)\n",
        "\n",
        "#Inserir elemento no fim da lista\n",
        "juros.append(0.09)\n",
        "print(juros)\n",
        "\n",
        "#Remover elemento pelo valor\n",
        "juros.remove(0.1)\n",
        "print(juros)\n",
        "\n",
        "#remover elemento pelo índice\n",
        "terceiro_juros = juros.pop(2)\n",
        "print(terceiro_juros)\n",
        "print(juros)"
      ]
    },
    {
      "cell_type": "code",
      "execution_count": null,
      "metadata": {
        "id": "vZB_fD_umZio"
      },
      "outputs": [],
      "source": [
        "#------------Listas - Conversão---------------\n",
        "email = \"helaman@gmail.com\"\n",
        "caracter_email = list(email)\n",
        "\n",
        "print(email)\n",
        "print(caracter_email)"
      ]
    },
    {
      "cell_type": "code",
      "execution_count": null,
      "metadata": {
        "id": "wLE1hy93oj0v"
      },
      "outputs": [],
      "source": [
        "#----------Revisão Listas----------------\n",
        "dia_11_saldo_inicial = 1000\n",
        "dia_11_transacoes = []\n",
        "\n",
        "dia_11_transacoes.append(243)\n",
        "dia_11_transacoes.append(-798.58)\n",
        "dia_11_transacoes.append(427.12)\n",
        "dia_11_transacoes.append(-10.91)\n",
        "\n",
        "print(dia_11_transacoes)\n",
        "\n",
        "dia_11_saldo_final = dia_11_saldo_inicial + dia_11_transacoes[0] + dia_11_transacoes[1] + dia_11_transacoes[2] + dia_11_transacoes[3]\n",
        "print(dia_11_saldo_final)"
      ]
    },
    {
      "cell_type": "markdown",
      "metadata": {
        "id": "UZ4T5bY2k9KT"
      },
      "source": [
        "## Conjuntos"
      ]
    },
    {
      "cell_type": "code",
      "execution_count": null,
      "metadata": {
        "id": "MO9Lmf5CL42H"
      },
      "outputs": [],
      "source": [
        "#----------Conjuntos------------\n",
        "frutas = {\"banana\", \"maçã\", \"uva\", \"uva\"}\n",
        "print(frutas)\n",
        "print(type(frutas))"
      ]
    },
    {
      "cell_type": "code",
      "execution_count": null,
      "metadata": {
        "id": "RNDzBwYaNes5"
      },
      "outputs": [],
      "source": [
        "#---------Conjuntos - Exemplos --------------\n",
        "norte_europa = {\"reino unido\", \"suecia\", \"russia\", \"noruega\", \"dinamarca\"}\n",
        "escandinavo = {\"noruega\", \"dinamarca\", \"suecia\"}\n",
        "\n",
        "paises_nao_escandinavos = norte_europa - escandinavo\n",
        "print(paises_nao_escandinavos)\n",
        "\n",
        "paises_nao_norte_europa = escandinavo - norte_europa\n",
        "print(paises_nao_norte_europa)"
      ]
    },
    {
      "cell_type": "code",
      "execution_count": null,
      "metadata": {
        "id": "1b_4AGc9cAzN"
      },
      "outputs": [],
      "source": [
        "#--------Conjuntos - Métodos---------------\n",
        "cursos = {\"exatas\", \"humanas\", \"biológicas\"}\n",
        "print(cursos)\n",
        "\n",
        "#Inserir um elemento\n",
        "cursos.add(\"saúde\")\n",
        "print(cursos)\n",
        "\n",
        "#Remover intens\n",
        "cursos.remove(\"saúde\")\n",
        "print(cursos)"
      ]
    },
    {
      "cell_type": "code",
      "execution_count": null,
      "metadata": {
        "id": "kxjMp7fvdLlI"
      },
      "outputs": [],
      "source": [
        "#---------Conjuntos - Converção-----------\n",
        "times_paulistas = {\"São Paulo\", \"Palmeiras\", \"Corinthias\", \"Santos\"}\n",
        "\n",
        "print(times_paulistas)\n",
        "print(type(times_paulistas))\n",
        "\n",
        "print(list(times_paulistas))\n",
        "print(type(list(times_paulistas)))"
      ]
    },
    {
      "cell_type": "code",
      "execution_count": null,
      "metadata": {
        "id": "k7ZyrIqeeIhl"
      },
      "outputs": [],
      "source": [
        "#------Conjuntos - Motivação--------------\n",
        "hashtags_seg = [\"#tiago\", \"joao\", \"#bbb\"]\n",
        "hashtags_ter = [\"#sara\", \"#bbb\", \"#fluk\"]\n",
        "hashtags_qua = [\"#gil\", \"#thelma\", \"#lourdes\"]\n",
        "hashtags_qui = [\"#rafa\", \"#fora\", \"#danilo\"]\n",
        "hashtags_sex = [\"#juliete\", \"#arthur\", \"#bbb\"]\n",
        "\n",
        "hashtags_semana = hashtags_seg + hashtags_ter + hashtags_qua + hashtags_qui + hashtags_sex\n",
        "print(hashtags_semana)\n",
        "print(len(hashtags_semana))\n",
        "\n",
        "hashtags_semana = list(set(hashtags_seg + hashtags_ter + hashtags_qua + hashtags_qui + hashtags_sex))\n",
        "print(hashtags_semana)\n",
        "print(len(hashtags_semana))"
      ]
    },
    {
      "cell_type": "markdown",
      "metadata": {
        "id": "rup_8_Qfkx6E"
      },
      "source": [
        "## Dicionário"
      ]
    },
    {
      "cell_type": "code",
      "execution_count": null,
      "metadata": {
        "id": "xXFDKoCOYz8U"
      },
      "outputs": [],
      "source": [
        "#--------Dicionário - Definição---------------\n",
        "brasil = {'capital': 'Brasília', 'idioma': 'Português', 'população': 210}\n",
        "print(brasil)\n",
        "print(type(brasil))"
      ]
    },
    {
      "cell_type": "code",
      "execution_count": null,
      "metadata": {
        "id": "SNOLT_JJaZW4"
      },
      "outputs": [],
      "source": [
        "carro = {\n",
        "    'marca': 'Volkswagen',\n",
        "    'modelo': 'Polo',\n",
        "    'ano': 2021,\n",
        "    'ano': 2004\n",
        "}\n",
        "\n",
        "print(carro)"
      ]
    },
    {
      "cell_type": "code",
      "execution_count": null,
      "metadata": {
        "id": "WKSCjhXCbBVg"
      },
      "outputs": [],
      "source": [
        "#------------Dicionário Composto---------------\n",
        "cadastro = {\n",
        "    'helaman': {\n",
        "        'nome': 'HelamanViana',\n",
        "        'ano_nascimento': 2022,\n",
        "        'pais': {\n",
        "            'pai': {\n",
        "                'nome': 'HermanViana',\n",
        "                'ano_nascimento': 1974\n",
        "            },\n",
        "            'mãe': {\n",
        "                'nome': 'CristianeViana',\n",
        "                'ano_nascimento': 1977\n",
        "            },\n",
        "        }\n",
        "    }\n",
        "}\n",
        "\n",
        "print(cadastro)\n",
        "\n",
        "#Econtrar no dicionário\n",
        "cadastro['helaman']['pais']['mãe']['nome']"
      ]
    },
    {
      "cell_type": "code",
      "execution_count": null,
      "metadata": {
        "id": "jMr3croldiS_"
      },
      "outputs": [],
      "source": [
        "#------Dicionarios - Operações------------\n",
        "credito = {'123': 750, '789': 980}\n",
        "\n",
        "score_123 = credito['123']\n",
        "score_789 = credito['789']\n",
        "\n",
        "print(score_123)\n",
        "print(score_789)\n",
        "\n",
        "#adicionar elemento\n",
        "credito['456'] = 1000\n",
        "print(credito)"
      ]
    },
    {
      "cell_type": "code",
      "execution_count": null,
      "metadata": {
        "id": "SDE8wcSJe1tx"
      },
      "outputs": [],
      "source": [
        "#------Outra forma de criar Dicionarios-----------\n",
        "artigo = dict(\n",
        "    titulo='Módulo 2 | Python: Estruturas de Dados',\n",
        "    corpo='Topicos, Aulas, Listas, Conjuntos, Dicionários......',\n",
        "    total_caracteres=1530\n",
        ")\n",
        "\n",
        "print(artigo)\n",
        "\n",
        "#adicionar/mudar/atualoizar um elemento\n",
        "artigo.update({'total_caracteres': 7850})\n",
        "print(artigo)\n",
        "\n",
        "#remover um elemento\n",
        "total_caracteres = artigo.pop('total_caracteres')\n",
        "print(artigo)"
      ]
    },
    {
      "cell_type": "code",
      "execution_count": null,
      "metadata": {
        "id": "hkOfHiH1hAWd"
      },
      "outputs": [],
      "source": [
        "#--------Dicionario - Conversão-------------\n",
        "artigo = dict(\n",
        "    titulo='Módulo 2 | Python: Estruturas de Dados',\n",
        "    corpo='Topicos, Aulas, Listas, Conjuntos, Dicionários......',\n",
        "    total_caracteres=1530\n",
        ")\n",
        "\n",
        "chaves = list(artigo.keys())\n",
        "print(chaves)\n",
        "print(type(chaves))\n",
        "\n",
        "valores = list(artigo.values())\n",
        "print(valores)\n",
        "print(type(valores))"
      ]
    },
    {
      "cell_type": "code",
      "execution_count": null,
      "metadata": {
        "id": "hwNXXaIqYTUg"
      },
      "outputs": [],
      "source": [
        "#----------Dicionário----------------\n",
        "#Motivação\n",
        "wifi_disponiveis = [\"redel\", \"cnx_cnx\", \"uai-fi\", \"r3d3\"]\n",
        "print(wifi_disponiveis)\n",
        "print(type(wifi_disponiveis))"
      ]
    },
    {
      "cell_type": "code",
      "execution_count": null,
      "metadata": {
        "id": "cd5z0xT2icT8"
      },
      "outputs": [],
      "source": [
        "#--------------Dicionários-------------\n",
        "#Motivação\n",
        "wifi_disponiveis = []\n",
        "\n",
        "rede = {'nome': 'redel', 'senha': 'cnx_cnx'}\n",
        "wifi_disponiveis.append(rede)\n",
        "\n",
        "rede = {'nome': 'uai-fi', 'senha': 'r3d3'}\n",
        "wifi_disponiveis.append(rede)\n",
        "\n",
        "print(wifi_disponiveis)"
      ]
    },
    {
      "cell_type": "markdown",
      "metadata": {
        "id": "3DRrn31M6KEi"
      },
      "source": [
        "## Exercicios Módulo 2"
      ]
    },
    {
      "cell_type": "code",
      "execution_count": null,
      "metadata": {
        "id": "Rg5xVjuR6O1z",
        "colab": {
          "base_uri": "https://localhost:8080/"
        },
        "outputId": "668ed4cf-a618-4d35-e3e6-5719aef58e92"
      },
      "outputs": [
        {
          "output_type": "stream",
          "name": "stdout",
          "text": [
            "['Um Sonho de Liberdade', 'O Poderoso Chefão', 'Batman: O Cavaleiro das Trevas', 'O Poderoso Chefão 2', '12 Homens e uma Sentença', 'A Lista de Schindler', 'O Senhor dos Anéis: O Retorno do Rei', 'Pulp Fiction', 'O Senhor dos Anéis: A Sociedade do Anel', 'Três Homens em Conflito']\n",
            "['Batman: O Cavaleiro das Trevas', 'O Poderoso Chefão 2', '12 Homens e uma Sentença', 'A Lista de Schindler', 'O Senhor dos Anéis: O Retorno do Rei', 'Pulp Fiction', 'O Senhor dos Anéis: A Sociedade do Anel', 'Três Homens em Conflito']\n",
            "['O Poderoso Chefão', 'Um Sonho de Liberdade', 'Batman: O Cavaleiro das Trevas', 'O Poderoso Chefão 2', '12 Homens e uma Sentença', 'A Lista de Schindler', 'O Senhor dos Anéis: O Retorno do Rei', 'Pulp Fiction', 'O Senhor dos Anéis: A Sociedade do Anel', 'Três Homens em Conflito']\n"
          ]
        }
      ],
      "source": [
        "#Exercicios\n",
        "filmes = [\n",
        "    'Um Sonho de Liberdade',\n",
        "    'O Poderoso Chefão',\n",
        "    'Batman: O Cavaleiro das Trevas',\n",
        "    'O Poderoso Chefão 2',\n",
        "    '12 Homens e uma Sentença',\n",
        "    'A Lista de Schindler',\n",
        "    'O Senhor dos Anéis: O Retorno do Rei',\n",
        "    'Pulp Fiction',\n",
        "    'O Senhor dos Anéis: A Sociedade do Anel',\n",
        "    'Três Homens em Conflito'\n",
        "]\n",
        "\n",
        "print(filmes)\n",
        "\n",
        "primeiro_filme = filmes.pop(0)\n",
        "segundo_filme = filmes.pop(0)\n",
        "print(filmes)\n",
        "\n",
        "filmes.insert(0, primeiro_filme)\n",
        "filmes.insert(0, segundo_filme)\n",
        "print(filmes)"
      ]
    },
    {
      "cell_type": "code",
      "execution_count": null,
      "metadata": {
        "id": "LpTDLGbV7jqp",
        "colab": {
          "base_uri": "https://localhost:8080/"
        },
        "outputId": "0eedcfc3-3fb8-4835-cdf6-52f3866399bd"
      },
      "outputs": [
        {
          "output_type": "stream",
          "name": "stdout",
          "text": [
            "['Um Sonho de Liberdade', 'O Poderoso Chefão', 'Batman: O Cavaleiro das Trevas', 'O Poderoso Chefão 2', '12 Homens e uma Sentença', 'A Lista de Schindler', 'O Senhor dos Anéis: O Retorno do Rei', 'Pulp Fiction', 'O Senhor dos Anéis: A Sociedade do Anel', 'Três Homens em Conflito', 'Pulp Fiction', 'O Senhor dos Anéis: A Sociedade do Anel', 'Três Homens em Conflito']\n",
            "{'A Lista de Schindler', 'Um Sonho de Liberdade', 'O Senhor dos Anéis: A Sociedade do Anel', 'Pulp Fiction', 'O Poderoso Chefão', '12 Homens e uma Sentença', 'O Poderoso Chefão 2', 'Batman: O Cavaleiro das Trevas', 'Três Homens em Conflito', 'O Senhor dos Anéis: O Retorno do Rei'}\n",
            "['A Lista de Schindler', 'Um Sonho de Liberdade', 'O Senhor dos Anéis: A Sociedade do Anel', 'Pulp Fiction', 'O Poderoso Chefão', '12 Homens e uma Sentença', 'O Poderoso Chefão 2', 'Batman: O Cavaleiro das Trevas', 'Três Homens em Conflito', 'O Senhor dos Anéis: O Retorno do Rei']\n"
          ]
        }
      ],
      "source": [
        "#Exercicio 2\n",
        "filmes = [\n",
        "    'Um Sonho de Liberdade',\n",
        "    'O Poderoso Chefão',\n",
        "    'Batman: O Cavaleiro das Trevas',\n",
        "    'O Poderoso Chefão 2',\n",
        "    '12 Homens e uma Sentença',\n",
        "    'A Lista de Schindler',\n",
        "    'O Senhor dos Anéis: O Retorno do Rei',\n",
        "    'Pulp Fiction',\n",
        "    'O Senhor dos Anéis: A Sociedade do Anel',\n",
        "    'Três Homens em Conflito',\n",
        "    'Pulp Fiction',\n",
        "    'O Senhor dos Anéis: A Sociedade do Anel',\n",
        "    'Três Homens em Conflito'\n",
        "]\n",
        "\n",
        "print(filmes)\n",
        "\n",
        "print(set(filmes))\n",
        "print(list(set(filmes)))"
      ]
    },
    {
      "cell_type": "code",
      "execution_count": null,
      "metadata": {
        "id": "IWSA6Qm988mR"
      },
      "outputs": [],
      "source": [
        "#Exercicio 3 - Lista\n",
        "filme = dict(\n",
        "    nome = 'Um sonho de liberdade',\n",
        "    ano = 1994,\n",
        "    sinopse = 'Dois homens presos se reúnem ao longo de vários anos...'\n",
        ")\n",
        "print(filme)\n",
        "#---------#----------\n",
        "filme = dict(\n",
        "    nome = 'O poderoso chefão',\n",
        "    ano = 1972,\n",
        "    sinopse = 'O patriarca idoso de uma dinastia do crime organizado...'\n",
        ")\n",
        "print(filme)\n",
        "#----------#----------\n",
        "filme = dict(\n",
        "    nome = 'Batman: o cavaleiro das trevas',\n",
        "    ano = 2008,\n",
        "    sinopse = 'Quando a ameaça conhecida como O Coringa surge...'\n",
        ")\n",
        "print(filme)\n",
        "#----------#----------\n",
        "filme = dict(\n",
        "    nome = 'O poderoso chefão II',\n",
        "    ano = 1974,\n",
        "    sinopse = 'Em 1950, Michael Corleone, agora à frente da família, tenta...'\n",
        ")\n",
        "print(filme)\n",
        "#----------#----------\n",
        "filme = dict(\n",
        "    nome = '12 homens e uma sentença',\n",
        "    ano = 1957,\n",
        "    sinopse = 'Um jurado que se aposenta tenta evitar um erro judicial...'\n",
        ")\n",
        "print(filme)\n",
        "#----------#----------\n",
        "filme = dict(\n",
        "    nome = 'A lista de Schindler',\n",
        "    ano = 1993,\n",
        "    sinopse = 'Depois de testemunhar a perseguição dos judaicos na Polônia...'\n",
        ")\n",
        "print(filme)\n",
        "#----------#----------\n",
        "filme = dict(\n",
        "    nome = 'O senhor dos anéis: o retorno do rei',\n",
        "    ano = 2003,\n",
        "    sinopse = 'Gandalf e Aragorn lideram o Mundo dos Homens contra...'\n",
        ")\n",
        "print(filme)\n",
        "#----------#----------\n",
        "filme = dict(\n",
        "    nome = 'Pulp Fiction: tempo de violência',\n",
        "    ano = 1994,\n",
        "    sinopse = 'As vidas de dois assassinos da máfia, um boxeador...'\n",
        ")\n",
        "print(filme)\n",
        "#----------#----------\n",
        "filme = dict(\n",
        "    nome = 'O senhor dos anéis: a sociedade do anél',\n",
        "    ano = 2001,\n",
        "    sinopse = 'Um manso hobbit do Condado e oito companheiros partem...'\n",
        ")\n",
        "print(filme)\n",
        "#----------#----------\n",
        "filme = dict(\n",
        "    nome = 'Três homens em conflito',\n",
        "    ano = 1966,\n",
        "    sinopse = 'Um impostor se junta com dois homens para encontrar fortuna...'\n",
        ")\n",
        "print(filme)"
      ]
    },
    {
      "cell_type": "markdown",
      "metadata": {
        "id": "woeq68CQCSkW"
      },
      "source": [
        "# Módulo 3"
      ]
    },
    {
      "cell_type": "markdown",
      "metadata": {
        "id": "u6Ba45lfCcR5"
      },
      "source": [
        "## Estrutura condicional if / else / elif"
      ]
    },
    {
      "cell_type": "code",
      "execution_count": null,
      "metadata": {
        "id": "QyWFyy0VCdii"
      },
      "outputs": [],
      "source": [
        "#If e Else\n",
        "if True:\n",
        "  print('Verdadeiro')\n",
        "else:\n",
        "  print('Falso')"
      ]
    },
    {
      "cell_type": "code",
      "execution_count": null,
      "metadata": {
        "id": "nzm6BxYfFxJH"
      },
      "outputs": [],
      "source": [
        "#Cadastro do Cliente\n",
        "codigo_seguranca = '827'\n",
        "codigo_seguranca_cadastro = input('Digite sua senha:')\n",
        "\n",
        "efetuar_pagamento = codigo_seguranca == codigo_seguranca_cadastro\n",
        "print(efetuar_pagamento)\n",
        "\n",
        "if efetuar_pagamento:\n",
        "  print('Pagamento efetuado!')\n",
        "else:\n",
        "  print('Pagamento negado!')"
      ]
    },
    {
      "cell_type": "code",
      "execution_count": null,
      "metadata": {
        "id": "6ss9t4WrHI1H"
      },
      "outputs": [],
      "source": [
        "#Cadastro do Cliente Direto\n",
        "codigo_seguranca = '827'\n",
        "codigo_seguranca_cadastro = input('Digite sua senha:')\n",
        "\n",
        "efetuar_pagamento = codigo_seguranca == codigo_seguranca_cadastro\n",
        "#Não há print de efetuar_pagamento\n",
        "if efetuar_pagamento:\n",
        "  print('Pagamento efetuado!')\n",
        "else:\n",
        "  print('Pagamento negado!')"
      ]
    },
    {
      "cell_type": "code",
      "execution_count": null,
      "metadata": {
        "id": "R10LgKMnN_TQ"
      },
      "outputs": [],
      "source": [
        "#Teste código e senha de segurança\n",
        "codigo_seguranca = '123'\n",
        "codigo_seguranca_cadastro = input('Digite o código de segurança:')\n",
        "\n",
        "senha_segurança = '12345'\n",
        "senha_segurança_cadastro = input('Digite sua senha:')\n",
        "\n",
        "if (codigo_seguranca == codigo_seguranca_cadastro) & (senha_segurança == senha_segurança_cadastro):\n",
        "  print('Pagamento efetuado!')\n",
        "else:\n",
        "  print('Erro: pagamento não autorizado!')"
      ]
    },
    {
      "cell_type": "code",
      "execution_count": null,
      "metadata": {
        "id": "ZVCr0I28PZoZ"
      },
      "outputs": [],
      "source": [
        "#Outra forma de fazer\n",
        "if (codigo_seguranca != codigo_seguranca_cadastro) | (senha_segurança != senha_segurança_cadastro):\n",
        "  print('Erro: pagamento não efetuado!')\n",
        "else:\n",
        "  print('Pagamento efetuado!')"
      ]
    },
    {
      "cell_type": "code",
      "execution_count": null,
      "metadata": {
        "id": "7fcYz9ZORQJj"
      },
      "outputs": [],
      "source": [
        "#Teste elif\n",
        "codigo_seguranca = '123'\n",
        "codigo_seguranca_cadastro = input('Digite o código de segurança:')\n",
        "\n",
        "senha_segurança = '12345'\n",
        "senha_segurança_cadastro = input('Digite sua senha:')\n",
        "\n",
        "if (codigo_seguranca == codigo_seguranca_cadastro) & (senha_segurança == senha_segurança_cadastro):\n",
        "  print('Pagamento efetuado!')\n",
        "elif (codigo_seguranca != codigo_seguranca_cadastro) & (senha_segurança == senha_segurança_cadastro):\n",
        "  print('Erro: Código de segurança inválido!')\n",
        "elif (codigo_seguranca == codigo_seguranca_cadastro) & (senha_segurança != senha_segurança_cadastro):\n",
        "  print('Erro: Senha inválida!')\n",
        "else:\n",
        "  print('Erro: Dados cadastrais inválidos1!')"
      ]
    },
    {
      "cell_type": "markdown",
      "metadata": {
        "id": "MqQFlHyKKJy-"
      },
      "source": [
        "## Estrutura condicional try / catch / finally"
      ]
    },
    {
      "cell_type": "markdown",
      "metadata": {
        "id": "fEYq3TuxOS4C"
      },
      "source": [
        "### Erros de Código"
      ]
    },
    {
      "cell_type": "code",
      "execution_count": null,
      "metadata": {
        "id": "jlcHpVPGKTdX"
      },
      "outputs": [],
      "source": [
        "#Exceção: erros que podem ocorrer durante a execução do código\n",
        "\n",
        "#Erro operação numérica\n",
        "preco = 132.85\n",
        "pessoas = 0\n",
        "\n",
        "valor_por_pessoa = preco / pessoas"
      ]
    },
    {
      "cell_type": "code",
      "execution_count": null,
      "metadata": {
        "id": "L6lHPyEcL3en"
      },
      "outputs": [],
      "source": [
        "#Erro por combinação de tipos diferentes\n",
        "nome = 'Helaman'\n",
        "idade = 20\n",
        "\n",
        "apresentacao = 'Fala, pessoal! Meu nome é' + nome + ', e tenho' + idade + 'anos.'"
      ]
    },
    {
      "cell_type": "code",
      "execution_count": null,
      "metadata": {
        "id": "W73aMs01MzkA"
      },
      "outputs": [],
      "source": [
        "#Erro indexação de estrutura de dados\n",
        "anos = [2019, 2020, 2021]\n",
        "ano_atual = anos[3]"
      ]
    },
    {
      "cell_type": "code",
      "execution_count": null,
      "metadata": {
        "id": "9vZ-boJdNZ5o"
      },
      "outputs": [],
      "source": [
        "cursos = {\n",
        "    'Python':{\n",
        "        'nome': 'Python para Análise de Dados', 'Duração': 2.5\n",
        "    },\n",
        "    'SQL':{\n",
        "        'nome': 'SQL para Análise de Dados', 'Duração': 2\n",
        "    }\n",
        "}\n",
        "\n",
        "curso_atual = cursos['Analista']"
      ]
    },
    {
      "cell_type": "markdown",
      "metadata": {
        "id": "ElW2qMOWOZvw"
      },
      "source": [
        "### Try/Except"
      ]
    },
    {
      "cell_type": "code",
      "execution_count": null,
      "metadata": {
        "id": "kSgp4EfJOd9v"
      },
      "outputs": [],
      "source": [
        "preco = 132.85\n",
        "pessoas = 0\n",
        "\n",
        "try:\n",
        "  valor_por_pessoa = preco / pessoas\n",
        "  print(valor_por_pessoa)\n",
        "except ZeroDivisionError:\n",
        "  print('Número de pessoas inválido. Espera-se um valor maior do que ' + str(pessoas) + '.')"
      ]
    },
    {
      "cell_type": "code",
      "execution_count": null,
      "metadata": {
        "id": "jOp2lsfJPzhS"
      },
      "outputs": [],
      "source": [
        "anos = [2019, 2020, 2021]\n",
        "\n",
        "try:\n",
        "  ano_atual = anos[3]\n",
        "  print(ano_atual)\n",
        "except Exception:\n",
        "  print('Lista de anos é maior que valor escolhido. Espera-se um valor entre 0 e ' + str(len(anos) -1) + '.')"
      ]
    },
    {
      "cell_type": "code",
      "execution_count": null,
      "metadata": {
        "id": "JnSJ42bjT7jE"
      },
      "outputs": [],
      "source": [
        "anos = [2019, 2020, 2021]\n",
        "\n",
        "try:\n",
        "  ano_atual = anos[3]\n",
        "  print(ano_atual)\n",
        "except Exception as exc:\n",
        "  print('Descrição da Exceção: ' + str(exc))\n",
        "  print('Tipo da descrição: ' + str(type(exc)))\n",
        "  print('Lista de anos é maior que valor escolhido. Espera-se um valor entre 0 e ' + str(len(anos) -1) + '.')"
      ]
    },
    {
      "cell_type": "code",
      "execution_count": null,
      "metadata": {
        "id": "ib04X3QMUjzT"
      },
      "outputs": [],
      "source": [
        "anos = [2019, 2020, 2021]\n",
        "\n",
        "try:\n",
        "  ano_atual = anos[3]\n",
        "  print(ano_atual)\n",
        "except IndexError:\n",
        "  print('Lista de anos é maior que valor escolhido. Espera-se um valor entre 0 e ' + str(len(anos) -1) + '.')\n",
        "except Exception:\n",
        "  print('Erro genérico.')"
      ]
    },
    {
      "cell_type": "code",
      "execution_count": null,
      "metadata": {
        "id": "STm9gOQdVDxz"
      },
      "outputs": [],
      "source": [
        "#Usando Finally\n",
        "\n",
        "nome = 'Helaman'\n",
        "idade = 20\n",
        "\n",
        "try:\n",
        "  apresentacao = 'Fala, pessoal! Meu nome é ' + nome + ' e tenho ' + idade + ' anos.'\n",
        "  print(apresentacao)\n",
        "except TypeError:\n",
        "  idade = str(idade)\n",
        "finally:\n",
        "  print('Segunda chance')\n",
        "  apresentacao = 'Fala, pessoal! Meu nome é ' + nome + ' e tenho ' + idade + ' anos.'\n",
        "  print(apresentacao)"
      ]
    },
    {
      "cell_type": "markdown",
      "metadata": {
        "id": "93rh3l5I7qe3"
      },
      "source": [
        "## Estrutura de repetição for / in\n",
        "### for / in / range\n",
        "### for / in / list\n",
        "### for / in / dict"
      ]
    },
    {
      "cell_type": "code",
      "execution_count": null,
      "metadata": {
        "id": "yGLTTrlG7uWX"
      },
      "outputs": [],
      "source": [
        "# for / in\n",
        "c = ['a', 'b', 'c']\n",
        "for char in c:\n",
        "  print(char)"
      ]
    },
    {
      "cell_type": "code",
      "execution_count": null,
      "metadata": {
        "id": "ar7lKvO79V_g"
      },
      "outputs": [],
      "source": [
        "#for / in / range\n",
        "for valor in range(6):\n",
        "  print(valor)"
      ]
    },
    {
      "cell_type": "code",
      "execution_count": null,
      "metadata": {
        "id": "cD6rcWih-JUo"
      },
      "outputs": [],
      "source": [
        "soma = 0\n",
        "\n",
        "for valor in range(0, 10):\n",
        "  soma = soma + valor\n",
        "  print(soma)"
      ]
    },
    {
      "cell_type": "code",
      "execution_count": null,
      "metadata": {
        "id": "BwNGW8fx_jeJ"
      },
      "outputs": [],
      "source": [
        "for multiplo_dois in range(0, 11, 2):\n",
        "  print(multiplo_dois)"
      ]
    },
    {
      "cell_type": "code",
      "execution_count": null,
      "metadata": {
        "id": "N6CNOlh5AUeq"
      },
      "outputs": [],
      "source": [
        "# for / in / list\n",
        "frutas = ['maçã', 'banana', 'laranja', 'uva', 'pera']\n",
        "\n",
        "for fruta in frutas:\n",
        "  print(fruta)"
      ]
    },
    {
      "cell_type": "code",
      "execution_count": null,
      "metadata": {
        "id": "Ca1ZJcSCA-Pw"
      },
      "outputs": [],
      "source": [
        "frase = 'Fala, pessoal! Meu nome é Helaman Viana.'\n",
        "\n",
        "for caracter in frase:\n",
        "  if (caracter == 'F') | (caracter == 'H'):\n",
        "    print(f'A letra: {caracter} está presente na frase.')"
      ]
    },
    {
      "cell_type": "code",
      "execution_count": null,
      "metadata": {
        "id": "N-AJ0fuKCw3q"
      },
      "outputs": [],
      "source": [
        "# for / in / dict\n",
        "credito = {'123': 750, '456': 812, '789': 980}\n",
        "\n",
        "for chave, valor in credito.items():\n",
        "  print(f'Para o documento {chave}, o valor de escore é {valor}.')"
      ]
    },
    {
      "cell_type": "code",
      "execution_count": null,
      "metadata": {
        "id": "BrvxXaBFECNI"
      },
      "outputs": [],
      "source": [
        "for chave in credito.keys():\n",
        "  print(chave)\n",
        "  print(credito[chave])\n",
        "  print(f'Para o documento {chave}, o valor de escore é {credito[chave]}.')"
      ]
    },
    {
      "cell_type": "code",
      "execution_count": null,
      "metadata": {
        "id": "bJl6F6ItE5lT"
      },
      "outputs": [],
      "source": [
        "for valor in credito.values():\n",
        "  print(valor)\n",
        "  print(f'O valor de escore é {valor}, mas não há documento.')"
      ]
    },
    {
      "cell_type": "markdown",
      "metadata": {
        "id": "onhzI9mcKnQR"
      },
      "source": [
        "## Break e Continue"
      ]
    },
    {
      "cell_type": "code",
      "execution_count": null,
      "metadata": {
        "id": "4msqH7a1gFgW"
      },
      "outputs": [],
      "source": []
    },
    {
      "cell_type": "code",
      "execution_count": null,
      "metadata": {
        "id": "7r07s-ZIKrv4"
      },
      "outputs": [],
      "source": [
        "for i in range(0, 10*10*10*10*10):\n",
        "  print(i)\n",
        "  if i == 10:\n",
        "    break"
      ]
    },
    {
      "cell_type": "code",
      "execution_count": null,
      "metadata": {
        "id": "cpQFV2MjLDuP"
      },
      "outputs": [],
      "source": [
        "numero = 10\n",
        "\n",
        "if numero % 2 == 0:\n",
        "  print(f'O número {numero} é par.')\n",
        "else:\n",
        "  print(f'O número {numero} é ímpar.')"
      ]
    },
    {
      "cell_type": "code",
      "execution_count": null,
      "metadata": {
        "id": "ntB8BZ3gL0c4"
      },
      "outputs": [],
      "source": [
        "numeros = [361, 553, 13, 194, 510, 135]\n",
        "\n",
        "for numero in numeros:\n",
        "  if numero % 2 == 0:\n",
        "    print(f'O número {numero} é par.')\n",
        "    break\n",
        "  else:\n",
        "    print(f'O número {numero} é ímpar.')"
      ]
    },
    {
      "cell_type": "code",
      "execution_count": null,
      "metadata": {
        "id": "Y-DH-dT9M9yQ"
      },
      "outputs": [],
      "source": [
        "numeros = [361, 553, 13, 194, 510, 135]\n",
        "\n",
        "for numero in numeros:\n",
        "  if numero % 2 == 0:\n",
        "    print(f'O número {numero} é par.')\n",
        "    break\n",
        "  else:\n",
        "    continue\n",
        "    print(f'O número {numero} é ímpar.')"
      ]
    },
    {
      "cell_type": "markdown",
      "metadata": {
        "id": "7QaDJnjIPYf4"
      },
      "source": [
        "## Exercícios Módulo 3"
      ]
    },
    {
      "cell_type": "code",
      "execution_count": null,
      "metadata": {
        "id": "tHIpsSMxPg9n"
      },
      "outputs": [],
      "source": [
        "propaganda_online = [\n",
        "  {'tempo_gasto_site': 68.95, 'idade': 35, 'renda_area': 61833.90, 'tempo_gasto_internet': 256.09, 'cidade': 'Wrightburgh', 'pais': 'Tunisia', 'clicou_no_ad': 0},\n",
        "  {'tempo_gasto_site': 80.23, 'idade': 31, 'renda_area': 68441.85, 'tempo_gasto_internet': 193.77, 'cidade': 'West Jodi', 'pais': 'Nauru', 'clicou_no_ad': 0},\n",
        "  {'tempo_gasto_site': 69.47, 'idade': 26, 'renda_area': 59785.94, 'tempo_gasto_internet': 236.50, 'cidade': 'Davidton', 'pais': 'San Marino', 'clicou_no_ad': 0},\n",
        "  {'tempo_gasto_site': 68.37, 'idade': 35, 'renda_area': 73889.99, 'tempo_gasto_internet': 225.58, 'cidade': 'South Manuel', 'pais': 'Iceland', 'clicou_no_ad': 0},\n",
        "  {'tempo_gasto_site': 88.91, 'idade': 33, 'renda_area': 53852.85, 'tempo_gasto_internet': 208.36, 'cidade': 'Brandonstad', 'pais': 'Myanmar', 'clicou_no_ad': 0},\n",
        "  {'tempo_gasto_site': None, 'idade': 48, 'renda_area': 24593.33, 'tempo_gasto_internet': 131.76, 'cidade': 'Port Jefferybury', 'pais': 'Australia', 'clicou_no_ad': 1},\n",
        "  {'tempo_gasto_site': 74.53, 'idade': 30, 'renda_area': 68862.00, 'tempo_gasto_internet': 221.51, 'cidade': 'West Colin', 'pais': 'Grenada'},\n",
        "  {'tempo_gasto_site': 69.88, 'idade': 20, 'renda_area': 55642.32, 'tempo_gasto_internet': 183.82, 'cidade': 'Ramirezton', 'pais': 'Ghana', 'clicou_no_ad': 0}\n",
        "]"
      ]
    },
    {
      "cell_type": "code",
      "execution_count": null,
      "metadata": {
        "id": "uyCDvtXTWBiA",
        "colab": {
          "base_uri": "https://localhost:8080/"
        },
        "outputId": "40eeb7ac-74df-40a2-d497-466a33d17817"
      },
      "outputs": [
        {
          "output_type": "stream",
          "name": "stdout",
          "text": [
            "Tempo gasto no site: 68.95\n",
            "Tempo gasto no site: 80.23\n",
            "Tempo gasto no site: 69.47\n",
            "Tempo gasto no site: 68.37\n",
            "Tempo gasto no site: 88.91\n",
            "Tempo gasto no site: None\n",
            "Tempo gasto no site: 74.53\n",
            "Tempo gasto no site: 69.88\n",
            "\n",
            "Idade de Usuários: 35\n",
            "Idade de Usuários: 31\n",
            "Idade de Usuários: 26\n",
            "Idade de Usuários: 35\n",
            "Idade de Usuários: 33\n",
            "Idade de Usuários: 48\n",
            "Idade de Usuários: 30\n",
            "Idade de Usuários: 20\n"
          ]
        }
      ],
      "source": [
        "#Exercício 1\n",
        "for dado_de_usuario in propaganda_online:\n",
        "    print('Tempo gasto no site:', dado_de_usuario['tempo_gasto_site'])\n",
        "\n",
        "print()\n",
        "\n",
        "for dado_de_usuario in propaganda_online:\n",
        "    print('Idade de Usuários:', dado_de_usuario['idade'])"
      ]
    },
    {
      "cell_type": "code",
      "execution_count": null,
      "metadata": {
        "id": "VAbx17feWJI_",
        "colab": {
          "base_uri": "https://localhost:8080/"
        },
        "outputId": "9c696a6e-f3c4-4562-e831-823855137ff3"
      },
      "outputs": [
        {
          "output_type": "stream",
          "name": "stdout",
          "text": [
            "A cidade: Wrightburgh, teve mais que 200 horas gastas na internet.\n",
            "A cidade: Davidton, teve mais que 200 horas gastas na internet.\n",
            "A cidade: South Manuel, teve mais que 200 horas gastas na internet.\n",
            "A cidade: Brandonstad, teve mais que 200 horas gastas na internet.\n",
            "A cidade: West Colin, teve mais que 200 horas gastas na internet.\n"
          ]
        }
      ],
      "source": [
        "#Exercício 2\n",
        "for dado_de_usuario in propaganda_online:\n",
        "    if dado_de_usuario['tempo_gasto_internet'] >= 200:\n",
        "      print('A cidade: ' + dado_de_usuario['cidade'] + ', teve mais que 200 horas gastas na internet.')"
      ]
    },
    {
      "cell_type": "code",
      "execution_count": null,
      "metadata": {
        "id": "y75EP3YgY9HY",
        "colab": {
          "base_uri": "https://localhost:8080/"
        },
        "outputId": "b671b082-5387-440a-e090-fbf512dca59b"
      },
      "outputs": [
        {
          "output_type": "stream",
          "name": "stdout",
          "text": [
            "A cidade: West Jodi, teve mais de 70 horas gastas no site.\n",
            "A cidade: Brandonstad, teve mais de 70 horas gastas no site.\n",
            "Chave \"tempo_gasto_site\" não encontrada no dicionário.\n",
            "A cidade: West Colin, teve mais de 70 horas gastas no site.\n"
          ]
        }
      ],
      "source": [
        "#Exercício 3\n",
        "for dado_de_usuario in propaganda_online:\n",
        "  try:\n",
        "    if dado_de_usuario['tempo_gasto_site'] >= 70:\n",
        "      print('A cidade: ' + dado_de_usuario['cidade'] + ', teve mais de 70 horas gastas no site.')\n",
        "  except KeyError and TypeError:\n",
        "    print('Chave \"tempo_gasto_site\" não encontrada no dicionário.')"
      ]
    },
    {
      "cell_type": "markdown",
      "metadata": {
        "id": "twIQmMSJqhN0"
      },
      "source": [
        "# Módulo 4"
      ]
    },
    {
      "cell_type": "markdown",
      "metadata": {
        "id": "SnfJIbRczDwb"
      },
      "source": [
        "## With / Open / Read / Readline"
      ]
    },
    {
      "cell_type": "code",
      "execution_count": null,
      "metadata": {
        "colab": {
          "base_uri": "https://localhost:8080/"
        },
        "id": "mXHtheyErAoD",
        "outputId": "c7f9f20b-43fd-4a1f-f01f-72b532e0e764"
      },
      "outputs": [
        {
          "name": "stdout",
          "output_type": "stream",
          "text": [
            "Writing banco.csv\n"
          ]
        }
      ],
      "source": [
        "%%writefile banco.csv\n",
        "age,job,marital,education,default,balance,housing,loan\n",
        "30,unemployed,married,primary,no,1787,no,no\n",
        "33,services,married,secondary,no,4789,yes,yes\n",
        "35,management,single,tertiary,no,1350,yes,no\n",
        "30,management,married,tertiary,no,1476,yes,yes\n",
        "59,blue-collar,married,secondary,no,0,yes,no\n",
        "35,management,single,tertiary,no,747,no,no\n",
        "36,self-employed,married,tertiary,no,307,yes,no\n",
        "39,technician,married,secondary,no,147,yes,no\n",
        "41,entrepreneur,married,tertiary,no,221,yes,no\n",
        "43,services,married,primary,no,-88,yes,yes"
      ]
    },
    {
      "cell_type": "code",
      "execution_count": null,
      "metadata": {
        "id": "7UG5vFN3rMla"
      },
      "outputs": [],
      "source": [
        "# With / Open\n",
        "#Exemplo\n",
        "with open(file='<caminho do arquivo>', mode='<modo de leitura>', encoding='<decodificador>') as <apelido>:\n",
        " bloco de código"
      ]
    },
    {
      "cell_type": "code",
      "execution_count": null,
      "metadata": {
        "id": "mwzAhfe_sfci"
      },
      "outputs": [],
      "source": [
        "#With / Open / Read\n",
        "conteudo = None\n",
        "\n",
        "with open(file='./banco.csv', mode='r', encoding='utf8') as arquivo:\n",
        "  conteudo = arquivo.read()\n",
        "\n",
        "print(conteudo)"
      ]
    },
    {
      "cell_type": "code",
      "execution_count": null,
      "metadata": {
        "id": "NtR8ImgLuFz8"
      },
      "outputs": [],
      "source": [
        "#With / Open / Readline\n",
        "conteudo = []\n",
        "\n",
        "with open(file='./banco.csv', mode='r', encoding='utf8') as arquivo:\n",
        "  linha = arquivo.readline() #Lê a primeira linha\n",
        "  while linha:\n",
        "    conteudo.append(linha)\n",
        "    linha = arquivo.readline() #Lê uma nova linha\n",
        "\n",
        "print(conteudo)"
      ]
    },
    {
      "cell_type": "code",
      "execution_count": null,
      "metadata": {
        "id": "advAhQ61vjQi"
      },
      "outputs": [],
      "source": [
        "#Imprimir linha a linha\n",
        "for linha in conteudo:\n",
        "  print(linha)"
      ]
    },
    {
      "cell_type": "code",
      "execution_count": null,
      "metadata": {
        "id": "mvFqX4yywGVy"
      },
      "outputs": [],
      "source": [
        "#Imprimir informação específica desejada\n",
        "\n",
        "idades = []\n",
        "\n",
        "with open(file='./banco.csv', mode='r', encoding='utf8') as arquivo:\n",
        "  linha = arquivo.readline()\n",
        "  linha = arquivo.readline()\n",
        "\n",
        "  while linha:\n",
        "    linha_separada = linha.split(sep=',')\n",
        "    idade = linha_separada[0]\n",
        "    idade = int(idade)\n",
        "    idades.append(idade)\n",
        "    linha = arquivo.readline()\n",
        "\n",
        "print(idades)"
      ]
    },
    {
      "cell_type": "markdown",
      "metadata": {
        "id": "xjd37CQYjgTO"
      },
      "source": [
        "## Escrever arquivos"
      ]
    },
    {
      "cell_type": "code",
      "execution_count": null,
      "metadata": {
        "id": "VCBoFQfKjm7_"
      },
      "outputs": [],
      "source": [
        "with open(file='idades.csv', mode='w', encoding='utf8') as fp:\n",
        "  linha = 'idade' + '\\n'\n",
        "  fp.write(linha)\n",
        "  for idade in idades:\n",
        "    linha = str(idade) + '\\n'\n",
        "    fp.write(linha)"
      ]
    },
    {
      "cell_type": "code",
      "execution_count": null,
      "metadata": {
        "id": "1hUW2JsPxgyW"
      },
      "outputs": [],
      "source": [
        "with open(file='idades.csv', mode='a', encoding='utf8') as fp:\n",
        "  for idade in idades:\n",
        "    linha = str(idade + 100) + '\\n'\n",
        "    fp.write(linha)"
      ]
    },
    {
      "cell_type": "markdown",
      "metadata": {
        "id": "oCFB46sSy2Al"
      },
      "source": [
        "Copiando arquivo com extensão diferente"
      ]
    },
    {
      "cell_type": "code",
      "execution_count": null,
      "metadata": {
        "id": "zu3EIrJ0y8YF"
      },
      "outputs": [],
      "source": [
        "%%writefile banco-texto.txt\n",
        "age,job,marital,education,default,balance,housing,loan\n",
        "30,unemployed,married,primary,no,1787,no,no\n",
        "33,services,married,secondary,no,4789,yes,yes\n",
        "35,management,single,tertiary,no,1350,yes,no\n",
        "30,management,married,tertiary,no,1476,yes,yes\n",
        "59,blue-collar,married,secondary,no,0,yes,no\n",
        "35,management,single,tertiary,no,747,no,no\n",
        "36,self-employed,married,tertiary,no,307,yes,no\n",
        "39,technician,married,secondary,no,147,yes,no\n",
        "41,entrepreneur,married,tertiary,no,221,yes,no\n",
        "43,services,married,primary,no,-88,yes,yes"
      ]
    },
    {
      "cell_type": "code",
      "execution_count": null,
      "metadata": {
        "id": "Kit_w_rUzD4-"
      },
      "outputs": [],
      "source": [
        "with open(file='./banco-texto.txt', mode='r', encoding='utf8') as leitura:\n",
        "  with open(file='./banco-csv.csv', mode='w', encoding='utf8') as escrita:\n",
        "    linha = leitura.readline()\n",
        "    while linha:\n",
        "      escrita.write(linha)\n",
        "      linha = leitura.readline()"
      ]
    },
    {
      "cell_type": "markdown",
      "metadata": {
        "id": "IQf71WcS2ltG"
      },
      "source": [
        "### Teste com Ready e Write"
      ]
    },
    {
      "cell_type": "code",
      "execution_count": null,
      "metadata": {
        "colab": {
          "base_uri": "https://localhost:8080/"
        },
        "id": "sFL0GoA32qGN",
        "outputId": "6167d41d-52b2-42f5-bda5-d76a36def662"
      },
      "outputs": [
        {
          "name": "stdout",
          "output_type": "stream",
          "text": [
            "Writing teste.txt\n"
          ]
        }
      ],
      "source": [
        "%%writefile teste.txt\n",
        "1. Pyhton text file\n",
        "2. Remember to hit like\n",
        "3. This is the third line"
      ]
    },
    {
      "cell_type": "code",
      "execution_count": null,
      "metadata": {
        "id": "zRAu68Th2_7V"
      },
      "outputs": [],
      "source": [
        "with open(file='./teste.txt', mode='r', encoding='utf8') as arquivo:\n",
        "  print(arquivo.read())"
      ]
    },
    {
      "cell_type": "code",
      "execution_count": null,
      "metadata": {
        "id": "zgX_VEnF3yXN"
      },
      "outputs": [],
      "source": [
        "with open(file='./teste.txt', mode='r', encoding='utf8') as arquivo:\n",
        "  linha = arquivo.readlines()\n",
        "  print(linha[1])"
      ]
    },
    {
      "cell_type": "markdown",
      "metadata": {
        "id": "G_7vQDgll6aU"
      },
      "source": [
        "## Funções"
      ]
    },
    {
      "cell_type": "markdown",
      "metadata": {
        "id": "_n_59pVcTUNL"
      },
      "source": [
        "## Teste Function"
      ]
    },
    {
      "cell_type": "code",
      "execution_count": null,
      "metadata": {
        "id": "TqkEqQiTTYho"
      },
      "outputs": [],
      "source": [
        "#-----Function------\n",
        "\n",
        "def greet():\n",
        "  name = input('Tell me your name:')\n",
        "  time = input('Tell me what period of the day is now:')\n",
        "  print(f'Good {time}, {name}')\n",
        "  print('\\n')\n",
        "\n",
        "greet()\n",
        "greet()"
      ]
    },
    {
      "cell_type": "code",
      "execution_count": null,
      "metadata": {
        "id": "Dvcz9IieB3_a"
      },
      "outputs": [],
      "source": [
        "def sum(x):\n",
        "  return x + x\n",
        "\n",
        "sum (10)"
      ]
    },
    {
      "cell_type": "code",
      "execution_count": null,
      "metadata": {
        "id": "65pES4lol8VL",
        "colab": {
          "base_uri": "https://localhost:8080/"
        },
        "outputId": "45e995cb-0066-4729-fe10-94b03e988c64"
      },
      "outputs": [
        {
          "output_type": "stream",
          "name": "stdout",
          "text": [
            "Para o valor inicial de R$ 1000.0 e uma taxa de juros anual de 0.05, em 10 você terá R$ 1628.89\n",
            "Para o valor inicial de R$ 1050.0 e uma taxa de juros anual de 0.03, em 1 você terá R$ 1081.5\n"
          ]
        }
      ],
      "source": [
        "valor_inicial, taxa_juros_anual, anos = 1000.00, 0.05, 10\n",
        "def banco_banco():\n",
        "  valor_final = valor_inicial\n",
        "  for ano in range(1, anos+1):\n",
        "    valor_final = valor_final * (1 + taxa_juros_anual)\n",
        "  valor_final = round(valor_final, 2)\n",
        "  print(f'Para o valor inicial de R$ {valor_inicial} e uma taxa de juros anual de {taxa_juros_anual},'\n",
        "    f' em {anos} você terá R$ {valor_final}')\n",
        "\n",
        "banco_banco()\n",
        "\n",
        "valor_inicial, taxa_juros_anual, anos = 1050.00, 0.03, 1\n",
        "banco_banco()"
      ]
    },
    {
      "cell_type": "code",
      "execution_count": null,
      "metadata": {
        "id": "Nw9J7LiNqq37",
        "colab": {
          "base_uri": "https://localhost:8080/"
        },
        "outputId": "475ced77-e4c8-4e41-adf4-f3c0ccb32931"
      },
      "outputs": [
        {
          "output_type": "stream",
          "name": "stdout",
          "text": [
            "Digite seu email:helamsnada@adasd.com\n",
            "Seu nome de usuário é: HELAMSNADA\n",
            "Seu servidor é: ADASD.COM\n"
          ]
        }
      ],
      "source": [
        "email = input('Digite seu email:')\n",
        "\n",
        "def dividirUsuarioSeridor():\n",
        "  emailSeparado = email.split(sep='@')\n",
        "  usuario = emailSeparado[0]\n",
        "  servidor = emailSeparado[1]\n",
        "  print(f'Seu nome de usuário é: {usuario.upper()}')\n",
        "  print(f'Seu servidor é: {servidor.upper()}')\n",
        "\n",
        "dividirUsuarioSeridor()"
      ]
    },
    {
      "cell_type": "markdown",
      "metadata": {
        "id": "I9NdJT-0nmBs"
      },
      "source": [
        "## Exercícios Módulo 4"
      ]
    },
    {
      "cell_type": "code",
      "execution_count": null,
      "metadata": {
        "colab": {
          "base_uri": "https://localhost:8080/"
        },
        "id": "ybxNiEBnn0cg",
        "outputId": "c77ade87-c629-460a-dbd8-4cf311ae957b"
      },
      "outputs": [
        {
          "output_type": "stream",
          "name": "stdout",
          "text": [
            "Writing carros.csv\n"
          ]
        }
      ],
      "source": [
        "%%writefile carros.csv\n",
        "id,valor_venda,valor_manutencao,portas,pessoas,porta_malas\n",
        "1,vhigh,med,2,2,small\n",
        "2,med,vhigh,2,2,small\n",
        "3,low,vhigh,2,2,small\n",
        "4,low,high,2,2,small\n",
        "5,low,high,2,2,small\n",
        "6,low,high,4,4,big\n",
        "7,low,high,4,4,big\n",
        "8,low,med,2,2,small\n",
        "9,low,med,2,2,small\n",
        "10,low,med,2,2,small\n",
        "11,low,med,4,4,big\n",
        "12,low,low,2,2,small\n",
        "13,low,low,4,4,small\n",
        "14,low,low,4,4,med"
      ]
    },
    {
      "cell_type": "code",
      "execution_count": null,
      "metadata": {
        "colab": {
          "base_uri": "https://localhost:8080/"
        },
        "id": "CwQAEWPloH8f",
        "outputId": "411589bc-cd50-44a9-b7ae-8d42ac7e9602"
      },
      "outputs": [
        {
          "output_type": "stream",
          "name": "stdout",
          "text": [
            "Writing musica.txt\n"
          ]
        }
      ],
      "source": [
        "%%writefile musica.txt\n",
        "Roda Viva\n",
        "Chico Buarque\n",
        "\n",
        "Tem dias que a gente se sente\n",
        "Como quem partiu ou morreu\n",
        "A gente estancou de repente\n",
        "Ou foi o mundo então que cresceu\n",
        "A gente quer ter voz ativa\n",
        "No nosso destino mandar\n",
        "Mas eis que chega a roda viva\n",
        "E carrega o destino pra lá\n",
        "\n",
        "Roda mundo, roda-gigante\n",
        "Roda moinho, roda pião\n",
        "\n",
        "O tempo rodou num instante\n",
        "Nas voltas do meu coração\n",
        "A gente vai contra a corrente\n",
        "Até não poder resistir\n",
        "Na volta do barco é que sente\n",
        "O quanto deixou de cumprir\n",
        "Faz tempo que a gente cultiva\n",
        "A mais linda roseira que há\n",
        "Mas eis que chega a roda viva\n",
        "E carrega a roseira pra lá\n",
        "\n",
        "Roda mundo, roda-gigante\n",
        "Roda moinho, roda pião"
      ]
    },
    {
      "cell_type": "code",
      "execution_count": null,
      "metadata": {
        "colab": {
          "base_uri": "https://localhost:8080/"
        },
        "id": "2DZwDLCHoX94",
        "outputId": "f3e78c41-9a50-4b58-a52e-362b9934e5a1"
      },
      "outputs": [
        {
          "output_type": "stream",
          "name": "stdout",
          "text": [
            "Valor de venda do automóvel: VHIGH\n",
            "Valor de venda do automóvel: MED\n",
            "Valor de venda do automóvel: LOW\n",
            "Valor de venda do automóvel: LOW\n",
            "Valor de venda do automóvel: LOW\n",
            "Valor de venda do automóvel: LOW\n",
            "Valor de venda do automóvel: LOW\n",
            "Valor de venda do automóvel: LOW\n",
            "Valor de venda do automóvel: LOW\n",
            "Valor de venda do automóvel: LOW\n",
            "Valor de venda do automóvel: LOW\n",
            "Valor de venda do automóvel: LOW\n",
            "Valor de venda do automóvel: LOW\n",
            "Valor de venda do automóvel: LOW\n"
          ]
        }
      ],
      "source": [
        "#Exercicio 1\n",
        "valor_vendas = []\n",
        "\n",
        "with open(file='./carros.csv', mode='r', encoding='utf8') as arquivo:\n",
        "  linha = arquivo.readline()\n",
        "  linha = arquivo.readline()\n",
        "\n",
        "  while linha:\n",
        "    linha_separada = linha.split(sep=',')\n",
        "    valor_venda = linha_separada[1]\n",
        "    valor_venda = str(valor_venda)\n",
        "    valor_vendas.append(valor_venda)\n",
        "    linha = arquivo.readline()\n",
        "\n",
        "for valor_venda in valor_vendas:\n",
        "  print(f'Valor de venda do automóvel: {valor_venda.upper()}')"
      ]
    },
    {
      "cell_type": "code",
      "execution_count": null,
      "metadata": {
        "id": "niMikHs3tO0o",
        "colab": {
          "base_uri": "https://localhost:8080/"
        },
        "outputId": "a2941b6c-b00c-4620-e00b-5e39155be7ce"
      },
      "outputs": [
        {
          "output_type": "stream",
          "name": "stdout",
          "text": [
            "E carrega o destino pra lá\n",
            "\n"
          ]
        }
      ],
      "source": [
        "#Exercício 2\n",
        "with open(file='./musica.txt', mode='r', encoding='utf8') as arquivoMusica:\n",
        "  linha = arquivoMusica.readlines()\n",
        "  print(linha[10])"
      ]
    },
    {
      "cell_type": "code",
      "execution_count": null,
      "metadata": {
        "id": "aHUwpq2ADDNF",
        "colab": {
          "base_uri": "https://localhost:8080/"
        },
        "outputId": "57e9be4a-1196-4eda-a9b9-fe4edaec421c"
      },
      "outputs": [
        {
          "output_type": "stream",
          "name": "stdout",
          "text": [
            "['E', 'carrega', 'o', 'destino', 'pra', 'lá\\n']\n"
          ]
        }
      ],
      "source": [
        "#Exercício 3\n",
        "with open(file='./musica.txt', mode='r', encoding='utf8') as arquivoMusica:\n",
        "  linha = arquivoMusica.readlines()\n",
        "  print(linha[10].split(sep=' '))"
      ]
    },
    {
      "cell_type": "markdown",
      "metadata": {
        "id": "_KWfnqvGMJZC"
      },
      "source": [
        "# Módulo 5"
      ]
    },
    {
      "cell_type": "markdown",
      "metadata": {
        "id": "YGSswMo7qhF_"
      },
      "source": [
        "## Funcções Lambda"
      ]
    },
    {
      "cell_type": "code",
      "execution_count": null,
      "metadata": {
        "id": "LG52_v5GqkjI"
      },
      "outputs": [],
      "source": [
        "#Normal\n",
        "email = 'helaman@gmail.com'\n",
        "separar = email.split(sep='@')[-1]\n",
        "print(separar)"
      ]
    },
    {
      "cell_type": "code",
      "execution_count": null,
      "metadata": {
        "id": "MB8IeNq-DGxJ",
        "colab": {
          "base_uri": "https://localhost:8080/"
        },
        "outputId": "8233444c-0097-4931-bd80-d727163feff7"
      },
      "outputs": [
        {
          "output_type": "stream",
          "name": "stdout",
          "text": [
            "helaman@gmail.com\n",
            "gmail.com\n",
            "\n",
            "rhamon@gmail.com\n",
            "gmail.com\n"
          ]
        }
      ],
      "source": [
        "#Com Lambda\n",
        "extrair_provedor = lambda email: email.split(sep='@')[-1]\n",
        "email = 'helaman@gmail.com'\n",
        "print(email)\n",
        "\n",
        "provedor_email = extrair_provedor(email)\n",
        "print(provedor_email)\n",
        "\n",
        "print()\n",
        "\n",
        "email = 'rhamon@gmail.com'\n",
        "print(email)\n",
        "provedor_email = extrair_provedor(email)\n",
        "print(provedor_email)"
      ]
    },
    {
      "cell_type": "code",
      "execution_count": null,
      "metadata": {
        "id": "63a7btESEw_6"
      },
      "outputs": [],
      "source": [
        "#número par\n",
        "numero_par = lambda numero: True if numero %2 == 0 else False\n",
        "numeros = range(1, 11)\n",
        "\n",
        "for numero in numeros:\n",
        "  if numero_par(numero) == True:\n",
        "    print(f'O número {numero} é par.')"
      ]
    },
    {
      "cell_type": "code",
      "execution_count": null,
      "metadata": {
        "id": "CJDwqwC9JDAd"
      },
      "outputs": [],
      "source": [
        "#Calcular impostos\n",
        "calcular_imposto = lambda x: x*0.3\n",
        "preco = 1000\n",
        "print(f'O preço é: {preco:.2f}, e seu imposto é: {calcular_imposto(preco):.2f}')"
      ]
    },
    {
      "cell_type": "code",
      "execution_count": null,
      "metadata": {
        "id": "ffWodTD4JtT2"
      },
      "outputs": [],
      "source": [
        "#Calcular imposto de lista de valores\n",
        "lista_precos = [1000, 100, 150, 450, 342, 422, 654]\n",
        "imposto = list(map(lambda x: x*0.3, lista_precos))\n",
        "print(lista_precos)\n",
        "print(imposto)"
      ]
    },
    {
      "cell_type": "code",
      "execution_count": null,
      "metadata": {
        "id": "iAX9gR56Nb5b"
      },
      "outputs": [],
      "source": [
        "#Retorno investimento 5% e 10%\n",
        "def retorno(juros: float):\n",
        "  return lambda investimento: investimento * (1 + juros)\n",
        "\n",
        "retorno_5_porcento = retorno(juros=0.05)\n",
        "retorno_10_porcento = retorno(juros=0.10)\n",
        "\n",
        "valor_final = retorno_5_porcento(investimento=1000)\n",
        "print(f'Valor total com investimento: {valor_final}')\n",
        "\n",
        "valor_final = retorno_10_porcento(investimento=1000)\n",
        "print(f'Valor total com investimento: {valor_final}')"
      ]
    },
    {
      "cell_type": "markdown",
      "metadata": {
        "id": "noPcqUlSNRlm"
      },
      "source": [
        "## Função Map"
      ]
    },
    {
      "cell_type": "code",
      "execution_count": null,
      "metadata": {
        "id": "vTVxBRs6NT5d"
      },
      "outputs": [],
      "source": [
        "#Exemplo Map\n",
        "numeros = [1, 2, 3]\n",
        "numeros_ao_cubo = map(lambda num: num ** 2, numeros)\n",
        "print(list(numeros_ao_cubo))"
      ]
    },
    {
      "cell_type": "code",
      "execution_count": null,
      "metadata": {
        "id": "anBJfaZdOCfW"
      },
      "outputs": [],
      "source": [
        "#Exemplo 2\n",
        "emails = ['helaman@gmail.com', 'helaman@outlook.com', 'helaman@yahoo.com']\n",
        "extrair_email_provedor = lambda email: email.split(sep='@')[-1]\n",
        "\n",
        "provedores = []\n",
        "for email in emails:\n",
        "  provedor = extrair_email_provedor(email)\n",
        "  provedores.append(provedor)\n",
        "\n",
        "print(provedores)"
      ]
    },
    {
      "cell_type": "code",
      "execution_count": null,
      "metadata": {
        "colab": {
          "base_uri": "https://localhost:8080/"
        },
        "id": "cjzgXzvoP1EE",
        "outputId": "47b6a715-515a-486c-d546-bedbb3536c00"
      },
      "outputs": [
        {
          "name": "stdout",
          "output_type": "stream",
          "text": [
            "['gmail.com', 'outlook.com', 'yahoo.com']\n"
          ]
        }
      ],
      "source": [
        "#Exemplo 2 Map\n",
        "emails = ['helaman@gmail.com', 'helaman@outlook.com', 'helaman@yahoo.com']\n",
        "extrair_email_provedor = map(lambda email: email.split(sep='@')[-1], emails)\n",
        "print(list(extrair_email_provedor))"
      ]
    },
    {
      "cell_type": "code",
      "execution_count": null,
      "metadata": {
        "id": "UAX9FGLVROur"
      },
      "outputs": [],
      "source": [
        "#Exemplo Map 3\n",
        "anos = [10, 10, 10]\n",
        "taxas_juros = [0.05, 0.10, 0.15]\n",
        "valores_iniciais = [1000, 1000, 1000]\n",
        "\n",
        "def retorno(valor_inicial: float, taxas_juros: float, anos: int) -> float:\n",
        "  valor_final = valor_inicial\n",
        "  for ano in range(1, anos+1):\n",
        "    valor_final = valor_final * (1 + taxas_juros)\n",
        "  return round(valor_final, 2)\n",
        "\n",
        "cenarios = list(map(retorno, valores_iniciais, taxas_juros, anos))\n",
        "print(cenarios)"
      ]
    },
    {
      "cell_type": "markdown",
      "metadata": {
        "id": "PG0pN2jkZE6Z"
      },
      "source": [
        "## Função Filter"
      ]
    },
    {
      "cell_type": "code",
      "execution_count": null,
      "metadata": {
        "id": "9yKzzbFiZHvH"
      },
      "outputs": [],
      "source": [
        "#Exemplo 1 Filter\n",
        "numeros = [1, 2, 3]\n",
        "numeros_impares = filter(lambda num: num % 2 != 0, numeros)\n",
        "print(list(numeros_impares))"
      ]
    },
    {
      "cell_type": "code",
      "execution_count": null,
      "metadata": {
        "id": "PLEiZhonZt_P"
      },
      "outputs": [],
      "source": [
        "#Exemplo 2 Filter\n",
        "emails = ['helaman@gmail.com', 'helaman@outlook.com', 'helaman@yahoo.com']\n",
        "provedor_google = lambda email: 'gmail' in email\n",
        "\n",
        "emails_google = []\n",
        "for email in emails:\n",
        "  if provedor_google(email) == True:\n",
        "    emails_google.append(email)\n",
        "\n",
        "print(emails_google)"
      ]
    },
    {
      "cell_type": "code",
      "execution_count": null,
      "metadata": {
        "id": "K8iAWAEibjrH"
      },
      "outputs": [],
      "source": [
        "#Teste filter\n",
        "emails = ['helaman@gmail.com', 'helaman@outlook.com', 'helaman@yahoo.com']\n",
        "provedor_google = filter(lambda email: 'gmail' in email, emails)\n",
        "print(list(provedor_google))"
      ]
    },
    {
      "cell_type": "markdown",
      "metadata": {
        "id": "71zW4NSdcuAv"
      },
      "source": [
        "## Função Reduce"
      ]
    },
    {
      "cell_type": "code",
      "execution_count": null,
      "metadata": {
        "id": "6_kMcxwTZrFM"
      },
      "outputs": [],
      "source": [
        "#Exemplo 1\n",
        "numeros = [1, 2, 3]\n",
        "from functools import reduce\n",
        "\n",
        "soma = reduce(lambda x, y: x + y, numeros)\n",
        "print(soma)"
      ]
    },
    {
      "cell_type": "code",
      "execution_count": null,
      "metadata": {
        "id": "DrmsHmb1afhz"
      },
      "outputs": [],
      "source": [
        "#Exemplo 2 - com 'def'\n",
        "def maior_entre(primeiro: int, segundo: int):\n",
        "  return primeiro if primeiro >= segundo else segundo\n",
        "\n",
        "primeiro = 1\n",
        "segundo = 10\n",
        "\n",
        "print(maior_entre(primeiro=primeiro, segundo=segundo))"
      ]
    },
    {
      "cell_type": "code",
      "execution_count": null,
      "metadata": {
        "id": "4vygRwiZbnS1"
      },
      "outputs": [],
      "source": [
        "#Exemplo random\n",
        "from random import random\n",
        "\n",
        "print(random())"
      ]
    },
    {
      "cell_type": "code",
      "execution_count": null,
      "metadata": {
        "id": "iPLyRRsTb3nG"
      },
      "outputs": [],
      "source": [
        "#Exemplo 2 - com 'reduce'\n",
        "from random import random\n",
        "\n",
        "numeros = [round(100 * random()) for _ in range(0, 100)]\n",
        "print(numeros)\n",
        "\n",
        "maior_numero = reduce(lambda n1, n2: n1 if n1 >= n2 else n2, numeros)\n",
        "print(f'Maior número da coleção: {maior_numero}')"
      ]
    },
    {
      "cell_type": "markdown",
      "metadata": {
        "id": "GwtvoNeees8K"
      },
      "source": [
        "## Compossibilidade"
      ]
    },
    {
      "cell_type": "code",
      "execution_count": null,
      "metadata": {
        "id": "oLjdm9LievvB"
      },
      "outputs": [],
      "source": [
        "#Exemplo compossibilidade\n",
        "from random import random\n",
        "\n",
        "numeros = [round(100 * random()) for _ in range(0, 100)]\n",
        "print(numeros)\n",
        "\n",
        "numeros_ao_quadrado = map(lambda num: num ** 2, numeros)\n",
        "#print(list(numeros_ao_quadrado))\n",
        "\n",
        "numeros_impares = filter(lambda num: num % 2 != 0, numeros_ao_quadrado)\n",
        "#print(list(numeros_impares))\n",
        "\n",
        "soma_numeros = reduce(lambda x, y: x + y, numeros_impares)\n",
        "print(soma_numeros)"
      ]
    },
    {
      "cell_type": "code",
      "execution_count": null,
      "metadata": {
        "id": "9RzMaydTiL-C"
      },
      "outputs": [],
      "source": [
        "#Exemplo compossibilidade (compacto)\n",
        "from random import random\n",
        "from functools import reduce\n",
        "\n",
        "numeros = [round(100 * random()) for _ in range(0, 100)]\n",
        "#print(numeros)\n",
        "\n",
        "soma_numeros = reduce(lambda x, y: x + y, filter(lambda num: num % 2 != 0, map(lambda num: num ** 2, numeros)))\n",
        "print(soma_numeros)"
      ]
    },
    {
      "cell_type": "markdown",
      "metadata": {
        "id": "LTCtIaDW0YXF"
      },
      "source": [
        "## Exercicio Proprio Modulo 5\n"
      ]
    },
    {
      "cell_type": "code",
      "execution_count": null,
      "metadata": {
        "colab": {
          "base_uri": "https://localhost:8080/"
        },
        "id": "qaUyU-Rh0cSE",
        "outputId": "027f7dd1-cc80-4f78-857a-88401b760258"
      },
      "outputs": [
        {
          "output_type": "stream",
          "name": "stdout",
          "text": [
            "Writing credito.csv\n"
          ]
        }
      ],
      "source": [
        "%%writefile credito.csv\n",
        "id_vendedor,valor_emprestimos,quantidade_emprestimos,data\n",
        "104271,448.0,1,20161208\n",
        "21476,826.7,3,20161208\n",
        "87440,313.6,3,20161208\n",
        "15980,-8008.0,6,20161208\n",
        "215906,2212.0,5,20161208\n",
        "33696,2771.3,2,20161208\n",
        "33893,2240.0,3,20161208\n",
        "214946,-4151.0,18,20161208\n",
        "123974,2021.95,2,20161208\n",
        "225870,4039.0,2,20161208"
      ]
    },
    {
      "cell_type": "code",
      "execution_count": null,
      "metadata": {
        "id": "X2oVJHeQ0p4s",
        "colab": {
          "base_uri": "https://localhost:8080/"
        },
        "outputId": "b03441ac-4a5f-4b8e-b252-9cb48984256c"
      },
      "outputs": [
        {
          "output_type": "stream",
          "name": "stdout",
          "text": [
            "   id_vendedor  valor_emprestimos  quantidade_emprestimos      data\n",
            "0       104271             448.00                       1  20161208\n",
            "1        21476             826.70                       3  20161208\n",
            "2        87440             313.60                       3  20161208\n",
            "3        15980           -8008.00                       6  20161208\n",
            "4       215906            2212.00                       5  20161208\n",
            "5        33696            2771.30                       2  20161208\n",
            "6        33893            2240.00                       3  20161208\n",
            "7       214946           -4151.00                      18  20161208\n",
            "8       123974            2021.95                       2  20161208\n",
            "9       225870            4039.00                       2  20161208\n",
            "\n",
            "Valor emprestimos:\n",
            "0     448.00\n",
            "1     826.70\n",
            "2     313.60\n",
            "3   -8008.00\n",
            "4    2212.00\n",
            "5    2771.30\n",
            "6    2240.00\n",
            "7   -4151.00\n",
            "8    2021.95\n",
            "9    4039.00\n",
            "Name: valor_emprestimos, dtype: float64\n",
            "\n",
            "Valor total dos emprestimos (geral): 2713.55\n",
            "\n",
            "Números acima de 0 =  [448.0, 826.7, 313.6, 2212.0, 2771.3, 2240.0, 2021.95, 4039.0]\n",
            "\n",
            "Soma dos valores maiores que 0 =  14872.550000000001\n",
            "\n",
            "Média dos valores acima de 0 =  1859.0687500000001\n",
            "Desvio padrão amostral =  1189.8444963884722\n"
          ]
        }
      ],
      "source": [
        "#forma com biblioteca pandas\n",
        "import pandas as pd\n",
        "tabela = pd.read_csv('credito.csv') #Lê arquivo csv\n",
        "print(tabela) #Exibe arquivo csv\n",
        "print()\n",
        "print('Valor emprestimos:')\n",
        "print(tabela['valor_emprestimos']) #Exibe valor_emprestimos do arquivo csv\n",
        "print()\n",
        "print('Valor total dos emprestimos (geral): ' + str(tabela['valor_emprestimos'].sum()))\n",
        "#------------------------------------------------------------------------------------------\n",
        "print()\n",
        "\n",
        "#Numeros maior que zero em 'valor_emprestimos'\n",
        "maior_que_zero = filter(lambda num: num >= 0, tabela['valor_emprestimos'])\n",
        "print('Números acima de 0 = ', list(maior_que_zero))\n",
        "print()\n",
        "\n",
        "#Soma dos valores acima de 0\n",
        "from functools import reduce\n",
        "soma_emprestimo = reduce(lambda x,y: x+ y, filter(lambda num: num >= 0, tabela['valor_emprestimos']))\n",
        "print('Soma dos valores maiores que 0 = ', soma_emprestimo)\n",
        "print()\n",
        "\n",
        "#Média de valores acima de zero\n",
        "import statistics\n",
        "media = statistics.mean(filter(lambda num: num >= 0, tabela['valor_emprestimos']))\n",
        "print('Média dos valores acima de 0 = ', media)\n",
        "\n",
        "#Media desvio padrão\n",
        "desvio_padrao = statistics.pstdev(filter(lambda num: num >= 0, tabela['valor_emprestimos']))\n",
        "print('Desvio padrão amostral = ', desvio_padrao)"
      ]
    },
    {
      "cell_type": "code",
      "execution_count": null,
      "metadata": {
        "id": "KfvPqVEj3CDx",
        "colab": {
          "base_uri": "https://localhost:8080/"
        },
        "outputId": "3652503d-716c-44ef-9452-6d87d26e26f0"
      },
      "outputs": [
        {
          "output_type": "stream",
          "name": "stdout",
          "text": [
            "Soma: 14872.550000000001\n",
            "Média: 1859.0687500000001\n"
          ]
        }
      ],
      "source": [
        "#Teste\n",
        "from functools import reduce\n",
        "numeros =  [448.0, 826.7, 313.6, 2212.0, 2771.3, 2240.0, 2021.95, 4039.0]\n",
        "soma = reduce(lambda x, y: x + y, numeros)\n",
        "print('Soma:', soma)\n",
        "\n",
        "import statistics\n",
        "media = statistics.mean(numeros)\n",
        "print('Média:', media)\n"
      ]
    },
    {
      "cell_type": "code",
      "execution_count": null,
      "metadata": {
        "id": "Pox3yxfieFb0",
        "colab": {
          "base_uri": "https://localhost:8080/"
        },
        "outputId": "cbfefe43-fc05-42ea-a0a4-f78e70fa6c39"
      },
      "outputs": [
        {
          "output_type": "execute_result",
          "data": {
            "text/plain": [
              "1189.8444963884724"
            ]
          },
          "metadata": {},
          "execution_count": 29
        }
      ],
      "source": [
        "#Teste desvio padrão amostral\n",
        "novo = [448.0, 826.7, 313.6, 2212.0, 2771.3, 2240.0, 2021.95, 4039.0]\n",
        "import numpy as np\n",
        "desvio = np.std(novo)\n",
        "desvio\n"
      ]
    },
    {
      "cell_type": "markdown",
      "metadata": {
        "id": "aD2WsSH0UcP7"
      },
      "source": [
        "### Exercicio EBAC - Módulo 5"
      ]
    },
    {
      "cell_type": "code",
      "execution_count": null,
      "metadata": {
        "id": "N89VoOA78Vev",
        "colab": {
          "base_uri": "https://localhost:8080/"
        },
        "outputId": "ab319673-76a9-4a62-9671-ea0cee08f2e1"
      },
      "outputs": [
        {
          "output_type": "stream",
          "name": "stdout",
          "text": [
            "['448.0', '826.7', '313.6', '-8008.0', '2212.0', '2771.3', '2240.0', '-4151.0', '2021.95', '4039.0']\n",
            "[448.0, 826.7, 313.6, -8008.0, 2212.0, 2771.3, 2240.0, -4151.0, 2021.95, 4039.0]\n",
            "Números acima de 0 =  [448.0, 826.7, 313.6, 2212.0, 2771.3, 2240.0, 2021.95, 4039.0]\n",
            "Soma de valores =  14872.550000000001\n",
            "Média dos valores acima de 0 =  1859.0687500000001\n",
            "Desvio padrão amostral =  1189.8444963884722\n"
          ]
        }
      ],
      "source": [
        "import csv\n",
        "arquivo = open('./credito.csv')\n",
        "\n",
        "novo = csv.DictReader(arquivo, delimiter=',')\n",
        "abrir = list(map(lambda x: x.get('valor_emprestimos'), novo))\n",
        "print(abrir)\n",
        "\n",
        "float_lst = []\n",
        "for item in abrir:\n",
        "    float_lst.append(float(item))\n",
        "print(float_lst)\n",
        "\n",
        "maior_que_zero = filter(lambda num: num >= 0, float_lst)\n",
        "print('Números acima de 0 = ', list(maior_que_zero))\n",
        "\n",
        "from functools import reduce\n",
        "soma_emprestimos = reduce(lambda x,y: x+y, filter(lambda num: num >= 0, float_lst))\n",
        "print('Soma de valores = ', soma_emprestimos)\n",
        "\n",
        "import statistics\n",
        "media = statistics.mean(filter(lambda num: num >= 0, float_lst))\n",
        "print('Média dos valores acima de 0 = ', media)\n",
        "\n",
        "desvio_padrao = statistics.pstdev(filter(lambda num: num >= 0, float_lst))\n",
        "print('Desvio padrão amostral = ', desvio_padrao)\n"
      ]
    },
    {
      "cell_type": "markdown",
      "metadata": {
        "id": "QUV5h7CNASeu"
      },
      "source": [
        "# Módulo 6 - Orientado a Obejeto"
      ]
    },
    {
      "cell_type": "code",
      "execution_count": null,
      "metadata": {
        "id": "pN55Blv0czOP"
      },
      "outputs": [],
      "source": [
        "#Definição de Classe\n",
        "class Pessoa(object):\n",
        "  def __init__(self):\n",
        "    pass"
      ]
    },
    {
      "cell_type": "code",
      "execution_count": null,
      "metadata": {
        "id": "9Ue2-cShdCrx"
      },
      "outputs": [],
      "source": [
        "class Pessoa(object):\n",
        "  def __init__(self, nome: str, idade: int, documento: str):\n",
        "    self.nome = nome\n",
        "    self.idade = idade\n",
        "    self.documento = documento\n"
      ]
    },
    {
      "cell_type": "code",
      "execution_count": null,
      "metadata": {
        "id": "FE9k0ZhpeG1_"
      },
      "outputs": [],
      "source": [
        "from time import sleep\n",
        "\n",
        "class Pessoa(object):\n",
        "  def __init__(self, nome: str, idade: int, documento: str = None):\n",
        "    self.nome = nome\n",
        "    self.idade = idade\n",
        "    self.documento = documento\n",
        "\n",
        "  def dormir(self, horas: int) -> None:\n",
        "    for hora in range(1, horas+1):\n",
        "      print(f'Dormindo por {hora} horas.')\n",
        "      sleep(1.5)\n",
        "\n",
        "  def falar(self, texto:str) -> None:\n",
        "    print(texto)\n",
        "\n",
        "  def __str__(self) -> str:\n",
        "    return f'{self.nome}, {self.idade} anos e documento número {self.documento}.'"
      ]
    },
    {
      "cell_type": "code",
      "execution_count": null,
      "metadata": {
        "id": "_9xtEh8vgog_"
      },
      "outputs": [],
      "source": [
        "helaman = Pessoa(nome='Helaman Viana', idade=20, documento='123')\n",
        "rhamon = Pessoa(nome='Rhamon Viana', idade=16, documento='456')\n",
        "cristiane = Pessoa(nome='Cristiane de Sousa', idade=45, documento='789')\n",
        "herman = Pessoa(nome='Herman Bernardo', idade=49)"
      ]
    },
    {
      "cell_type": "code",
      "execution_count": null,
      "metadata": {
        "id": "65YVsBjzhtnu"
      },
      "outputs": [],
      "source": [
        "print(helaman.nome)"
      ]
    },
    {
      "cell_type": "code",
      "execution_count": null,
      "metadata": {
        "id": "vYte45t8hyAQ"
      },
      "outputs": [],
      "source": [
        "def maiorIdade(idade:int) -> bool:\n",
        "  return idade >= 18\n",
        "\n",
        "if maiorIdade(idade=helaman.idade):\n",
        "  print(f'{helaman.nome} é maior de idade, pois tem {helaman.idade} de idade.')"
      ]
    },
    {
      "cell_type": "code",
      "execution_count": null,
      "metadata": {
        "id": "MtcHfqBfist2"
      },
      "outputs": [],
      "source": [
        "scoreCredito = {'123': 750, '456': 812, '789': 327}\n",
        "\n",
        "score = scoreCredito[helaman.documento]\n",
        "print(f'Score de {helaman.nome} é: {score}')"
      ]
    },
    {
      "cell_type": "code",
      "execution_count": null,
      "metadata": {
        "id": "JIr2qBoFjjaW"
      },
      "outputs": [],
      "source": [
        "helaman.dormir(horas=5)"
      ]
    },
    {
      "cell_type": "code",
      "execution_count": null,
      "metadata": {
        "id": "77pQH6zZjoPg"
      },
      "outputs": [],
      "source": [
        "helaman.falar(texto='Bom dia!')"
      ]
    },
    {
      "cell_type": "code",
      "execution_count": null,
      "metadata": {
        "id": "Tn6mz58fkf1O"
      },
      "outputs": [],
      "source": [
        "print(helaman)"
      ]
    },
    {
      "cell_type": "code",
      "execution_count": null,
      "metadata": {
        "id": "K2j5dz8gkie-"
      },
      "outputs": [],
      "source": [
        "print(type(helaman))"
      ]
    },
    {
      "cell_type": "markdown",
      "metadata": {
        "id": "W5vcwROsmM1O"
      },
      "source": [
        "## Exemplos"
      ]
    },
    {
      "cell_type": "code",
      "execution_count": null,
      "metadata": {
        "id": "jV-r9twKmO99"
      },
      "outputs": [],
      "source": [
        "tipos =[type(10), type(1.1), type('EBAC'), type(True), type(None), type([1, 2, 3]), type({1, 2, 3}), type({'janeiro': 1}), type(lambda x: x)]"
      ]
    },
    {
      "cell_type": "code",
      "execution_count": null,
      "metadata": {
        "id": "DoUSbawTm4NE"
      },
      "outputs": [],
      "source": [
        "for tipo in tipos:\n",
        "  print(tipo)"
      ]
    },
    {
      "cell_type": "code",
      "execution_count": null,
      "metadata": {
        "id": "-t_xQzLTnaut"
      },
      "outputs": [],
      "source": [
        "nome = 'Helaman Viana'\n",
        "print(nome.upper())"
      ]
    },
    {
      "cell_type": "code",
      "execution_count": null,
      "metadata": {
        "id": "qjaHHp4QnfFM"
      },
      "outputs": [],
      "source": [
        "juros = [0.02, 0.07, 0.15]\n",
        "print(juros.pop(1))"
      ]
    },
    {
      "cell_type": "markdown",
      "metadata": {
        "id": "p4Ebrl5Hozsl"
      },
      "source": [
        "## Exemplo prático"
      ]
    },
    {
      "cell_type": "code",
      "execution_count": null,
      "metadata": {
        "id": "pYEDAPYio3Qt"
      },
      "outputs": [],
      "source": [
        "class ArquivoCSV(object):\n",
        "  def __init__(self, arquivo: str):\n",
        "    self.arquivo = arquivo\n",
        "    self.conteudo = self._extrair_conteudo()\n",
        "    self.colunas = self._extrair_nome_colunas()\n",
        "\n",
        "  def _extrair_conteudo(self):\n",
        "    conteudo = None\n",
        "    with open(file=self.arquivo, mode='r', encoding='utf8') as arquivo:\n",
        "      conteudo = arquivo.readlines()\n",
        "    return conteudo\n",
        "\n",
        "  def _extrair_nome_colunas(self):\n",
        "    return self.conteudo[0].strip().split(sep=',')\n",
        "\n",
        "  def extrair_coluna(self, indice_coluna: str):\n",
        "    coluna = list()\n",
        "    for linha in self.conteudo:\n",
        "      conteudo_linha = linha.strip().split(sep=',')\n",
        "      coluna.append(conteudo_linha[indice_coluna])\n",
        "    coluna.pop(0)\n",
        "    return coluna"
      ]
    },
    {
      "cell_type": "code",
      "execution_count": null,
      "metadata": {
        "colab": {
          "base_uri": "https://localhost:8080/"
        },
        "id": "QUE1jAbzpywd",
        "outputId": "554345c2-e349-41b8-f1b4-a431595d6511"
      },
      "outputs": [
        {
          "name": "stdout",
          "output_type": "stream",
          "text": [
            "Overwriting banco.csv\n"
          ]
        }
      ],
      "source": [
        "%%writefile banco.csv\n",
        "age,job,marital,education,default,balance,housing,loan\n",
        "30,unemployed,married,primary,no,1787,no,no\n",
        "33,services,married,secondary,no,4789,yes,yes\n",
        "35,management,single,tertiary,no,1350,yes,no\n",
        "30,management,married,tertiary,no,1476,yes,yes\n",
        "59,blue-collar,married,secondary,no,0,yes,no\n",
        "35,management,single,tertiary,no,747,no,no\n",
        "36,self-employed,married,tertiary,no,307,yes,no\n",
        "39,technician,married,secondary,no,147,yes,no\n",
        "41,entrepreneur,married,tertiary,no,221,yes,no\n",
        "43,services,married,primary,no,-88,yes,yes"
      ]
    },
    {
      "cell_type": "code",
      "execution_count": null,
      "metadata": {
        "id": "8XcfPiGsrS9M"
      },
      "outputs": [],
      "source": [
        "arquivo_banco = ArquivoCSV(arquivo='./banco.csv')"
      ]
    },
    {
      "cell_type": "code",
      "execution_count": null,
      "metadata": {
        "id": "LY-hHbrksXBG"
      },
      "outputs": [],
      "source": [
        "print(arquivo_banco.colunas)"
      ]
    },
    {
      "cell_type": "code",
      "execution_count": null,
      "metadata": {
        "id": "kc8vU4imyDnV"
      },
      "outputs": [],
      "source": [
        "#Extraindo coluna job\n",
        "job = arquivo_banco.extrair_coluna(indice_coluna=1)\n",
        "print(job)"
      ]
    },
    {
      "cell_type": "code",
      "execution_count": null,
      "metadata": {
        "id": "kPMoGyoxyGhb"
      },
      "outputs": [],
      "source": [
        "#Extraindo coluna education\n",
        "education = arquivo_banco.extrair_coluna(indice_coluna=3)\n",
        "print(education)\n",
        "print()\n",
        "for edu in education:\n",
        "  print(edu)"
      ]
    },
    {
      "cell_type": "markdown",
      "metadata": {
        "id": "5JkVxtQ3r4A-"
      },
      "source": [
        "## Heranças"
      ]
    },
    {
      "cell_type": "code",
      "execution_count": null,
      "metadata": {
        "id": "ukTrpBher6jm"
      },
      "outputs": [],
      "source": [
        "from time import sleep\n",
        "\n",
        "class Pessoa(object):\n",
        "  def __init__(self, nome: str, idade: int, documento: str = None):\n",
        "    self.nome = nome\n",
        "    self.idade = idade\n",
        "    self.documento = documento\n",
        "\n",
        "  def dormir(self, horas: int) -> None:\n",
        "    for hora in range(1, horas+1):\n",
        "      print(f'Dormindo por {hora} horas.')\n",
        "      sleep(1)\n",
        "\n",
        "  def falar(self, texto:str) -> None:\n",
        "    print(texto)\n",
        "\n",
        "  def __str__(self) -> str:\n",
        "    return f'{self.nome}, {self.idade} anos e documento número {self.documento}.'"
      ]
    },
    {
      "cell_type": "code",
      "execution_count": null,
      "metadata": {
        "id": "Sz--i4wOsBFO"
      },
      "outputs": [],
      "source": [
        "#Criando classe universidade\n",
        "\n",
        "class Universidade(object):\n",
        "  def __init__(self, nome: str):\n",
        "    self.nome = nome"
      ]
    },
    {
      "cell_type": "code",
      "execution_count": null,
      "metadata": {
        "id": "Ij4TA4tcshju"
      },
      "outputs": [],
      "source": [
        "#Criar classe estudante\n",
        "class Estudante(Pessoa):\n",
        "  def __init__(self, nome: str, idade: int, documento: str, universidade: Universidade):\n",
        "    super().__init__(nome=nome, idade=idade, documento=documento)\n",
        "    self.universidade = universidade"
      ]
    },
    {
      "cell_type": "code",
      "execution_count": null,
      "metadata": {
        "id": "DMlvTx18tQPd"
      },
      "outputs": [],
      "source": [
        "ebac = Universidade(nome='EBAC - Escola Britânica de Artes e Tecnlogia')\n",
        "helaman = Estudante(nome='Helaman Viana', idade=20, documento='123', universidade=ebac)"
      ]
    },
    {
      "cell_type": "code",
      "execution_count": null,
      "metadata": {
        "id": "lwU65npc5E37"
      },
      "outputs": [],
      "source": [
        "print(helaman)"
      ]
    },
    {
      "cell_type": "code",
      "execution_count": null,
      "metadata": {
        "id": "nNGkGjDN5JPd"
      },
      "outputs": [],
      "source": [
        "print(helaman.universidade.nome)"
      ]
    },
    {
      "cell_type": "markdown",
      "metadata": {
        "id": "da2njqoU6FEg"
      },
      "source": [
        "## Exemplo Aluno"
      ]
    },
    {
      "cell_type": "code",
      "execution_count": null,
      "metadata": {
        "id": "_J_Gsnk66Hy8"
      },
      "outputs": [],
      "source": [
        "from time import sleep\n",
        "class Pessoa(object):\n",
        "  def __init__(self, nome: str, idade: int, documento: str=None):\n",
        "    self.nome = nome\n",
        "    self.idade = idade\n",
        "    self.documento = documento\n",
        "  def dormir(self, horas: int) -> None:\n",
        "    for hora in range(1,horas+1):\n",
        "      print(f'Dormindo por {hora} horas')\n",
        "      sleep(1)\n",
        "  def falar(self, texto: str) -> None:\n",
        "    print(texto)\n",
        "  def __str__(self) -> str:\n",
        "    return f'{self.nome}, {self.idade} anos e documento numero {self.documento}'\n",
        "#---\n",
        "class Universidade(object):\n",
        "  def __init__(self, nome: str):\n",
        "    self.nome = nome\n",
        "#---\n",
        "class Estudante(Pessoa):\n",
        "  def __init__(self, pessoa: Pessoa, universidade: Universidade):\n",
        "    super().__init__(nome=pessoa.nome, idade=pessoa.idade, documento=pessoa.documento)\n",
        "    self.universidade = universidade\n",
        "  def __str__(self) -> str:\n",
        "    return f'{self.nome}, {self.idade} anos, documento numero {self.documento} e é estudante da {self.universidade.nome}'\n",
        "#---| INSTANCIANDO AS CLASSES | ---\n",
        "andre = Estudante(\n",
        "                  Pessoa(nome='Andre Perez', idade=30, documento='123'),\n",
        "                  Universidade(nome='Universidade de São Paulo')\n",
        "                  )\n",
        "#---\n",
        "print(andre)\n",
        "#--\n",
        "print(andre.universidade.nome)"
      ]
    },
    {
      "cell_type": "markdown",
      "metadata": {
        "id": "5n6mk1-h6ONK"
      },
      "source": [
        "## Exercicios Módulo 6"
      ]
    },
    {
      "cell_type": "code",
      "execution_count": null,
      "metadata": {
        "id": "iR0EQ5D76SLL"
      },
      "outputs": [],
      "source": [
        "#CSV de carro para Exercicio\n",
        "%%writefile carros.csv\n",
        "id,valor_venda,valor_manutencao,portas,pessoas,porta_malas\n",
        "1,vhigh,med,2,2,small\n",
        "2,med,vhigh,2,2,small\n",
        "3,low,vhigh,2,2,small\n",
        "4,low,high,2,2,small\n",
        "5,low,high,2,2,small\n",
        "6,low,high,4,4,big\n",
        "7,low,high,4,4,big\n",
        "8,low,med,2,2,small\n",
        "9,low,med,2,2,small\n",
        "10,low,med,2,2,small\n",
        "11,low,med,4,4,big\n",
        "12,low,low,2,2,small\n",
        "13,low,low,4,4,small\n",
        "14,low,low,4,4,med"
      ]
    },
    {
      "cell_type": "code",
      "execution_count": null,
      "metadata": {
        "id": "TYT3j_rb7AMb"
      },
      "outputs": [],
      "source": [
        "#Arquivo TXT de musica para Exercicio\n",
        "%%writefile musica.txt\n",
        "Roda Viva\n",
        "Chico Buarque\n",
        "\n",
        "Tem dias que a gente se sente\n",
        "Como quem partiu ou morreu\n",
        "A gente estancou de repente\n",
        "Ou foi o mundo então que cresceu\n",
        "A gente quer ter voz ativa\n",
        "No nosso destino mandar\n",
        "Mas eis que chega a roda viva\n",
        "E carrega o destino pra lá\n",
        "\n",
        "Roda mundo, roda-gigante\n",
        "Roda moinho, roda pião\n",
        "\n",
        "O tempo rodou num instante\n",
        "Nas voltas do meu coração\n",
        "A gente vai contra a corrente\n",
        "Até não poder resistir\n",
        "Na volta do barco é que sente\n",
        "O quanto deixou de cumprir\n",
        "Faz tempo que a gente cultiva\n",
        "A mais linda roseira que há\n",
        "Mas eis que chega a roda viva\n",
        "E carrega a roseira pra lá\n",
        "\n",
        "Roda mundo, roda-gigante\n",
        "Roda moinho, roda pião"
      ]
    },
    {
      "cell_type": "code",
      "execution_count": null,
      "metadata": {
        "id": "BT85ix6j7PeL"
      },
      "outputs": [],
      "source": [
        "#Exercicio 1 - Módulo 6\n",
        "#Criar classe\n",
        "\n",
        "class ArquivoTexto(object):\n",
        "  def __init__(self, arquivo: str):\n",
        "    self.arquivo = arquivo\n",
        "    self.conteudo = self._extrair_conteudo()\n",
        "\n",
        "  def _extrair_conteudo(self):\n",
        "      conteudo = list()\n",
        "      with open(file=self.arquivo, mode='r', encoding='utf8') as arquivo:\n",
        "       conteudo = arquivo.read().splitlines()\n",
        "       return conteudo\n",
        "\n",
        "  def extrair_linha(self, numero_linha):\n",
        "      return self.conteudo[numero_linha-1]\n",
        "\n",
        "#Ler arquivo\n",
        "arquivo_musica = ArquivoTexto(arquivo='musica.txt')\n",
        "\n",
        "#Print linha\n",
        "numero_linha = 1\n",
        "print('Linha 1:', arquivo_musica.extrair_linha(numero_linha=numero_linha))\n",
        "\n",
        "numero_linha = 10\n",
        "print('Linha 10:', arquivo_musica.extrair_linha(numero_linha=numero_linha))"
      ]
    },
    {
      "cell_type": "code",
      "source": [
        "class ArquivoCSV(ArquivoTexto):\n",
        "\n",
        "  def __init__(self, arquivo: str):\n",
        "      super().__init__(arquivo=arquivo)\n",
        "      self.colunas = self.extrair_colunas()\n",
        "\n",
        "  def extrair_colunas(self):\n",
        "      return self.conteudo[0]\n",
        "\n",
        "  def extrair_coluna_da_linha(self, numero_linha: int, numero_coluna: int):\n",
        "    num_linha = self.conteudo[numero_linha]\n",
        "    num_linha = num_linha.split(sep=',')[numero_coluna -1]\n",
        "    return num_linha\n",
        "\n",
        "\n",
        "arquivo_csv = ArquivoCSV(arquivo='carros.csv')\n",
        "\n",
        "numero_linha = 1\n",
        "print(arquivo_csv.extrair_linha(numero_linha=numero_linha))\n",
        "\n",
        "print(arquivo_csv.colunas)\n",
        "\n",
        "numero_linha = 10\n",
        "print(arquivo_csv.extrair_linha(numero_linha=numero_linha))"
      ],
      "metadata": {
        "id": "sIP03rWyzRAV"
      },
      "execution_count": null,
      "outputs": []
    },
    {
      "cell_type": "markdown",
      "metadata": {
        "id": "Go-Y0wQ-i4He"
      },
      "source": [
        "# Modulo 7 - Pacotes"
      ]
    },
    {
      "cell_type": "markdown",
      "metadata": {
        "id": "pgmPfgxPi70K"
      },
      "source": [
        "## Aula 1: Comando import"
      ]
    },
    {
      "cell_type": "markdown",
      "metadata": {
        "id": "ltJJvJocjN9T"
      },
      "source": [
        "Random"
      ]
    },
    {
      "cell_type": "code",
      "execution_count": null,
      "metadata": {
        "id": "7f2zWe05jPv7"
      },
      "outputs": [],
      "source": [
        "#Exemplos Random\n",
        "import random\n",
        "escolha = random.choice([1, 2, 3])\n",
        "print(escolha)"
      ]
    },
    {
      "cell_type": "code",
      "execution_count": null,
      "metadata": {
        "id": "RtmPED_Cjj-i"
      },
      "outputs": [],
      "source": [
        "numero_aleatorio = random.random() #Numero aleatorio entre 0 e 1\n",
        "print(numero_aleatorio)\n",
        "\n",
        "numero_aleatorio = random.randint(1, 10) #Numero aleatorio definido\n",
        "print(numero_aleatorio)"
      ]
    },
    {
      "cell_type": "markdown",
      "metadata": {
        "id": "eQ3X6ha4kZW6"
      },
      "source": [
        "Math"
      ]
    },
    {
      "cell_type": "code",
      "execution_count": null,
      "metadata": {
        "id": "1y3NFJAqkazp"
      },
      "outputs": [],
      "source": [
        "#Exemplos Math\n",
        "import math\n",
        "potencia = math.pow(10, 3) #10 elevado a 3\n",
        "print(potencia)"
      ]
    },
    {
      "cell_type": "code",
      "execution_count": null,
      "metadata": {
        "id": "2VRTRzNtkr16"
      },
      "outputs": [],
      "source": [
        "num = math.ceil(10.1) #Arredondamento pra cima\n",
        "print(num)"
      ]
    },
    {
      "cell_type": "code",
      "execution_count": null,
      "metadata": {
        "id": "zHx99gTMlNNS"
      },
      "outputs": [],
      "source": [
        "print(math.pi)"
      ]
    },
    {
      "cell_type": "markdown",
      "metadata": {
        "id": "1BOaTckOlSEK"
      },
      "source": [
        "**From, Import**\n",
        "\n",
        "---\n",
        "\n"
      ]
    },
    {
      "cell_type": "markdown",
      "metadata": {
        "id": "e57g8B2UlXix"
      },
      "source": [
        "Time"
      ]
    },
    {
      "cell_type": "code",
      "execution_count": null,
      "metadata": {
        "id": "S7dlZ8CjlZ2U"
      },
      "outputs": [],
      "source": [
        "#Exemplos time\n",
        "from time import time, sleep #importa elementos especificos das bibliotecas\n",
        "print(time())\n",
        "sleep(3) #Para a transmição do output por num_segundos()"
      ]
    },
    {
      "cell_type": "markdown",
      "metadata": {
        "id": "di4lC41XmiND"
      },
      "source": [
        "**From, Import , As**\n",
        "\n",
        "---\n",
        "\n"
      ]
    },
    {
      "cell_type": "markdown",
      "metadata": {
        "id": "hDq3cMQwml-d"
      },
      "source": [
        "DateTime"
      ]
    },
    {
      "cell_type": "code",
      "execution_count": null,
      "metadata": {
        "id": "-59ql7cGmoQA"
      },
      "outputs": [],
      "source": [
        "#Exemplos datetime\n",
        "from datetime import datetime as dt\n",
        "print('Data e hora atual:', dt.now())\n",
        "print('Dia atual:', dt.now().day)\n",
        "print('Mês atual:', dt.now().month)\n",
        "print('Ano atual:', dt.now().year)"
      ]
    },
    {
      "cell_type": "markdown",
      "source": [
        "## Aula 2: Trabalhando com módulos"
      ],
      "metadata": {
        "id": "7nK6LWyA3VyM"
      }
    },
    {
      "cell_type": "markdown",
      "source": [
        "Criando classe para extração de colunas\n",
        "\n",
        "---\n",
        "\n"
      ],
      "metadata": {
        "id": "T0Za5Q1L5yws"
      }
    },
    {
      "cell_type": "code",
      "source": [
        "#Arquivo banco\n",
        "%%writefile banco.csv\n",
        "age,job,marital,education,default,balance,housing,loan\n",
        "30,unemployed,married,primary,no,1787,no,no\n",
        "33,services,married,secondary,no,4789,yes,yes\n",
        "35,management,single,tertiary,no,1350,yes,no\n",
        "30,management,married,tertiary,no,1476,yes,yes\n",
        "59,blue-collar,married,secondary,no,0,yes,no\n",
        "35,management,single,tertiary,no,747,no,no\n",
        "36,self-employed,married,tertiary,no,307,yes,no\n",
        "39,technician,married,secondary,no,147,yes,no\n",
        "41,entrepreneur,married,tertiary,no,221,yes,no\n",
        "43,services,married,primary,no,-88,yes,yes"
      ],
      "metadata": {
        "id": "4YuA-YsG37rE"
      },
      "execution_count": null,
      "outputs": []
    },
    {
      "cell_type": "code",
      "source": [
        "#Criando classe para ler  arquivo CSV\n",
        "class ArquivoCSV2(object):\n",
        "  def __init__(self, arquivo: str):\n",
        "    self.arquivo = arquivo\n",
        "    self.conteudo = self._extrair_conteudo()\n",
        "    self.colunas = self._extrair_nome_colunas()\n",
        "\n",
        "  def _extrair_conteudo(self):\n",
        "    conteudo = None\n",
        "    with open(file=self.arquivo, mode='r', encoding='utf8') as arquivo:\n",
        "      conteudo = arquivo.readlines()\n",
        "    return conteudo\n",
        "\n",
        "  def _extrair_nome_colunas(self):\n",
        "    return self.conteudo[0].strip().split(sep=',')\n",
        "\n",
        "  def extrair_coluna(self, indice_coluna: str):\n",
        "    coluna = list()\n",
        "    for linha in self.conteudo:\n",
        "      conteudo_linha = linha.strip().split(sep=',')\n",
        "      coluna.append(conteudo_linha[indice_coluna])\n",
        "    coluna.pop(0)\n",
        "    return coluna"
      ],
      "metadata": {
        "id": "-faPHPsm3_HA"
      },
      "execution_count": null,
      "outputs": []
    },
    {
      "cell_type": "code",
      "source": [
        "arquivo_banco = ArquivoCSV2(arquivo='./banco.csv')"
      ],
      "metadata": {
        "id": "WL8JxOLL5TOc"
      },
      "execution_count": null,
      "outputs": []
    },
    {
      "cell_type": "code",
      "source": [
        "#Extrair coluna\n",
        "education = arquivo_banco.extrair_coluna(indice_coluna=3)\n",
        "print(education)"
      ],
      "metadata": {
        "id": "CQenk76U5kSL"
      },
      "execution_count": null,
      "outputs": []
    },
    {
      "cell_type": "markdown",
      "source": [
        "Transformando classe em módulo\n",
        "\n",
        "---\n",
        "\n"
      ],
      "metadata": {
        "id": "-8t0tdPh53s3"
      }
    },
    {
      "cell_type": "markdown",
      "source": [
        "Criar arquivo *arquivocsv2.py* na pasta de arquivos do Colab"
      ],
      "metadata": {
        "id": "twggfSVY6AnT"
      }
    },
    {
      "cell_type": "markdown",
      "source": [
        "Importando biblioteca/módulo criado\n",
        "\n",
        "---\n",
        "\n"
      ],
      "metadata": {
        "id": "zOq4IEXZ6gEK"
      }
    },
    {
      "cell_type": "code",
      "source": [
        "#Importando biblioteca\n",
        "from arquivocsv2 import ArquivoCSV2\n",
        "arquivo_banco_modulo = ArquivoCSV2(arquivo='./banco.csv')"
      ],
      "metadata": {
        "id": "fCYMDx2u6lPj"
      },
      "execution_count": null,
      "outputs": []
    },
    {
      "cell_type": "code",
      "source": [
        "#Imprimindo valor\n",
        "education = arquivo_banco_modulo.extrair_coluna(indice_coluna=3)\n",
        "print(education)"
      ],
      "metadata": {
        "id": "rOd6aDn662ur"
      },
      "execution_count": null,
      "outputs": []
    },
    {
      "cell_type": "markdown",
      "source": [
        "## Aula 3: Trabalhando com pacotes"
      ],
      "metadata": {
        "id": "sbVbfFyZyH1n"
      }
    },
    {
      "cell_type": "markdown",
      "source": [
        "Criando classe arquivo txt"
      ],
      "metadata": {
        "id": "9Zsm1_dByLWP"
      }
    },
    {
      "cell_type": "code",
      "source": [
        "#Classe arquivo txt\n",
        "class ArquivoTXT(object):\n",
        "  def __init__(self, arquivo: str):\n",
        "    self.arquivo = arquivo\n",
        "    self.conteudo = self._extrair_conteudo()\n",
        "\n",
        "  def _extrair_conteudo(self):\n",
        "    conteudo = None\n",
        "    with open(file=self.arquivo, mode='r', encoding='utf8') as arquivo:\n",
        "      conteudo = arquivo.readlines()\n",
        "    return conteudo\n",
        "\n",
        "  def extrair_linha(self, numero_linha: int):\n",
        "    return self.conteudo[numero_linha-1]"
      ],
      "metadata": {
        "id": "kJfmzD6b0uce"
      },
      "execution_count": null,
      "outputs": []
    },
    {
      "cell_type": "code",
      "source": [
        "#Arquivo txt\n",
        "%%writefile noticia.txt\n",
        "Egito cobra quase US$ 1 bi para liberar navio que bloqueou Canal de Suez.\n",
        "Segundo autoridades, valor será utilizado para recompor as perdas provocadas pelo encalhamento da embarcação de quase 400 metros.\n"
      ],
      "metadata": {
        "id": "MwU3jo1Y1b-N"
      },
      "execution_count": null,
      "outputs": []
    },
    {
      "cell_type": "code",
      "source": [
        "arquivo_noticia = ArquivoTXT(arquivo='./noticia.txt')"
      ],
      "metadata": {
        "id": "Q6MDWVwr2E9O"
      },
      "execution_count": null,
      "outputs": []
    },
    {
      "cell_type": "code",
      "source": [
        "titulo = arquivo_noticia.extrair_linha(numero_linha=1)\n",
        "print(titulo)"
      ],
      "metadata": {
        "id": "bHIPE6zy2MM8"
      },
      "execution_count": null,
      "outputs": []
    },
    {
      "cell_type": "markdown",
      "source": [
        "Criar pasta 'arquivo' com dois arquivos dentro ('arquivo.txt.py', 'arquivo.csv2.py')"
      ],
      "metadata": {
        "id": "ldgCQP5fIIjR"
      }
    },
    {
      "cell_type": "markdown",
      "source": [
        "Arquivos '.py' são incarados como módulos"
      ],
      "metadata": {
        "id": "e0Ts8SFCITch"
      }
    },
    {
      "cell_type": "code",
      "source": [
        "#Abrindo/usando módulo criado (arquivo.txt.py, arquivo.csv2.py)\n",
        "from arquivos.arquivo_txt import ArquivoTXT\n",
        "from arquivos.arquivo_csv2 import ArquivoCSV2"
      ],
      "metadata": {
        "id": "1n4wKlCHIbdK"
      },
      "execution_count": null,
      "outputs": []
    },
    {
      "cell_type": "code",
      "source": [
        "#Definindo objetos\n",
        "arquivo_banco_pacote = ArquivoCSV2(arquivo='./banco.csv')\n",
        "arquivo_noticia_pacote = ArquivoTXT(arquivo='./noticia.txt')"
      ],
      "metadata": {
        "id": "hL-WFgUSJdB4"
      },
      "execution_count": null,
      "outputs": []
    },
    {
      "cell_type": "code",
      "source": [
        "education = arquivo_banco_pacote.extrair_coluna(indice_coluna=3)\n",
        "print(education)"
      ],
      "metadata": {
        "id": "o2FXzvloJtZC"
      },
      "execution_count": null,
      "outputs": []
    },
    {
      "cell_type": "code",
      "source": [
        "titulo = arquivo_noticia_pacote.extrair_linha(numero_linha=1)\n",
        "print(titulo)"
      ],
      "metadata": {
        "id": "Vobp86cWJ3wo"
      },
      "execution_count": null,
      "outputs": []
    },
    {
      "cell_type": "markdown",
      "source": [
        "## Aula 4: Baixando pacotes da web"
      ],
      "metadata": {
        "id": "j-aoT3TfL-eh"
      }
    },
    {
      "cell_type": "code",
      "source": [
        "#Instalando pip\n",
        "!pip install requests"
      ],
      "metadata": {
        "id": "eO2EfOaVMLni"
      },
      "execution_count": null,
      "outputs": []
    },
    {
      "cell_type": "code",
      "source": [
        "#Listando pacotes\n",
        "!pip freeze"
      ],
      "metadata": {
        "id": "yLQrOns3MTSH"
      },
      "execution_count": null,
      "outputs": []
    },
    {
      "cell_type": "code",
      "source": [
        "!pip uninstall requests"
      ],
      "metadata": {
        "id": "s92UWUXiMfhH"
      },
      "execution_count": null,
      "outputs": []
    },
    {
      "cell_type": "markdown",
      "source": [
        "Pacote para interação com o protocolo web HTTP(link)"
      ],
      "metadata": {
        "id": "x0xxsjL368Af"
      }
    },
    {
      "cell_type": "code",
      "source": [
        "!pip install requests"
      ],
      "metadata": {
        "id": "TT4gJ6Zc7HjP"
      },
      "execution_count": null,
      "outputs": []
    },
    {
      "cell_type": "code",
      "source": [
        "#Exemplo\n",
        "#Extrair a taxa CDI do site da B3\n",
        "import requests as req\n",
        "response = req.get('https://www2.cetip.com.br/ConsultarTaxaDi/ConsultarTaxaDICetip.aspx') #'get' puxa pagina web"
      ],
      "metadata": {
        "id": "iR6K4Xwm7jZ4"
      },
      "execution_count": null,
      "outputs": []
    },
    {
      "cell_type": "code",
      "source": [
        "print(f'status code: {response.status_code}')\n",
        "#'status_code' nos dá um retorno da chamada ('get'), se foi ou não bem sucedida\n",
        "#Numero acima de 200 significa que foi bem sucedido"
      ],
      "metadata": {
        "id": "E-0UMvtV8EKJ"
      },
      "execution_count": null,
      "outputs": []
    },
    {
      "cell_type": "code",
      "source": [
        "print(response.text)\n",
        "print(type(response.text))"
      ],
      "metadata": {
        "id": "lP-3TC0y8RYg"
      },
      "execution_count": null,
      "outputs": []
    },
    {
      "cell_type": "markdown",
      "source": [
        "Transformar 'String' (informação adquirida do site) para dicionário (dict)"
      ],
      "metadata": {
        "id": "HGgUXZdi9lOm"
      }
    },
    {
      "cell_type": "code",
      "source": [
        "#Utilizando json\n",
        "import json\n",
        "\n",
        "#Transformado em dict\n",
        "data = json.loads(response.text)\n",
        "print(data)\n",
        "print(type(data))"
      ],
      "metadata": {
        "id": "QHyxS2bK9tOV"
      },
      "execution_count": null,
      "outputs": []
    },
    {
      "cell_type": "code",
      "source": [
        "cdi = None\n",
        "\n",
        "for key, value in data.items():\n",
        "  if key == 'taxa':\n",
        "    cdi = value.replace(',','.')\n",
        "    cdi = float(cdi)\n",
        "\n",
        "print(cdi)"
      ],
      "metadata": {
        "id": "MJDRSPQ7-AeN"
      },
      "execution_count": null,
      "outputs": []
    },
    {
      "cell_type": "markdown",
      "source": [
        "## Exercícios Módulo 7"
      ],
      "metadata": {
        "id": "1_inaETyAQdG"
      }
    },
    {
      "cell_type": "markdown",
      "source": [
        "### Exercicio 0"
      ],
      "metadata": {
        "id": "Tly9T4AlDWED"
      }
    },
    {
      "cell_type": "markdown",
      "source": [
        "Instalando o pacote wget na versão 3.2."
      ],
      "metadata": {
        "id": "gvEviDzeA1eM"
      }
    },
    {
      "cell_type": "code",
      "source": [
        "!pip install wget"
      ],
      "metadata": {
        "id": "l0067_rDA2Ns",
        "colab": {
          "base_uri": "https://localhost:8080/"
        },
        "outputId": "0228afc0-87e7-4271-a3a9-e4230bc7b04b"
      },
      "execution_count": null,
      "outputs": [
        {
          "output_type": "stream",
          "name": "stdout",
          "text": [
            "Looking in indexes: https://pypi.org/simple, https://us-python.pkg.dev/colab-wheels/public/simple/\n",
            "Collecting wget\n",
            "  Downloading wget-3.2.zip (10 kB)\n",
            "  Preparing metadata (setup.py) ... \u001b[?25l\u001b[?25hdone\n",
            "Building wheels for collected packages: wget\n",
            "  Building wheel for wget (setup.py) ... \u001b[?25l\u001b[?25hdone\n",
            "  Created wheel for wget: filename=wget-3.2-py3-none-any.whl size=9676 sha256=844e41f402d82111f2460b3731490fe28c646a1042410de7e2be85c14cb4860b\n",
            "  Stored in directory: /root/.cache/pip/wheels/04/5f/3e/46cc37c5d698415694d83f607f833f83f0149e49b3af9d0f38\n",
            "Successfully built wget\n",
            "Installing collected packages: wget\n",
            "Successfully installed wget-3.2\n"
          ]
        }
      ]
    },
    {
      "cell_type": "markdown",
      "source": [
        "Fazendo o download dos dados no arquivo compactado"
      ],
      "metadata": {
        "id": "CP7WG3POA_UM"
      }
    },
    {
      "cell_type": "code",
      "source": [
        "import wget\n",
        "wget.download(url='https://archive.ics.uci.edu/ml/machine-learning-databases/00312/dow_jones_index.zip', out='./dow_jones_index.zip')"
      ],
      "metadata": {
        "id": "EW06IVV4A75c",
        "colab": {
          "base_uri": "https://localhost:8080/",
          "height": 36
        },
        "outputId": "fb580c5a-1b26-43b2-ec57-c66579ea1151"
      },
      "execution_count": null,
      "outputs": [
        {
          "output_type": "execute_result",
          "data": {
            "text/plain": [
              "'./dow_jones_index.zip'"
            ],
            "application/vnd.google.colaboratory.intrinsic+json": {
              "type": "string"
            }
          },
          "metadata": {},
          "execution_count": 32
        }
      ]
    },
    {
      "cell_type": "markdown",
      "source": [
        "Descompactando os dados na pasta dados com o pacote nativo zipfile"
      ],
      "metadata": {
        "id": "EzkmARcxBdcL"
      }
    },
    {
      "cell_type": "code",
      "source": [
        "import zipfile\n",
        "\n",
        "with zipfile.ZipFile('./dow_jones_index.zip', 'r') as fp:\n",
        "  fp.extractall('./dow_jones_index')"
      ],
      "metadata": {
        "id": "LTC23TazBemJ"
      },
      "execution_count": null,
      "outputs": []
    },
    {
      "cell_type": "markdown",
      "source": [
        "Renomeando o arquivo com o pacote nativo os."
      ],
      "metadata": {
        "id": "gjnKuDFZCvqj"
      }
    },
    {
      "cell_type": "code",
      "source": [
        "import os\n",
        "\n",
        "os.rename('./dow_jones_index/dow_jones_index.data', './dow_jones_index/dow_jones_index.csv')"
      ],
      "metadata": {
        "id": "tAzWkBH7CwX7"
      },
      "execution_count": null,
      "outputs": []
    },
    {
      "cell_type": "markdown",
      "source": [
        "### Exercicio 1"
      ],
      "metadata": {
        "id": "YdB0xZU_DaNs"
      }
    },
    {
      "cell_type": "markdown",
      "source": [
        "Vamos importar o pacote pandas com o apelido (alias) pd."
      ],
      "metadata": {
        "id": "tZmZMpbODc0z"
      }
    },
    {
      "cell_type": "code",
      "source": [
        "import pandas as pd"
      ],
      "metadata": {
        "id": "TPo81hWvDisV"
      },
      "execution_count": null,
      "outputs": []
    },
    {
      "cell_type": "code",
      "source": [
        "df = pd.read_csv('./dow_jones_index/dow_jones_index.csv')"
      ],
      "metadata": {
        "id": "Cy5T7rhtDkwK"
      },
      "execution_count": null,
      "outputs": []
    },
    {
      "cell_type": "code",
      "source": [
        "#Lendo as primeiras linhas\n",
        "#'n' define o numero de linhas que serão lidas\n",
        "df.head(n=10)"
      ],
      "metadata": {
        "id": "_urFNUrnD3MF",
        "colab": {
          "base_uri": "https://localhost:8080/",
          "height": 427
        },
        "outputId": "b4e179e4-ac1f-4725-ccde-d217bee902cf"
      },
      "execution_count": null,
      "outputs": [
        {
          "output_type": "execute_result",
          "data": {
            "text/plain": [
              "   quarter stock       date    open    high     low   close     volume  \\\n",
              "0        1    AA   1/7/2011  $15.82  $16.72  $15.78  $16.42  239655616   \n",
              "1        1    AA  1/14/2011  $16.71  $16.71  $15.64  $15.97  242963398   \n",
              "2        1    AA  1/21/2011  $16.19  $16.38  $15.60  $15.79  138428495   \n",
              "3        1    AA  1/28/2011  $15.87  $16.63  $15.82  $16.13  151379173   \n",
              "4        1    AA   2/4/2011  $16.18  $17.39  $16.18  $17.14  154387761   \n",
              "5        1    AA  2/11/2011  $17.33  $17.48  $16.97  $17.37  114691279   \n",
              "6        1    AA  2/18/2011  $17.39  $17.68  $17.28  $17.28   80023895   \n",
              "7        1    AA  2/25/2011  $16.98  $17.15  $15.96  $16.68  132981863   \n",
              "8        1    AA   3/4/2011  $16.81  $16.94  $16.13  $16.58  109493077   \n",
              "9        1    AA  3/11/2011  $16.58  $16.75  $15.42  $16.03  114332562   \n",
              "\n",
              "   percent_change_price  percent_change_volume_over_last_wk  \\\n",
              "0              3.792670                                 NaN   \n",
              "1             -4.428490                            1.380223   \n",
              "2             -2.470660                          -43.024959   \n",
              "3              1.638310                            9.355500   \n",
              "4              5.933250                            1.987452   \n",
              "5              0.230814                          -25.712195   \n",
              "6             -0.632547                          -30.226696   \n",
              "7             -1.766780                           66.177694   \n",
              "8             -1.368230                          -17.663150   \n",
              "9             -3.317250                            4.419900   \n",
              "\n",
              "   previous_weeks_volume next_weeks_open next_weeks_close  \\\n",
              "0                    NaN          $16.71           $15.97   \n",
              "1            239655616.0          $16.19           $15.79   \n",
              "2            242963398.0          $15.87           $16.13   \n",
              "3            138428495.0          $16.18           $17.14   \n",
              "4            151379173.0          $17.33           $17.37   \n",
              "5            154387761.0          $17.39           $17.28   \n",
              "6            114691279.0          $16.98           $16.68   \n",
              "7             80023895.0          $16.81           $16.58   \n",
              "8            132981863.0          $16.58           $16.03   \n",
              "9            109493077.0          $15.95           $16.11   \n",
              "\n",
              "   percent_change_next_weeks_price  days_to_next_dividend  \\\n",
              "0                        -4.428490                     26   \n",
              "1                        -2.470660                     19   \n",
              "2                         1.638310                     12   \n",
              "3                         5.933250                      5   \n",
              "4                         0.230814                     97   \n",
              "5                        -0.632547                     90   \n",
              "6                        -1.766780                     83   \n",
              "7                        -1.368230                     76   \n",
              "8                        -3.317250                     69   \n",
              "9                         1.003130                     62   \n",
              "\n",
              "   percent_return_next_dividend  \n",
              "0                      0.182704  \n",
              "1                      0.187852  \n",
              "2                      0.189994  \n",
              "3                      0.185989  \n",
              "4                      0.175029  \n",
              "5                      0.172712  \n",
              "6                      0.173611  \n",
              "7                      0.179856  \n",
              "8                      0.180941  \n",
              "9                      0.187149  "
            ],
            "text/html": [
              "\n",
              "  <div id=\"df-3b297599-d71b-4962-b5b1-c22ab4caf86f\">\n",
              "    <div class=\"colab-df-container\">\n",
              "      <div>\n",
              "<style scoped>\n",
              "    .dataframe tbody tr th:only-of-type {\n",
              "        vertical-align: middle;\n",
              "    }\n",
              "\n",
              "    .dataframe tbody tr th {\n",
              "        vertical-align: top;\n",
              "    }\n",
              "\n",
              "    .dataframe thead th {\n",
              "        text-align: right;\n",
              "    }\n",
              "</style>\n",
              "<table border=\"1\" class=\"dataframe\">\n",
              "  <thead>\n",
              "    <tr style=\"text-align: right;\">\n",
              "      <th></th>\n",
              "      <th>quarter</th>\n",
              "      <th>stock</th>\n",
              "      <th>date</th>\n",
              "      <th>open</th>\n",
              "      <th>high</th>\n",
              "      <th>low</th>\n",
              "      <th>close</th>\n",
              "      <th>volume</th>\n",
              "      <th>percent_change_price</th>\n",
              "      <th>percent_change_volume_over_last_wk</th>\n",
              "      <th>previous_weeks_volume</th>\n",
              "      <th>next_weeks_open</th>\n",
              "      <th>next_weeks_close</th>\n",
              "      <th>percent_change_next_weeks_price</th>\n",
              "      <th>days_to_next_dividend</th>\n",
              "      <th>percent_return_next_dividend</th>\n",
              "    </tr>\n",
              "  </thead>\n",
              "  <tbody>\n",
              "    <tr>\n",
              "      <th>0</th>\n",
              "      <td>1</td>\n",
              "      <td>AA</td>\n",
              "      <td>1/7/2011</td>\n",
              "      <td>$15.82</td>\n",
              "      <td>$16.72</td>\n",
              "      <td>$15.78</td>\n",
              "      <td>$16.42</td>\n",
              "      <td>239655616</td>\n",
              "      <td>3.792670</td>\n",
              "      <td>NaN</td>\n",
              "      <td>NaN</td>\n",
              "      <td>$16.71</td>\n",
              "      <td>$15.97</td>\n",
              "      <td>-4.428490</td>\n",
              "      <td>26</td>\n",
              "      <td>0.182704</td>\n",
              "    </tr>\n",
              "    <tr>\n",
              "      <th>1</th>\n",
              "      <td>1</td>\n",
              "      <td>AA</td>\n",
              "      <td>1/14/2011</td>\n",
              "      <td>$16.71</td>\n",
              "      <td>$16.71</td>\n",
              "      <td>$15.64</td>\n",
              "      <td>$15.97</td>\n",
              "      <td>242963398</td>\n",
              "      <td>-4.428490</td>\n",
              "      <td>1.380223</td>\n",
              "      <td>239655616.0</td>\n",
              "      <td>$16.19</td>\n",
              "      <td>$15.79</td>\n",
              "      <td>-2.470660</td>\n",
              "      <td>19</td>\n",
              "      <td>0.187852</td>\n",
              "    </tr>\n",
              "    <tr>\n",
              "      <th>2</th>\n",
              "      <td>1</td>\n",
              "      <td>AA</td>\n",
              "      <td>1/21/2011</td>\n",
              "      <td>$16.19</td>\n",
              "      <td>$16.38</td>\n",
              "      <td>$15.60</td>\n",
              "      <td>$15.79</td>\n",
              "      <td>138428495</td>\n",
              "      <td>-2.470660</td>\n",
              "      <td>-43.024959</td>\n",
              "      <td>242963398.0</td>\n",
              "      <td>$15.87</td>\n",
              "      <td>$16.13</td>\n",
              "      <td>1.638310</td>\n",
              "      <td>12</td>\n",
              "      <td>0.189994</td>\n",
              "    </tr>\n",
              "    <tr>\n",
              "      <th>3</th>\n",
              "      <td>1</td>\n",
              "      <td>AA</td>\n",
              "      <td>1/28/2011</td>\n",
              "      <td>$15.87</td>\n",
              "      <td>$16.63</td>\n",
              "      <td>$15.82</td>\n",
              "      <td>$16.13</td>\n",
              "      <td>151379173</td>\n",
              "      <td>1.638310</td>\n",
              "      <td>9.355500</td>\n",
              "      <td>138428495.0</td>\n",
              "      <td>$16.18</td>\n",
              "      <td>$17.14</td>\n",
              "      <td>5.933250</td>\n",
              "      <td>5</td>\n",
              "      <td>0.185989</td>\n",
              "    </tr>\n",
              "    <tr>\n",
              "      <th>4</th>\n",
              "      <td>1</td>\n",
              "      <td>AA</td>\n",
              "      <td>2/4/2011</td>\n",
              "      <td>$16.18</td>\n",
              "      <td>$17.39</td>\n",
              "      <td>$16.18</td>\n",
              "      <td>$17.14</td>\n",
              "      <td>154387761</td>\n",
              "      <td>5.933250</td>\n",
              "      <td>1.987452</td>\n",
              "      <td>151379173.0</td>\n",
              "      <td>$17.33</td>\n",
              "      <td>$17.37</td>\n",
              "      <td>0.230814</td>\n",
              "      <td>97</td>\n",
              "      <td>0.175029</td>\n",
              "    </tr>\n",
              "    <tr>\n",
              "      <th>5</th>\n",
              "      <td>1</td>\n",
              "      <td>AA</td>\n",
              "      <td>2/11/2011</td>\n",
              "      <td>$17.33</td>\n",
              "      <td>$17.48</td>\n",
              "      <td>$16.97</td>\n",
              "      <td>$17.37</td>\n",
              "      <td>114691279</td>\n",
              "      <td>0.230814</td>\n",
              "      <td>-25.712195</td>\n",
              "      <td>154387761.0</td>\n",
              "      <td>$17.39</td>\n",
              "      <td>$17.28</td>\n",
              "      <td>-0.632547</td>\n",
              "      <td>90</td>\n",
              "      <td>0.172712</td>\n",
              "    </tr>\n",
              "    <tr>\n",
              "      <th>6</th>\n",
              "      <td>1</td>\n",
              "      <td>AA</td>\n",
              "      <td>2/18/2011</td>\n",
              "      <td>$17.39</td>\n",
              "      <td>$17.68</td>\n",
              "      <td>$17.28</td>\n",
              "      <td>$17.28</td>\n",
              "      <td>80023895</td>\n",
              "      <td>-0.632547</td>\n",
              "      <td>-30.226696</td>\n",
              "      <td>114691279.0</td>\n",
              "      <td>$16.98</td>\n",
              "      <td>$16.68</td>\n",
              "      <td>-1.766780</td>\n",
              "      <td>83</td>\n",
              "      <td>0.173611</td>\n",
              "    </tr>\n",
              "    <tr>\n",
              "      <th>7</th>\n",
              "      <td>1</td>\n",
              "      <td>AA</td>\n",
              "      <td>2/25/2011</td>\n",
              "      <td>$16.98</td>\n",
              "      <td>$17.15</td>\n",
              "      <td>$15.96</td>\n",
              "      <td>$16.68</td>\n",
              "      <td>132981863</td>\n",
              "      <td>-1.766780</td>\n",
              "      <td>66.177694</td>\n",
              "      <td>80023895.0</td>\n",
              "      <td>$16.81</td>\n",
              "      <td>$16.58</td>\n",
              "      <td>-1.368230</td>\n",
              "      <td>76</td>\n",
              "      <td>0.179856</td>\n",
              "    </tr>\n",
              "    <tr>\n",
              "      <th>8</th>\n",
              "      <td>1</td>\n",
              "      <td>AA</td>\n",
              "      <td>3/4/2011</td>\n",
              "      <td>$16.81</td>\n",
              "      <td>$16.94</td>\n",
              "      <td>$16.13</td>\n",
              "      <td>$16.58</td>\n",
              "      <td>109493077</td>\n",
              "      <td>-1.368230</td>\n",
              "      <td>-17.663150</td>\n",
              "      <td>132981863.0</td>\n",
              "      <td>$16.58</td>\n",
              "      <td>$16.03</td>\n",
              "      <td>-3.317250</td>\n",
              "      <td>69</td>\n",
              "      <td>0.180941</td>\n",
              "    </tr>\n",
              "    <tr>\n",
              "      <th>9</th>\n",
              "      <td>1</td>\n",
              "      <td>AA</td>\n",
              "      <td>3/11/2011</td>\n",
              "      <td>$16.58</td>\n",
              "      <td>$16.75</td>\n",
              "      <td>$15.42</td>\n",
              "      <td>$16.03</td>\n",
              "      <td>114332562</td>\n",
              "      <td>-3.317250</td>\n",
              "      <td>4.419900</td>\n",
              "      <td>109493077.0</td>\n",
              "      <td>$15.95</td>\n",
              "      <td>$16.11</td>\n",
              "      <td>1.003130</td>\n",
              "      <td>62</td>\n",
              "      <td>0.187149</td>\n",
              "    </tr>\n",
              "  </tbody>\n",
              "</table>\n",
              "</div>\n",
              "      <button class=\"colab-df-convert\" onclick=\"convertToInteractive('df-3b297599-d71b-4962-b5b1-c22ab4caf86f')\"\n",
              "              title=\"Convert this dataframe to an interactive table.\"\n",
              "              style=\"display:none;\">\n",
              "        \n",
              "  <svg xmlns=\"http://www.w3.org/2000/svg\" height=\"24px\"viewBox=\"0 0 24 24\"\n",
              "       width=\"24px\">\n",
              "    <path d=\"M0 0h24v24H0V0z\" fill=\"none\"/>\n",
              "    <path d=\"M18.56 5.44l.94 2.06.94-2.06 2.06-.94-2.06-.94-.94-2.06-.94 2.06-2.06.94zm-11 1L8.5 8.5l.94-2.06 2.06-.94-2.06-.94L8.5 2.5l-.94 2.06-2.06.94zm10 10l.94 2.06.94-2.06 2.06-.94-2.06-.94-.94-2.06-.94 2.06-2.06.94z\"/><path d=\"M17.41 7.96l-1.37-1.37c-.4-.4-.92-.59-1.43-.59-.52 0-1.04.2-1.43.59L10.3 9.45l-7.72 7.72c-.78.78-.78 2.05 0 2.83L4 21.41c.39.39.9.59 1.41.59.51 0 1.02-.2 1.41-.59l7.78-7.78 2.81-2.81c.8-.78.8-2.07 0-2.86zM5.41 20L4 18.59l7.72-7.72 1.47 1.35L5.41 20z\"/>\n",
              "  </svg>\n",
              "      </button>\n",
              "      \n",
              "  <style>\n",
              "    .colab-df-container {\n",
              "      display:flex;\n",
              "      flex-wrap:wrap;\n",
              "      gap: 12px;\n",
              "    }\n",
              "\n",
              "    .colab-df-convert {\n",
              "      background-color: #E8F0FE;\n",
              "      border: none;\n",
              "      border-radius: 50%;\n",
              "      cursor: pointer;\n",
              "      display: none;\n",
              "      fill: #1967D2;\n",
              "      height: 32px;\n",
              "      padding: 0 0 0 0;\n",
              "      width: 32px;\n",
              "    }\n",
              "\n",
              "    .colab-df-convert:hover {\n",
              "      background-color: #E2EBFA;\n",
              "      box-shadow: 0px 1px 2px rgba(60, 64, 67, 0.3), 0px 1px 3px 1px rgba(60, 64, 67, 0.15);\n",
              "      fill: #174EA6;\n",
              "    }\n",
              "\n",
              "    [theme=dark] .colab-df-convert {\n",
              "      background-color: #3B4455;\n",
              "      fill: #D2E3FC;\n",
              "    }\n",
              "\n",
              "    [theme=dark] .colab-df-convert:hover {\n",
              "      background-color: #434B5C;\n",
              "      box-shadow: 0px 1px 3px 1px rgba(0, 0, 0, 0.15);\n",
              "      filter: drop-shadow(0px 1px 2px rgba(0, 0, 0, 0.3));\n",
              "      fill: #FFFFFF;\n",
              "    }\n",
              "  </style>\n",
              "\n",
              "      <script>\n",
              "        const buttonEl =\n",
              "          document.querySelector('#df-3b297599-d71b-4962-b5b1-c22ab4caf86f button.colab-df-convert');\n",
              "        buttonEl.style.display =\n",
              "          google.colab.kernel.accessAllowed ? 'block' : 'none';\n",
              "\n",
              "        async function convertToInteractive(key) {\n",
              "          const element = document.querySelector('#df-3b297599-d71b-4962-b5b1-c22ab4caf86f');\n",
              "          const dataTable =\n",
              "            await google.colab.kernel.invokeFunction('convertToInteractive',\n",
              "                                                     [key], {});\n",
              "          if (!dataTable) return;\n",
              "\n",
              "          const docLinkHtml = 'Like what you see? Visit the ' +\n",
              "            '<a target=\"_blank\" href=https://colab.research.google.com/notebooks/data_table.ipynb>data table notebook</a>'\n",
              "            + ' to learn more about interactive tables.';\n",
              "          element.innerHTML = '';\n",
              "          dataTable['output_type'] = 'display_data';\n",
              "          await google.colab.output.renderOutput(dataTable, element);\n",
              "          const docLink = document.createElement('div');\n",
              "          docLink.innerHTML = docLinkHtml;\n",
              "          element.appendChild(docLink);\n",
              "        }\n",
              "      </script>\n",
              "    </div>\n",
              "  </div>\n",
              "  "
            ]
          },
          "metadata": {},
          "execution_count": 37
        }
      ]
    },
    {
      "cell_type": "code",
      "source": [
        "#Nomes das colunas\n",
        "df.columns.to_list()"
      ],
      "metadata": {
        "id": "kUw6zo3jEFgd",
        "colab": {
          "base_uri": "https://localhost:8080/"
        },
        "outputId": "32a4f6b7-0588-4b2b-a2e3-44b3eaa5bf7c"
      },
      "execution_count": null,
      "outputs": [
        {
          "output_type": "execute_result",
          "data": {
            "text/plain": [
              "['quarter',\n",
              " 'stock',\n",
              " 'date',\n",
              " 'open',\n",
              " 'high',\n",
              " 'low',\n",
              " 'close',\n",
              " 'volume',\n",
              " 'percent_change_price',\n",
              " 'percent_change_volume_over_last_wk',\n",
              " 'previous_weeks_volume',\n",
              " 'next_weeks_open',\n",
              " 'next_weeks_close',\n",
              " 'percent_change_next_weeks_price',\n",
              " 'days_to_next_dividend',\n",
              " 'percent_return_next_dividend']"
            ]
          },
          "metadata": {},
          "execution_count": 38
        }
      ]
    },
    {
      "cell_type": "code",
      "source": [
        "#Verificando o número de linhas e colunas.\n",
        "linhas, colunas = df.shape\n",
        "print(f'Número linhas: {linhas}')\n",
        "print(f'Número colunas: {colunas}')"
      ],
      "metadata": {
        "id": "5Oq8gtAKEPRz",
        "colab": {
          "base_uri": "https://localhost:8080/"
        },
        "outputId": "07c6b302-6d06-4af6-944c-92462e4f253f"
      },
      "execution_count": null,
      "outputs": [
        {
          "output_type": "stream",
          "name": "stdout",
          "text": [
            "Número linhas: 750\n",
            "Número colunas: 16\n"
          ]
        }
      ]
    },
    {
      "cell_type": "code",
      "source": [
        "#Selecionar valores de abertura, fechamento, máximo e mínimo das ações do McDonalds\n",
        "df_mcd = df[df['stock'] == 'MCD']\n",
        "df_mcd"
      ],
      "metadata": {
        "id": "g_rVZldREhCL",
        "colab": {
          "base_uri": "https://localhost:8080/",
          "height": 897
        },
        "outputId": "82a5db36-c0ae-497e-8386-508c96eed548"
      },
      "execution_count": null,
      "outputs": [
        {
          "output_type": "execute_result",
          "data": {
            "text/plain": [
              "     quarter stock       date    open    high     low   close    volume  \\\n",
              "216        1   MCD   1/7/2011  $77.10  $77.59  $73.59  $74.37  85400677   \n",
              "217        1   MCD  1/14/2011  $74.25  $74.49  $72.46  $74.06  44895850   \n",
              "218        1   MCD  1/21/2011  $74.65  $75.75  $74.31  $75.01  40056497   \n",
              "219        1   MCD  1/28/2011  $74.25  $75.85  $73.05  $73.28  46734907   \n",
              "220        1   MCD   2/4/2011  $73.80  $74.50  $73.08  $74.05  41519549   \n",
              "221        1   MCD  2/11/2011  $74.13  $76.32  $73.30  $76.14  39363816   \n",
              "222        1   MCD  2/18/2011  $76.07  $76.45  $75.70  $76.13  16734140   \n",
              "223        1   MCD  2/25/2011  $75.95  $76.45  $74.42  $74.44  27881213   \n",
              "224        1   MCD   3/4/2011  $74.51  $76.63  $73.64  $76.03  41047787   \n",
              "225        1   MCD  3/11/2011  $76.38  $77.25  $74.97  $76.73  34855064   \n",
              "226        1   MCD  3/18/2011  $76.10  $76.41  $72.89  $72.99  40853280   \n",
              "227        1   MCD  3/25/2011  $73.50  $75.75  $73.38  $75.25  23877441   \n",
              "594        2   MCD   4/1/2011  $75.55  $76.50  $74.87  $75.99  17977737   \n",
              "595        2   MCD   4/8/2011  $76.31  $76.91  $75.66  $76.04  22337802   \n",
              "596        2   MCD  4/15/2011  $76.15  $77.54  $75.83  $77.38  21670715   \n",
              "597        2   MCD  4/21/2011  $76.89  $78.41  $76.40  $76.91  17718174   \n",
              "598        2   MCD  4/29/2011  $77.15  $78.59  $76.54  $78.31  22923015   \n",
              "599        2   MCD   5/6/2011  $78.40  $79.37  $78.20  $78.70  26460318   \n",
              "600        2   MCD  5/13/2011  $79.46  $80.91  $79.08  $80.74  26573357   \n",
              "601        2   MCD  5/20/2011  $80.44  $82.85  $80.44  $82.33  27816875   \n",
              "602        2   MCD  5/27/2011  $81.53  $83.08  $81.49  $81.62  26628471   \n",
              "603        2   MCD   6/3/2011  $82.13  $82.25  $80.01  $80.54  23382621   \n",
              "604        2   MCD  6/10/2011  $80.60  $82.23  $80.00  $80.36  31264251   \n",
              "605        2   MCD  6/17/2011  $80.43  $82.72  $80.39  $82.52  27515629   \n",
              "606        2   MCD  6/24/2011  $82.32  $83.09  $81.40  $81.84  28303321   \n",
              "\n",
              "     percent_change_price  percent_change_volume_over_last_wk  \\\n",
              "216             -3.540860                                 NaN   \n",
              "217             -0.255892                          -47.429164   \n",
              "218              0.482251                          -10.779065   \n",
              "219             -1.306400                           16.672476   \n",
              "220              0.338753                          -11.159449   \n",
              "221              2.711450                           -5.192092   \n",
              "222              0.078875                          -57.488522   \n",
              "223             -1.988150                           66.612763   \n",
              "224              2.039990                           47.223821   \n",
              "225              0.458235                          -15.086618   \n",
              "226             -4.086730                           17.209023   \n",
              "227              2.380950                          -41.553185   \n",
              "594              0.582396                          -24.708276   \n",
              "595             -0.353820                           24.252580   \n",
              "596              1.615230                           -2.986359   \n",
              "597              0.026011                          -18.239089   \n",
              "598              1.503560                           29.375719   \n",
              "599              0.382653                           15.431229   \n",
              "600              1.610870                            0.427202   \n",
              "601              2.349580                            4.679567   \n",
              "602              0.110389                           -4.272241   \n",
              "603             -1.935960                          -12.189397   \n",
              "604             -0.297767                           33.707214   \n",
              "605              2.598530                          -11.990123   \n",
              "606             -0.583090                            2.862708   \n",
              "\n",
              "     previous_weeks_volume next_weeks_open next_weeks_close  \\\n",
              "216                    NaN          $74.25           $74.06   \n",
              "217             85400677.0          $74.65           $75.01   \n",
              "218             44895850.0          $74.25           $73.28   \n",
              "219             40056497.0          $73.80           $74.05   \n",
              "220             46734907.0          $74.13           $76.14   \n",
              "221             41519549.0          $76.07           $76.13   \n",
              "222             39363816.0          $75.95           $74.44   \n",
              "223             16734140.0          $74.51           $76.03   \n",
              "224             27881213.0          $76.38           $76.73   \n",
              "225             41047787.0          $76.10           $72.99   \n",
              "226             34855064.0          $73.50           $75.25   \n",
              "227             40853280.0          $75.55           $75.99   \n",
              "594             23877441.0          $76.31           $76.04   \n",
              "595             17977737.0          $76.15           $77.38   \n",
              "596             22337802.0          $76.89           $76.91   \n",
              "597             21670715.0          $77.15           $78.31   \n",
              "598             17718174.0          $78.40           $78.70   \n",
              "599             22923015.0          $79.46           $80.74   \n",
              "600             26460318.0          $80.44           $82.33   \n",
              "601             26573357.0          $81.53           $81.62   \n",
              "602             27816875.0          $82.13           $80.54   \n",
              "603             26628471.0          $80.60           $80.36   \n",
              "604             23382621.0          $80.43           $82.52   \n",
              "605             31264251.0          $82.32           $81.84   \n",
              "606             27515629.0          $81.51           $85.65   \n",
              "\n",
              "     percent_change_next_weeks_price  days_to_next_dividend  \\\n",
              "216                        -0.255892                     49   \n",
              "217                         0.482251                     42   \n",
              "218                        -1.306400                     35   \n",
              "219                         0.338753                     28   \n",
              "220                         2.711450                     21   \n",
              "221                         0.078875                     14   \n",
              "222                        -1.988150                      7   \n",
              "223                         2.039990                      0   \n",
              "224                         0.458235                     84   \n",
              "225                        -4.086730                     77   \n",
              "226                         2.380950                     70   \n",
              "227                         0.582396                     63   \n",
              "594                        -0.353820                     56   \n",
              "595                         1.615230                     49   \n",
              "596                         0.026011                     42   \n",
              "597                         1.503560                     36   \n",
              "598                         0.382653                     28   \n",
              "599                         1.610870                     21   \n",
              "600                         2.349580                     14   \n",
              "601                         0.110389                      7   \n",
              "602                        -1.935960                      0   \n",
              "603                        -0.297767                     88   \n",
              "604                         2.598530                     81   \n",
              "605                        -0.583090                     74   \n",
              "606                         5.079130                     67   \n",
              "\n",
              "     percent_return_next_dividend  \n",
              "216                      0.820223  \n",
              "217                      0.823656  \n",
              "218                      0.813225  \n",
              "219                      0.832424  \n",
              "220                      0.823768  \n",
              "221                      0.801156  \n",
              "222                      0.801261  \n",
              "223                      0.819452  \n",
              "224                      0.802315  \n",
              "225                      0.794995  \n",
              "226                      0.835731  \n",
              "227                      0.810631  \n",
              "594                      0.802737  \n",
              "595                      0.802209  \n",
              "596                      0.788317  \n",
              "597                      0.793135  \n",
              "598                      0.778955  \n",
              "599                      0.775095  \n",
              "600                      0.755512  \n",
              "601                      0.740921  \n",
              "602                      0.747366  \n",
              "603                      0.757388  \n",
              "604                      0.759084  \n",
              "605                      0.739215  \n",
              "606                      0.745357  "
            ],
            "text/html": [
              "\n",
              "  <div id=\"df-3f4e14aa-bce9-4d58-a689-7cd96ef825a4\">\n",
              "    <div class=\"colab-df-container\">\n",
              "      <div>\n",
              "<style scoped>\n",
              "    .dataframe tbody tr th:only-of-type {\n",
              "        vertical-align: middle;\n",
              "    }\n",
              "\n",
              "    .dataframe tbody tr th {\n",
              "        vertical-align: top;\n",
              "    }\n",
              "\n",
              "    .dataframe thead th {\n",
              "        text-align: right;\n",
              "    }\n",
              "</style>\n",
              "<table border=\"1\" class=\"dataframe\">\n",
              "  <thead>\n",
              "    <tr style=\"text-align: right;\">\n",
              "      <th></th>\n",
              "      <th>quarter</th>\n",
              "      <th>stock</th>\n",
              "      <th>date</th>\n",
              "      <th>open</th>\n",
              "      <th>high</th>\n",
              "      <th>low</th>\n",
              "      <th>close</th>\n",
              "      <th>volume</th>\n",
              "      <th>percent_change_price</th>\n",
              "      <th>percent_change_volume_over_last_wk</th>\n",
              "      <th>previous_weeks_volume</th>\n",
              "      <th>next_weeks_open</th>\n",
              "      <th>next_weeks_close</th>\n",
              "      <th>percent_change_next_weeks_price</th>\n",
              "      <th>days_to_next_dividend</th>\n",
              "      <th>percent_return_next_dividend</th>\n",
              "    </tr>\n",
              "  </thead>\n",
              "  <tbody>\n",
              "    <tr>\n",
              "      <th>216</th>\n",
              "      <td>1</td>\n",
              "      <td>MCD</td>\n",
              "      <td>1/7/2011</td>\n",
              "      <td>$77.10</td>\n",
              "      <td>$77.59</td>\n",
              "      <td>$73.59</td>\n",
              "      <td>$74.37</td>\n",
              "      <td>85400677</td>\n",
              "      <td>-3.540860</td>\n",
              "      <td>NaN</td>\n",
              "      <td>NaN</td>\n",
              "      <td>$74.25</td>\n",
              "      <td>$74.06</td>\n",
              "      <td>-0.255892</td>\n",
              "      <td>49</td>\n",
              "      <td>0.820223</td>\n",
              "    </tr>\n",
              "    <tr>\n",
              "      <th>217</th>\n",
              "      <td>1</td>\n",
              "      <td>MCD</td>\n",
              "      <td>1/14/2011</td>\n",
              "      <td>$74.25</td>\n",
              "      <td>$74.49</td>\n",
              "      <td>$72.46</td>\n",
              "      <td>$74.06</td>\n",
              "      <td>44895850</td>\n",
              "      <td>-0.255892</td>\n",
              "      <td>-47.429164</td>\n",
              "      <td>85400677.0</td>\n",
              "      <td>$74.65</td>\n",
              "      <td>$75.01</td>\n",
              "      <td>0.482251</td>\n",
              "      <td>42</td>\n",
              "      <td>0.823656</td>\n",
              "    </tr>\n",
              "    <tr>\n",
              "      <th>218</th>\n",
              "      <td>1</td>\n",
              "      <td>MCD</td>\n",
              "      <td>1/21/2011</td>\n",
              "      <td>$74.65</td>\n",
              "      <td>$75.75</td>\n",
              "      <td>$74.31</td>\n",
              "      <td>$75.01</td>\n",
              "      <td>40056497</td>\n",
              "      <td>0.482251</td>\n",
              "      <td>-10.779065</td>\n",
              "      <td>44895850.0</td>\n",
              "      <td>$74.25</td>\n",
              "      <td>$73.28</td>\n",
              "      <td>-1.306400</td>\n",
              "      <td>35</td>\n",
              "      <td>0.813225</td>\n",
              "    </tr>\n",
              "    <tr>\n",
              "      <th>219</th>\n",
              "      <td>1</td>\n",
              "      <td>MCD</td>\n",
              "      <td>1/28/2011</td>\n",
              "      <td>$74.25</td>\n",
              "      <td>$75.85</td>\n",
              "      <td>$73.05</td>\n",
              "      <td>$73.28</td>\n",
              "      <td>46734907</td>\n",
              "      <td>-1.306400</td>\n",
              "      <td>16.672476</td>\n",
              "      <td>40056497.0</td>\n",
              "      <td>$73.80</td>\n",
              "      <td>$74.05</td>\n",
              "      <td>0.338753</td>\n",
              "      <td>28</td>\n",
              "      <td>0.832424</td>\n",
              "    </tr>\n",
              "    <tr>\n",
              "      <th>220</th>\n",
              "      <td>1</td>\n",
              "      <td>MCD</td>\n",
              "      <td>2/4/2011</td>\n",
              "      <td>$73.80</td>\n",
              "      <td>$74.50</td>\n",
              "      <td>$73.08</td>\n",
              "      <td>$74.05</td>\n",
              "      <td>41519549</td>\n",
              "      <td>0.338753</td>\n",
              "      <td>-11.159449</td>\n",
              "      <td>46734907.0</td>\n",
              "      <td>$74.13</td>\n",
              "      <td>$76.14</td>\n",
              "      <td>2.711450</td>\n",
              "      <td>21</td>\n",
              "      <td>0.823768</td>\n",
              "    </tr>\n",
              "    <tr>\n",
              "      <th>221</th>\n",
              "      <td>1</td>\n",
              "      <td>MCD</td>\n",
              "      <td>2/11/2011</td>\n",
              "      <td>$74.13</td>\n",
              "      <td>$76.32</td>\n",
              "      <td>$73.30</td>\n",
              "      <td>$76.14</td>\n",
              "      <td>39363816</td>\n",
              "      <td>2.711450</td>\n",
              "      <td>-5.192092</td>\n",
              "      <td>41519549.0</td>\n",
              "      <td>$76.07</td>\n",
              "      <td>$76.13</td>\n",
              "      <td>0.078875</td>\n",
              "      <td>14</td>\n",
              "      <td>0.801156</td>\n",
              "    </tr>\n",
              "    <tr>\n",
              "      <th>222</th>\n",
              "      <td>1</td>\n",
              "      <td>MCD</td>\n",
              "      <td>2/18/2011</td>\n",
              "      <td>$76.07</td>\n",
              "      <td>$76.45</td>\n",
              "      <td>$75.70</td>\n",
              "      <td>$76.13</td>\n",
              "      <td>16734140</td>\n",
              "      <td>0.078875</td>\n",
              "      <td>-57.488522</td>\n",
              "      <td>39363816.0</td>\n",
              "      <td>$75.95</td>\n",
              "      <td>$74.44</td>\n",
              "      <td>-1.988150</td>\n",
              "      <td>7</td>\n",
              "      <td>0.801261</td>\n",
              "    </tr>\n",
              "    <tr>\n",
              "      <th>223</th>\n",
              "      <td>1</td>\n",
              "      <td>MCD</td>\n",
              "      <td>2/25/2011</td>\n",
              "      <td>$75.95</td>\n",
              "      <td>$76.45</td>\n",
              "      <td>$74.42</td>\n",
              "      <td>$74.44</td>\n",
              "      <td>27881213</td>\n",
              "      <td>-1.988150</td>\n",
              "      <td>66.612763</td>\n",
              "      <td>16734140.0</td>\n",
              "      <td>$74.51</td>\n",
              "      <td>$76.03</td>\n",
              "      <td>2.039990</td>\n",
              "      <td>0</td>\n",
              "      <td>0.819452</td>\n",
              "    </tr>\n",
              "    <tr>\n",
              "      <th>224</th>\n",
              "      <td>1</td>\n",
              "      <td>MCD</td>\n",
              "      <td>3/4/2011</td>\n",
              "      <td>$74.51</td>\n",
              "      <td>$76.63</td>\n",
              "      <td>$73.64</td>\n",
              "      <td>$76.03</td>\n",
              "      <td>41047787</td>\n",
              "      <td>2.039990</td>\n",
              "      <td>47.223821</td>\n",
              "      <td>27881213.0</td>\n",
              "      <td>$76.38</td>\n",
              "      <td>$76.73</td>\n",
              "      <td>0.458235</td>\n",
              "      <td>84</td>\n",
              "      <td>0.802315</td>\n",
              "    </tr>\n",
              "    <tr>\n",
              "      <th>225</th>\n",
              "      <td>1</td>\n",
              "      <td>MCD</td>\n",
              "      <td>3/11/2011</td>\n",
              "      <td>$76.38</td>\n",
              "      <td>$77.25</td>\n",
              "      <td>$74.97</td>\n",
              "      <td>$76.73</td>\n",
              "      <td>34855064</td>\n",
              "      <td>0.458235</td>\n",
              "      <td>-15.086618</td>\n",
              "      <td>41047787.0</td>\n",
              "      <td>$76.10</td>\n",
              "      <td>$72.99</td>\n",
              "      <td>-4.086730</td>\n",
              "      <td>77</td>\n",
              "      <td>0.794995</td>\n",
              "    </tr>\n",
              "    <tr>\n",
              "      <th>226</th>\n",
              "      <td>1</td>\n",
              "      <td>MCD</td>\n",
              "      <td>3/18/2011</td>\n",
              "      <td>$76.10</td>\n",
              "      <td>$76.41</td>\n",
              "      <td>$72.89</td>\n",
              "      <td>$72.99</td>\n",
              "      <td>40853280</td>\n",
              "      <td>-4.086730</td>\n",
              "      <td>17.209023</td>\n",
              "      <td>34855064.0</td>\n",
              "      <td>$73.50</td>\n",
              "      <td>$75.25</td>\n",
              "      <td>2.380950</td>\n",
              "      <td>70</td>\n",
              "      <td>0.835731</td>\n",
              "    </tr>\n",
              "    <tr>\n",
              "      <th>227</th>\n",
              "      <td>1</td>\n",
              "      <td>MCD</td>\n",
              "      <td>3/25/2011</td>\n",
              "      <td>$73.50</td>\n",
              "      <td>$75.75</td>\n",
              "      <td>$73.38</td>\n",
              "      <td>$75.25</td>\n",
              "      <td>23877441</td>\n",
              "      <td>2.380950</td>\n",
              "      <td>-41.553185</td>\n",
              "      <td>40853280.0</td>\n",
              "      <td>$75.55</td>\n",
              "      <td>$75.99</td>\n",
              "      <td>0.582396</td>\n",
              "      <td>63</td>\n",
              "      <td>0.810631</td>\n",
              "    </tr>\n",
              "    <tr>\n",
              "      <th>594</th>\n",
              "      <td>2</td>\n",
              "      <td>MCD</td>\n",
              "      <td>4/1/2011</td>\n",
              "      <td>$75.55</td>\n",
              "      <td>$76.50</td>\n",
              "      <td>$74.87</td>\n",
              "      <td>$75.99</td>\n",
              "      <td>17977737</td>\n",
              "      <td>0.582396</td>\n",
              "      <td>-24.708276</td>\n",
              "      <td>23877441.0</td>\n",
              "      <td>$76.31</td>\n",
              "      <td>$76.04</td>\n",
              "      <td>-0.353820</td>\n",
              "      <td>56</td>\n",
              "      <td>0.802737</td>\n",
              "    </tr>\n",
              "    <tr>\n",
              "      <th>595</th>\n",
              "      <td>2</td>\n",
              "      <td>MCD</td>\n",
              "      <td>4/8/2011</td>\n",
              "      <td>$76.31</td>\n",
              "      <td>$76.91</td>\n",
              "      <td>$75.66</td>\n",
              "      <td>$76.04</td>\n",
              "      <td>22337802</td>\n",
              "      <td>-0.353820</td>\n",
              "      <td>24.252580</td>\n",
              "      <td>17977737.0</td>\n",
              "      <td>$76.15</td>\n",
              "      <td>$77.38</td>\n",
              "      <td>1.615230</td>\n",
              "      <td>49</td>\n",
              "      <td>0.802209</td>\n",
              "    </tr>\n",
              "    <tr>\n",
              "      <th>596</th>\n",
              "      <td>2</td>\n",
              "      <td>MCD</td>\n",
              "      <td>4/15/2011</td>\n",
              "      <td>$76.15</td>\n",
              "      <td>$77.54</td>\n",
              "      <td>$75.83</td>\n",
              "      <td>$77.38</td>\n",
              "      <td>21670715</td>\n",
              "      <td>1.615230</td>\n",
              "      <td>-2.986359</td>\n",
              "      <td>22337802.0</td>\n",
              "      <td>$76.89</td>\n",
              "      <td>$76.91</td>\n",
              "      <td>0.026011</td>\n",
              "      <td>42</td>\n",
              "      <td>0.788317</td>\n",
              "    </tr>\n",
              "    <tr>\n",
              "      <th>597</th>\n",
              "      <td>2</td>\n",
              "      <td>MCD</td>\n",
              "      <td>4/21/2011</td>\n",
              "      <td>$76.89</td>\n",
              "      <td>$78.41</td>\n",
              "      <td>$76.40</td>\n",
              "      <td>$76.91</td>\n",
              "      <td>17718174</td>\n",
              "      <td>0.026011</td>\n",
              "      <td>-18.239089</td>\n",
              "      <td>21670715.0</td>\n",
              "      <td>$77.15</td>\n",
              "      <td>$78.31</td>\n",
              "      <td>1.503560</td>\n",
              "      <td>36</td>\n",
              "      <td>0.793135</td>\n",
              "    </tr>\n",
              "    <tr>\n",
              "      <th>598</th>\n",
              "      <td>2</td>\n",
              "      <td>MCD</td>\n",
              "      <td>4/29/2011</td>\n",
              "      <td>$77.15</td>\n",
              "      <td>$78.59</td>\n",
              "      <td>$76.54</td>\n",
              "      <td>$78.31</td>\n",
              "      <td>22923015</td>\n",
              "      <td>1.503560</td>\n",
              "      <td>29.375719</td>\n",
              "      <td>17718174.0</td>\n",
              "      <td>$78.40</td>\n",
              "      <td>$78.70</td>\n",
              "      <td>0.382653</td>\n",
              "      <td>28</td>\n",
              "      <td>0.778955</td>\n",
              "    </tr>\n",
              "    <tr>\n",
              "      <th>599</th>\n",
              "      <td>2</td>\n",
              "      <td>MCD</td>\n",
              "      <td>5/6/2011</td>\n",
              "      <td>$78.40</td>\n",
              "      <td>$79.37</td>\n",
              "      <td>$78.20</td>\n",
              "      <td>$78.70</td>\n",
              "      <td>26460318</td>\n",
              "      <td>0.382653</td>\n",
              "      <td>15.431229</td>\n",
              "      <td>22923015.0</td>\n",
              "      <td>$79.46</td>\n",
              "      <td>$80.74</td>\n",
              "      <td>1.610870</td>\n",
              "      <td>21</td>\n",
              "      <td>0.775095</td>\n",
              "    </tr>\n",
              "    <tr>\n",
              "      <th>600</th>\n",
              "      <td>2</td>\n",
              "      <td>MCD</td>\n",
              "      <td>5/13/2011</td>\n",
              "      <td>$79.46</td>\n",
              "      <td>$80.91</td>\n",
              "      <td>$79.08</td>\n",
              "      <td>$80.74</td>\n",
              "      <td>26573357</td>\n",
              "      <td>1.610870</td>\n",
              "      <td>0.427202</td>\n",
              "      <td>26460318.0</td>\n",
              "      <td>$80.44</td>\n",
              "      <td>$82.33</td>\n",
              "      <td>2.349580</td>\n",
              "      <td>14</td>\n",
              "      <td>0.755512</td>\n",
              "    </tr>\n",
              "    <tr>\n",
              "      <th>601</th>\n",
              "      <td>2</td>\n",
              "      <td>MCD</td>\n",
              "      <td>5/20/2011</td>\n",
              "      <td>$80.44</td>\n",
              "      <td>$82.85</td>\n",
              "      <td>$80.44</td>\n",
              "      <td>$82.33</td>\n",
              "      <td>27816875</td>\n",
              "      <td>2.349580</td>\n",
              "      <td>4.679567</td>\n",
              "      <td>26573357.0</td>\n",
              "      <td>$81.53</td>\n",
              "      <td>$81.62</td>\n",
              "      <td>0.110389</td>\n",
              "      <td>7</td>\n",
              "      <td>0.740921</td>\n",
              "    </tr>\n",
              "    <tr>\n",
              "      <th>602</th>\n",
              "      <td>2</td>\n",
              "      <td>MCD</td>\n",
              "      <td>5/27/2011</td>\n",
              "      <td>$81.53</td>\n",
              "      <td>$83.08</td>\n",
              "      <td>$81.49</td>\n",
              "      <td>$81.62</td>\n",
              "      <td>26628471</td>\n",
              "      <td>0.110389</td>\n",
              "      <td>-4.272241</td>\n",
              "      <td>27816875.0</td>\n",
              "      <td>$82.13</td>\n",
              "      <td>$80.54</td>\n",
              "      <td>-1.935960</td>\n",
              "      <td>0</td>\n",
              "      <td>0.747366</td>\n",
              "    </tr>\n",
              "    <tr>\n",
              "      <th>603</th>\n",
              "      <td>2</td>\n",
              "      <td>MCD</td>\n",
              "      <td>6/3/2011</td>\n",
              "      <td>$82.13</td>\n",
              "      <td>$82.25</td>\n",
              "      <td>$80.01</td>\n",
              "      <td>$80.54</td>\n",
              "      <td>23382621</td>\n",
              "      <td>-1.935960</td>\n",
              "      <td>-12.189397</td>\n",
              "      <td>26628471.0</td>\n",
              "      <td>$80.60</td>\n",
              "      <td>$80.36</td>\n",
              "      <td>-0.297767</td>\n",
              "      <td>88</td>\n",
              "      <td>0.757388</td>\n",
              "    </tr>\n",
              "    <tr>\n",
              "      <th>604</th>\n",
              "      <td>2</td>\n",
              "      <td>MCD</td>\n",
              "      <td>6/10/2011</td>\n",
              "      <td>$80.60</td>\n",
              "      <td>$82.23</td>\n",
              "      <td>$80.00</td>\n",
              "      <td>$80.36</td>\n",
              "      <td>31264251</td>\n",
              "      <td>-0.297767</td>\n",
              "      <td>33.707214</td>\n",
              "      <td>23382621.0</td>\n",
              "      <td>$80.43</td>\n",
              "      <td>$82.52</td>\n",
              "      <td>2.598530</td>\n",
              "      <td>81</td>\n",
              "      <td>0.759084</td>\n",
              "    </tr>\n",
              "    <tr>\n",
              "      <th>605</th>\n",
              "      <td>2</td>\n",
              "      <td>MCD</td>\n",
              "      <td>6/17/2011</td>\n",
              "      <td>$80.43</td>\n",
              "      <td>$82.72</td>\n",
              "      <td>$80.39</td>\n",
              "      <td>$82.52</td>\n",
              "      <td>27515629</td>\n",
              "      <td>2.598530</td>\n",
              "      <td>-11.990123</td>\n",
              "      <td>31264251.0</td>\n",
              "      <td>$82.32</td>\n",
              "      <td>$81.84</td>\n",
              "      <td>-0.583090</td>\n",
              "      <td>74</td>\n",
              "      <td>0.739215</td>\n",
              "    </tr>\n",
              "    <tr>\n",
              "      <th>606</th>\n",
              "      <td>2</td>\n",
              "      <td>MCD</td>\n",
              "      <td>6/24/2011</td>\n",
              "      <td>$82.32</td>\n",
              "      <td>$83.09</td>\n",
              "      <td>$81.40</td>\n",
              "      <td>$81.84</td>\n",
              "      <td>28303321</td>\n",
              "      <td>-0.583090</td>\n",
              "      <td>2.862708</td>\n",
              "      <td>27515629.0</td>\n",
              "      <td>$81.51</td>\n",
              "      <td>$85.65</td>\n",
              "      <td>5.079130</td>\n",
              "      <td>67</td>\n",
              "      <td>0.745357</td>\n",
              "    </tr>\n",
              "  </tbody>\n",
              "</table>\n",
              "</div>\n",
              "      <button class=\"colab-df-convert\" onclick=\"convertToInteractive('df-3f4e14aa-bce9-4d58-a689-7cd96ef825a4')\"\n",
              "              title=\"Convert this dataframe to an interactive table.\"\n",
              "              style=\"display:none;\">\n",
              "        \n",
              "  <svg xmlns=\"http://www.w3.org/2000/svg\" height=\"24px\"viewBox=\"0 0 24 24\"\n",
              "       width=\"24px\">\n",
              "    <path d=\"M0 0h24v24H0V0z\" fill=\"none\"/>\n",
              "    <path d=\"M18.56 5.44l.94 2.06.94-2.06 2.06-.94-2.06-.94-.94-2.06-.94 2.06-2.06.94zm-11 1L8.5 8.5l.94-2.06 2.06-.94-2.06-.94L8.5 2.5l-.94 2.06-2.06.94zm10 10l.94 2.06.94-2.06 2.06-.94-2.06-.94-.94-2.06-.94 2.06-2.06.94z\"/><path d=\"M17.41 7.96l-1.37-1.37c-.4-.4-.92-.59-1.43-.59-.52 0-1.04.2-1.43.59L10.3 9.45l-7.72 7.72c-.78.78-.78 2.05 0 2.83L4 21.41c.39.39.9.59 1.41.59.51 0 1.02-.2 1.41-.59l7.78-7.78 2.81-2.81c.8-.78.8-2.07 0-2.86zM5.41 20L4 18.59l7.72-7.72 1.47 1.35L5.41 20z\"/>\n",
              "  </svg>\n",
              "      </button>\n",
              "      \n",
              "  <style>\n",
              "    .colab-df-container {\n",
              "      display:flex;\n",
              "      flex-wrap:wrap;\n",
              "      gap: 12px;\n",
              "    }\n",
              "\n",
              "    .colab-df-convert {\n",
              "      background-color: #E8F0FE;\n",
              "      border: none;\n",
              "      border-radius: 50%;\n",
              "      cursor: pointer;\n",
              "      display: none;\n",
              "      fill: #1967D2;\n",
              "      height: 32px;\n",
              "      padding: 0 0 0 0;\n",
              "      width: 32px;\n",
              "    }\n",
              "\n",
              "    .colab-df-convert:hover {\n",
              "      background-color: #E2EBFA;\n",
              "      box-shadow: 0px 1px 2px rgba(60, 64, 67, 0.3), 0px 1px 3px 1px rgba(60, 64, 67, 0.15);\n",
              "      fill: #174EA6;\n",
              "    }\n",
              "\n",
              "    [theme=dark] .colab-df-convert {\n",
              "      background-color: #3B4455;\n",
              "      fill: #D2E3FC;\n",
              "    }\n",
              "\n",
              "    [theme=dark] .colab-df-convert:hover {\n",
              "      background-color: #434B5C;\n",
              "      box-shadow: 0px 1px 3px 1px rgba(0, 0, 0, 0.15);\n",
              "      filter: drop-shadow(0px 1px 2px rgba(0, 0, 0, 0.3));\n",
              "      fill: #FFFFFF;\n",
              "    }\n",
              "  </style>\n",
              "\n",
              "      <script>\n",
              "        const buttonEl =\n",
              "          document.querySelector('#df-3f4e14aa-bce9-4d58-a689-7cd96ef825a4 button.colab-df-convert');\n",
              "        buttonEl.style.display =\n",
              "          google.colab.kernel.accessAllowed ? 'block' : 'none';\n",
              "\n",
              "        async function convertToInteractive(key) {\n",
              "          const element = document.querySelector('#df-3f4e14aa-bce9-4d58-a689-7cd96ef825a4');\n",
              "          const dataTable =\n",
              "            await google.colab.kernel.invokeFunction('convertToInteractive',\n",
              "                                                     [key], {});\n",
              "          if (!dataTable) return;\n",
              "\n",
              "          const docLinkHtml = 'Like what you see? Visit the ' +\n",
              "            '<a target=\"_blank\" href=https://colab.research.google.com/notebooks/data_table.ipynb>data table notebook</a>'\n",
              "            + ' to learn more about interactive tables.';\n",
              "          element.innerHTML = '';\n",
              "          dataTable['output_type'] = 'display_data';\n",
              "          await google.colab.output.renderOutput(dataTable, element);\n",
              "          const docLink = document.createElement('div');\n",
              "          docLink.innerHTML = docLinkHtml;\n",
              "          element.appendChild(docLink);\n",
              "        }\n",
              "      </script>\n",
              "    </div>\n",
              "  </div>\n",
              "  "
            ]
          },
          "metadata": {},
          "execution_count": 40
        }
      ]
    },
    {
      "cell_type": "code",
      "source": [
        "#Selecionando apenas as colunas de data e valores de ações.\n",
        "df_mcd = df_mcd[['date', 'open', 'high', 'low', 'close']]\n",
        "df_mcd"
      ],
      "metadata": {
        "id": "-PEq8np7FAWS",
        "colab": {
          "base_uri": "https://localhost:8080/",
          "height": 833
        },
        "outputId": "1ed0168b-652e-4ae0-a274-68f304988f7e"
      },
      "execution_count": null,
      "outputs": [
        {
          "output_type": "execute_result",
          "data": {
            "text/plain": [
              "          date    open    high     low   close\n",
              "216   1/7/2011  $77.10  $77.59  $73.59  $74.37\n",
              "217  1/14/2011  $74.25  $74.49  $72.46  $74.06\n",
              "218  1/21/2011  $74.65  $75.75  $74.31  $75.01\n",
              "219  1/28/2011  $74.25  $75.85  $73.05  $73.28\n",
              "220   2/4/2011  $73.80  $74.50  $73.08  $74.05\n",
              "221  2/11/2011  $74.13  $76.32  $73.30  $76.14\n",
              "222  2/18/2011  $76.07  $76.45  $75.70  $76.13\n",
              "223  2/25/2011  $75.95  $76.45  $74.42  $74.44\n",
              "224   3/4/2011  $74.51  $76.63  $73.64  $76.03\n",
              "225  3/11/2011  $76.38  $77.25  $74.97  $76.73\n",
              "226  3/18/2011  $76.10  $76.41  $72.89  $72.99\n",
              "227  3/25/2011  $73.50  $75.75  $73.38  $75.25\n",
              "594   4/1/2011  $75.55  $76.50  $74.87  $75.99\n",
              "595   4/8/2011  $76.31  $76.91  $75.66  $76.04\n",
              "596  4/15/2011  $76.15  $77.54  $75.83  $77.38\n",
              "597  4/21/2011  $76.89  $78.41  $76.40  $76.91\n",
              "598  4/29/2011  $77.15  $78.59  $76.54  $78.31\n",
              "599   5/6/2011  $78.40  $79.37  $78.20  $78.70\n",
              "600  5/13/2011  $79.46  $80.91  $79.08  $80.74\n",
              "601  5/20/2011  $80.44  $82.85  $80.44  $82.33\n",
              "602  5/27/2011  $81.53  $83.08  $81.49  $81.62\n",
              "603   6/3/2011  $82.13  $82.25  $80.01  $80.54\n",
              "604  6/10/2011  $80.60  $82.23  $80.00  $80.36\n",
              "605  6/17/2011  $80.43  $82.72  $80.39  $82.52\n",
              "606  6/24/2011  $82.32  $83.09  $81.40  $81.84"
            ],
            "text/html": [
              "\n",
              "  <div id=\"df-96833301-6338-4853-83b7-185d9cdcb8c0\">\n",
              "    <div class=\"colab-df-container\">\n",
              "      <div>\n",
              "<style scoped>\n",
              "    .dataframe tbody tr th:only-of-type {\n",
              "        vertical-align: middle;\n",
              "    }\n",
              "\n",
              "    .dataframe tbody tr th {\n",
              "        vertical-align: top;\n",
              "    }\n",
              "\n",
              "    .dataframe thead th {\n",
              "        text-align: right;\n",
              "    }\n",
              "</style>\n",
              "<table border=\"1\" class=\"dataframe\">\n",
              "  <thead>\n",
              "    <tr style=\"text-align: right;\">\n",
              "      <th></th>\n",
              "      <th>date</th>\n",
              "      <th>open</th>\n",
              "      <th>high</th>\n",
              "      <th>low</th>\n",
              "      <th>close</th>\n",
              "    </tr>\n",
              "  </thead>\n",
              "  <tbody>\n",
              "    <tr>\n",
              "      <th>216</th>\n",
              "      <td>1/7/2011</td>\n",
              "      <td>$77.10</td>\n",
              "      <td>$77.59</td>\n",
              "      <td>$73.59</td>\n",
              "      <td>$74.37</td>\n",
              "    </tr>\n",
              "    <tr>\n",
              "      <th>217</th>\n",
              "      <td>1/14/2011</td>\n",
              "      <td>$74.25</td>\n",
              "      <td>$74.49</td>\n",
              "      <td>$72.46</td>\n",
              "      <td>$74.06</td>\n",
              "    </tr>\n",
              "    <tr>\n",
              "      <th>218</th>\n",
              "      <td>1/21/2011</td>\n",
              "      <td>$74.65</td>\n",
              "      <td>$75.75</td>\n",
              "      <td>$74.31</td>\n",
              "      <td>$75.01</td>\n",
              "    </tr>\n",
              "    <tr>\n",
              "      <th>219</th>\n",
              "      <td>1/28/2011</td>\n",
              "      <td>$74.25</td>\n",
              "      <td>$75.85</td>\n",
              "      <td>$73.05</td>\n",
              "      <td>$73.28</td>\n",
              "    </tr>\n",
              "    <tr>\n",
              "      <th>220</th>\n",
              "      <td>2/4/2011</td>\n",
              "      <td>$73.80</td>\n",
              "      <td>$74.50</td>\n",
              "      <td>$73.08</td>\n",
              "      <td>$74.05</td>\n",
              "    </tr>\n",
              "    <tr>\n",
              "      <th>221</th>\n",
              "      <td>2/11/2011</td>\n",
              "      <td>$74.13</td>\n",
              "      <td>$76.32</td>\n",
              "      <td>$73.30</td>\n",
              "      <td>$76.14</td>\n",
              "    </tr>\n",
              "    <tr>\n",
              "      <th>222</th>\n",
              "      <td>2/18/2011</td>\n",
              "      <td>$76.07</td>\n",
              "      <td>$76.45</td>\n",
              "      <td>$75.70</td>\n",
              "      <td>$76.13</td>\n",
              "    </tr>\n",
              "    <tr>\n",
              "      <th>223</th>\n",
              "      <td>2/25/2011</td>\n",
              "      <td>$75.95</td>\n",
              "      <td>$76.45</td>\n",
              "      <td>$74.42</td>\n",
              "      <td>$74.44</td>\n",
              "    </tr>\n",
              "    <tr>\n",
              "      <th>224</th>\n",
              "      <td>3/4/2011</td>\n",
              "      <td>$74.51</td>\n",
              "      <td>$76.63</td>\n",
              "      <td>$73.64</td>\n",
              "      <td>$76.03</td>\n",
              "    </tr>\n",
              "    <tr>\n",
              "      <th>225</th>\n",
              "      <td>3/11/2011</td>\n",
              "      <td>$76.38</td>\n",
              "      <td>$77.25</td>\n",
              "      <td>$74.97</td>\n",
              "      <td>$76.73</td>\n",
              "    </tr>\n",
              "    <tr>\n",
              "      <th>226</th>\n",
              "      <td>3/18/2011</td>\n",
              "      <td>$76.10</td>\n",
              "      <td>$76.41</td>\n",
              "      <td>$72.89</td>\n",
              "      <td>$72.99</td>\n",
              "    </tr>\n",
              "    <tr>\n",
              "      <th>227</th>\n",
              "      <td>3/25/2011</td>\n",
              "      <td>$73.50</td>\n",
              "      <td>$75.75</td>\n",
              "      <td>$73.38</td>\n",
              "      <td>$75.25</td>\n",
              "    </tr>\n",
              "    <tr>\n",
              "      <th>594</th>\n",
              "      <td>4/1/2011</td>\n",
              "      <td>$75.55</td>\n",
              "      <td>$76.50</td>\n",
              "      <td>$74.87</td>\n",
              "      <td>$75.99</td>\n",
              "    </tr>\n",
              "    <tr>\n",
              "      <th>595</th>\n",
              "      <td>4/8/2011</td>\n",
              "      <td>$76.31</td>\n",
              "      <td>$76.91</td>\n",
              "      <td>$75.66</td>\n",
              "      <td>$76.04</td>\n",
              "    </tr>\n",
              "    <tr>\n",
              "      <th>596</th>\n",
              "      <td>4/15/2011</td>\n",
              "      <td>$76.15</td>\n",
              "      <td>$77.54</td>\n",
              "      <td>$75.83</td>\n",
              "      <td>$77.38</td>\n",
              "    </tr>\n",
              "    <tr>\n",
              "      <th>597</th>\n",
              "      <td>4/21/2011</td>\n",
              "      <td>$76.89</td>\n",
              "      <td>$78.41</td>\n",
              "      <td>$76.40</td>\n",
              "      <td>$76.91</td>\n",
              "    </tr>\n",
              "    <tr>\n",
              "      <th>598</th>\n",
              "      <td>4/29/2011</td>\n",
              "      <td>$77.15</td>\n",
              "      <td>$78.59</td>\n",
              "      <td>$76.54</td>\n",
              "      <td>$78.31</td>\n",
              "    </tr>\n",
              "    <tr>\n",
              "      <th>599</th>\n",
              "      <td>5/6/2011</td>\n",
              "      <td>$78.40</td>\n",
              "      <td>$79.37</td>\n",
              "      <td>$78.20</td>\n",
              "      <td>$78.70</td>\n",
              "    </tr>\n",
              "    <tr>\n",
              "      <th>600</th>\n",
              "      <td>5/13/2011</td>\n",
              "      <td>$79.46</td>\n",
              "      <td>$80.91</td>\n",
              "      <td>$79.08</td>\n",
              "      <td>$80.74</td>\n",
              "    </tr>\n",
              "    <tr>\n",
              "      <th>601</th>\n",
              "      <td>5/20/2011</td>\n",
              "      <td>$80.44</td>\n",
              "      <td>$82.85</td>\n",
              "      <td>$80.44</td>\n",
              "      <td>$82.33</td>\n",
              "    </tr>\n",
              "    <tr>\n",
              "      <th>602</th>\n",
              "      <td>5/27/2011</td>\n",
              "      <td>$81.53</td>\n",
              "      <td>$83.08</td>\n",
              "      <td>$81.49</td>\n",
              "      <td>$81.62</td>\n",
              "    </tr>\n",
              "    <tr>\n",
              "      <th>603</th>\n",
              "      <td>6/3/2011</td>\n",
              "      <td>$82.13</td>\n",
              "      <td>$82.25</td>\n",
              "      <td>$80.01</td>\n",
              "      <td>$80.54</td>\n",
              "    </tr>\n",
              "    <tr>\n",
              "      <th>604</th>\n",
              "      <td>6/10/2011</td>\n",
              "      <td>$80.60</td>\n",
              "      <td>$82.23</td>\n",
              "      <td>$80.00</td>\n",
              "      <td>$80.36</td>\n",
              "    </tr>\n",
              "    <tr>\n",
              "      <th>605</th>\n",
              "      <td>6/17/2011</td>\n",
              "      <td>$80.43</td>\n",
              "      <td>$82.72</td>\n",
              "      <td>$80.39</td>\n",
              "      <td>$82.52</td>\n",
              "    </tr>\n",
              "    <tr>\n",
              "      <th>606</th>\n",
              "      <td>6/24/2011</td>\n",
              "      <td>$82.32</td>\n",
              "      <td>$83.09</td>\n",
              "      <td>$81.40</td>\n",
              "      <td>$81.84</td>\n",
              "    </tr>\n",
              "  </tbody>\n",
              "</table>\n",
              "</div>\n",
              "      <button class=\"colab-df-convert\" onclick=\"convertToInteractive('df-96833301-6338-4853-83b7-185d9cdcb8c0')\"\n",
              "              title=\"Convert this dataframe to an interactive table.\"\n",
              "              style=\"display:none;\">\n",
              "        \n",
              "  <svg xmlns=\"http://www.w3.org/2000/svg\" height=\"24px\"viewBox=\"0 0 24 24\"\n",
              "       width=\"24px\">\n",
              "    <path d=\"M0 0h24v24H0V0z\" fill=\"none\"/>\n",
              "    <path d=\"M18.56 5.44l.94 2.06.94-2.06 2.06-.94-2.06-.94-.94-2.06-.94 2.06-2.06.94zm-11 1L8.5 8.5l.94-2.06 2.06-.94-2.06-.94L8.5 2.5l-.94 2.06-2.06.94zm10 10l.94 2.06.94-2.06 2.06-.94-2.06-.94-.94-2.06-.94 2.06-2.06.94z\"/><path d=\"M17.41 7.96l-1.37-1.37c-.4-.4-.92-.59-1.43-.59-.52 0-1.04.2-1.43.59L10.3 9.45l-7.72 7.72c-.78.78-.78 2.05 0 2.83L4 21.41c.39.39.9.59 1.41.59.51 0 1.02-.2 1.41-.59l7.78-7.78 2.81-2.81c.8-.78.8-2.07 0-2.86zM5.41 20L4 18.59l7.72-7.72 1.47 1.35L5.41 20z\"/>\n",
              "  </svg>\n",
              "      </button>\n",
              "      \n",
              "  <style>\n",
              "    .colab-df-container {\n",
              "      display:flex;\n",
              "      flex-wrap:wrap;\n",
              "      gap: 12px;\n",
              "    }\n",
              "\n",
              "    .colab-df-convert {\n",
              "      background-color: #E8F0FE;\n",
              "      border: none;\n",
              "      border-radius: 50%;\n",
              "      cursor: pointer;\n",
              "      display: none;\n",
              "      fill: #1967D2;\n",
              "      height: 32px;\n",
              "      padding: 0 0 0 0;\n",
              "      width: 32px;\n",
              "    }\n",
              "\n",
              "    .colab-df-convert:hover {\n",
              "      background-color: #E2EBFA;\n",
              "      box-shadow: 0px 1px 2px rgba(60, 64, 67, 0.3), 0px 1px 3px 1px rgba(60, 64, 67, 0.15);\n",
              "      fill: #174EA6;\n",
              "    }\n",
              "\n",
              "    [theme=dark] .colab-df-convert {\n",
              "      background-color: #3B4455;\n",
              "      fill: #D2E3FC;\n",
              "    }\n",
              "\n",
              "    [theme=dark] .colab-df-convert:hover {\n",
              "      background-color: #434B5C;\n",
              "      box-shadow: 0px 1px 3px 1px rgba(0, 0, 0, 0.15);\n",
              "      filter: drop-shadow(0px 1px 2px rgba(0, 0, 0, 0.3));\n",
              "      fill: #FFFFFF;\n",
              "    }\n",
              "  </style>\n",
              "\n",
              "      <script>\n",
              "        const buttonEl =\n",
              "          document.querySelector('#df-96833301-6338-4853-83b7-185d9cdcb8c0 button.colab-df-convert');\n",
              "        buttonEl.style.display =\n",
              "          google.colab.kernel.accessAllowed ? 'block' : 'none';\n",
              "\n",
              "        async function convertToInteractive(key) {\n",
              "          const element = document.querySelector('#df-96833301-6338-4853-83b7-185d9cdcb8c0');\n",
              "          const dataTable =\n",
              "            await google.colab.kernel.invokeFunction('convertToInteractive',\n",
              "                                                     [key], {});\n",
              "          if (!dataTable) return;\n",
              "\n",
              "          const docLinkHtml = 'Like what you see? Visit the ' +\n",
              "            '<a target=\"_blank\" href=https://colab.research.google.com/notebooks/data_table.ipynb>data table notebook</a>'\n",
              "            + ' to learn more about interactive tables.';\n",
              "          element.innerHTML = '';\n",
              "          dataTable['output_type'] = 'display_data';\n",
              "          await google.colab.output.renderOutput(dataTable, element);\n",
              "          const docLink = document.createElement('div');\n",
              "          docLink.innerHTML = docLinkHtml;\n",
              "          element.appendChild(docLink);\n",
              "        }\n",
              "      </script>\n",
              "    </div>\n",
              "  </div>\n",
              "  "
            ]
          },
          "metadata": {},
          "execution_count": 41
        }
      ]
    },
    {
      "cell_type": "code",
      "source": [
        "df_mcd.head(n=10)"
      ],
      "metadata": {
        "id": "JOWH53dUFRSs",
        "colab": {
          "base_uri": "https://localhost:8080/",
          "height": 363
        },
        "outputId": "2e51ae00-1d64-44ed-feac-c5d359402b84"
      },
      "execution_count": null,
      "outputs": [
        {
          "output_type": "execute_result",
          "data": {
            "text/plain": [
              "          date    open    high     low   close\n",
              "216   1/7/2011  $77.10  $77.59  $73.59  $74.37\n",
              "217  1/14/2011  $74.25  $74.49  $72.46  $74.06\n",
              "218  1/21/2011  $74.65  $75.75  $74.31  $75.01\n",
              "219  1/28/2011  $74.25  $75.85  $73.05  $73.28\n",
              "220   2/4/2011  $73.80  $74.50  $73.08  $74.05\n",
              "221  2/11/2011  $74.13  $76.32  $73.30  $76.14\n",
              "222  2/18/2011  $76.07  $76.45  $75.70  $76.13\n",
              "223  2/25/2011  $75.95  $76.45  $74.42  $74.44\n",
              "224   3/4/2011  $74.51  $76.63  $73.64  $76.03\n",
              "225  3/11/2011  $76.38  $77.25  $74.97  $76.73"
            ],
            "text/html": [
              "\n",
              "  <div id=\"df-4507b49c-f065-4a61-a8c5-f7eb1fe09f4d\">\n",
              "    <div class=\"colab-df-container\">\n",
              "      <div>\n",
              "<style scoped>\n",
              "    .dataframe tbody tr th:only-of-type {\n",
              "        vertical-align: middle;\n",
              "    }\n",
              "\n",
              "    .dataframe tbody tr th {\n",
              "        vertical-align: top;\n",
              "    }\n",
              "\n",
              "    .dataframe thead th {\n",
              "        text-align: right;\n",
              "    }\n",
              "</style>\n",
              "<table border=\"1\" class=\"dataframe\">\n",
              "  <thead>\n",
              "    <tr style=\"text-align: right;\">\n",
              "      <th></th>\n",
              "      <th>date</th>\n",
              "      <th>open</th>\n",
              "      <th>high</th>\n",
              "      <th>low</th>\n",
              "      <th>close</th>\n",
              "    </tr>\n",
              "  </thead>\n",
              "  <tbody>\n",
              "    <tr>\n",
              "      <th>216</th>\n",
              "      <td>1/7/2011</td>\n",
              "      <td>$77.10</td>\n",
              "      <td>$77.59</td>\n",
              "      <td>$73.59</td>\n",
              "      <td>$74.37</td>\n",
              "    </tr>\n",
              "    <tr>\n",
              "      <th>217</th>\n",
              "      <td>1/14/2011</td>\n",
              "      <td>$74.25</td>\n",
              "      <td>$74.49</td>\n",
              "      <td>$72.46</td>\n",
              "      <td>$74.06</td>\n",
              "    </tr>\n",
              "    <tr>\n",
              "      <th>218</th>\n",
              "      <td>1/21/2011</td>\n",
              "      <td>$74.65</td>\n",
              "      <td>$75.75</td>\n",
              "      <td>$74.31</td>\n",
              "      <td>$75.01</td>\n",
              "    </tr>\n",
              "    <tr>\n",
              "      <th>219</th>\n",
              "      <td>1/28/2011</td>\n",
              "      <td>$74.25</td>\n",
              "      <td>$75.85</td>\n",
              "      <td>$73.05</td>\n",
              "      <td>$73.28</td>\n",
              "    </tr>\n",
              "    <tr>\n",
              "      <th>220</th>\n",
              "      <td>2/4/2011</td>\n",
              "      <td>$73.80</td>\n",
              "      <td>$74.50</td>\n",
              "      <td>$73.08</td>\n",
              "      <td>$74.05</td>\n",
              "    </tr>\n",
              "    <tr>\n",
              "      <th>221</th>\n",
              "      <td>2/11/2011</td>\n",
              "      <td>$74.13</td>\n",
              "      <td>$76.32</td>\n",
              "      <td>$73.30</td>\n",
              "      <td>$76.14</td>\n",
              "    </tr>\n",
              "    <tr>\n",
              "      <th>222</th>\n",
              "      <td>2/18/2011</td>\n",
              "      <td>$76.07</td>\n",
              "      <td>$76.45</td>\n",
              "      <td>$75.70</td>\n",
              "      <td>$76.13</td>\n",
              "    </tr>\n",
              "    <tr>\n",
              "      <th>223</th>\n",
              "      <td>2/25/2011</td>\n",
              "      <td>$75.95</td>\n",
              "      <td>$76.45</td>\n",
              "      <td>$74.42</td>\n",
              "      <td>$74.44</td>\n",
              "    </tr>\n",
              "    <tr>\n",
              "      <th>224</th>\n",
              "      <td>3/4/2011</td>\n",
              "      <td>$74.51</td>\n",
              "      <td>$76.63</td>\n",
              "      <td>$73.64</td>\n",
              "      <td>$76.03</td>\n",
              "    </tr>\n",
              "    <tr>\n",
              "      <th>225</th>\n",
              "      <td>3/11/2011</td>\n",
              "      <td>$76.38</td>\n",
              "      <td>$77.25</td>\n",
              "      <td>$74.97</td>\n",
              "      <td>$76.73</td>\n",
              "    </tr>\n",
              "  </tbody>\n",
              "</table>\n",
              "</div>\n",
              "      <button class=\"colab-df-convert\" onclick=\"convertToInteractive('df-4507b49c-f065-4a61-a8c5-f7eb1fe09f4d')\"\n",
              "              title=\"Convert this dataframe to an interactive table.\"\n",
              "              style=\"display:none;\">\n",
              "        \n",
              "  <svg xmlns=\"http://www.w3.org/2000/svg\" height=\"24px\"viewBox=\"0 0 24 24\"\n",
              "       width=\"24px\">\n",
              "    <path d=\"M0 0h24v24H0V0z\" fill=\"none\"/>\n",
              "    <path d=\"M18.56 5.44l.94 2.06.94-2.06 2.06-.94-2.06-.94-.94-2.06-.94 2.06-2.06.94zm-11 1L8.5 8.5l.94-2.06 2.06-.94-2.06-.94L8.5 2.5l-.94 2.06-2.06.94zm10 10l.94 2.06.94-2.06 2.06-.94-2.06-.94-.94-2.06-.94 2.06-2.06.94z\"/><path d=\"M17.41 7.96l-1.37-1.37c-.4-.4-.92-.59-1.43-.59-.52 0-1.04.2-1.43.59L10.3 9.45l-7.72 7.72c-.78.78-.78 2.05 0 2.83L4 21.41c.39.39.9.59 1.41.59.51 0 1.02-.2 1.41-.59l7.78-7.78 2.81-2.81c.8-.78.8-2.07 0-2.86zM5.41 20L4 18.59l7.72-7.72 1.47 1.35L5.41 20z\"/>\n",
              "  </svg>\n",
              "      </button>\n",
              "      \n",
              "  <style>\n",
              "    .colab-df-container {\n",
              "      display:flex;\n",
              "      flex-wrap:wrap;\n",
              "      gap: 12px;\n",
              "    }\n",
              "\n",
              "    .colab-df-convert {\n",
              "      background-color: #E8F0FE;\n",
              "      border: none;\n",
              "      border-radius: 50%;\n",
              "      cursor: pointer;\n",
              "      display: none;\n",
              "      fill: #1967D2;\n",
              "      height: 32px;\n",
              "      padding: 0 0 0 0;\n",
              "      width: 32px;\n",
              "    }\n",
              "\n",
              "    .colab-df-convert:hover {\n",
              "      background-color: #E2EBFA;\n",
              "      box-shadow: 0px 1px 2px rgba(60, 64, 67, 0.3), 0px 1px 3px 1px rgba(60, 64, 67, 0.15);\n",
              "      fill: #174EA6;\n",
              "    }\n",
              "\n",
              "    [theme=dark] .colab-df-convert {\n",
              "      background-color: #3B4455;\n",
              "      fill: #D2E3FC;\n",
              "    }\n",
              "\n",
              "    [theme=dark] .colab-df-convert:hover {\n",
              "      background-color: #434B5C;\n",
              "      box-shadow: 0px 1px 3px 1px rgba(0, 0, 0, 0.15);\n",
              "      filter: drop-shadow(0px 1px 2px rgba(0, 0, 0, 0.3));\n",
              "      fill: #FFFFFF;\n",
              "    }\n",
              "  </style>\n",
              "\n",
              "      <script>\n",
              "        const buttonEl =\n",
              "          document.querySelector('#df-4507b49c-f065-4a61-a8c5-f7eb1fe09f4d button.colab-df-convert');\n",
              "        buttonEl.style.display =\n",
              "          google.colab.kernel.accessAllowed ? 'block' : 'none';\n",
              "\n",
              "        async function convertToInteractive(key) {\n",
              "          const element = document.querySelector('#df-4507b49c-f065-4a61-a8c5-f7eb1fe09f4d');\n",
              "          const dataTable =\n",
              "            await google.colab.kernel.invokeFunction('convertToInteractive',\n",
              "                                                     [key], {});\n",
              "          if (!dataTable) return;\n",
              "\n",
              "          const docLinkHtml = 'Like what you see? Visit the ' +\n",
              "            '<a target=\"_blank\" href=https://colab.research.google.com/notebooks/data_table.ipynb>data table notebook</a>'\n",
              "            + ' to learn more about interactive tables.';\n",
              "          element.innerHTML = '';\n",
              "          dataTable['output_type'] = 'display_data';\n",
              "          await google.colab.output.renderOutput(dataTable, element);\n",
              "          const docLink = document.createElement('div');\n",
              "          docLink.innerHTML = docLinkHtml;\n",
              "          element.appendChild(docLink);\n",
              "        }\n",
              "      </script>\n",
              "    </div>\n",
              "  </div>\n",
              "  "
            ]
          },
          "metadata": {},
          "execution_count": 42
        }
      ]
    },
    {
      "cell_type": "code",
      "source": [
        "#Conferir tipo dos valores\n",
        "df_mcd.dtypes"
      ],
      "metadata": {
        "id": "JmWr6QK7Fsv6",
        "colab": {
          "base_uri": "https://localhost:8080/"
        },
        "outputId": "8a008c63-318b-4165-9563-6c707dc56d20"
      },
      "execution_count": null,
      "outputs": [
        {
          "output_type": "execute_result",
          "data": {
            "text/plain": [
              "date     object\n",
              "open     object\n",
              "high     object\n",
              "low      object\n",
              "close    object\n",
              "dtype: object"
            ]
          },
          "metadata": {},
          "execution_count": 43
        }
      ]
    },
    {
      "cell_type": "code",
      "source": [
        "#Vamos limpar as colunas com o método apply, que permite a aplicação de uma função anônima (lambda) qualquer.\n",
        "#A função lambda remove o caracter $ e faz a conversão do tipo de str para float.\n",
        "\n",
        "for col in ['open', 'high', 'low', 'close']:\n",
        "  df_mcd[col] = df_mcd[col].apply(lambda value: float(value.split(sep='$')[-1]))"
      ],
      "metadata": {
        "id": "avmqTO-2GD95",
        "colab": {
          "base_uri": "https://localhost:8080/"
        },
        "outputId": "058de6f2-0f7d-4708-f436-e3ec52be2607"
      },
      "execution_count": null,
      "outputs": [
        {
          "output_type": "stream",
          "name": "stderr",
          "text": [
            "<ipython-input-44-09d74b4cb722>:5: SettingWithCopyWarning: \n",
            "A value is trying to be set on a copy of a slice from a DataFrame.\n",
            "Try using .loc[row_indexer,col_indexer] = value instead\n",
            "\n",
            "See the caveats in the documentation: https://pandas.pydata.org/pandas-docs/stable/user_guide/indexing.html#returning-a-view-versus-a-copy\n",
            "  df_mcd[col] = df_mcd[col].apply(lambda value: float(value.split(sep='$')[-1]))\n"
          ]
        }
      ]
    },
    {
      "cell_type": "code",
      "source": [
        "df_mcd.head(n=10)"
      ],
      "metadata": {
        "id": "ZSPAmWe1HpNJ",
        "colab": {
          "base_uri": "https://localhost:8080/",
          "height": 363
        },
        "outputId": "af4ec320-6729-4baa-ce61-8952d504da92"
      },
      "execution_count": null,
      "outputs": [
        {
          "output_type": "execute_result",
          "data": {
            "text/plain": [
              "          date   open   high    low  close\n",
              "216   1/7/2011  77.10  77.59  73.59  74.37\n",
              "217  1/14/2011  74.25  74.49  72.46  74.06\n",
              "218  1/21/2011  74.65  75.75  74.31  75.01\n",
              "219  1/28/2011  74.25  75.85  73.05  73.28\n",
              "220   2/4/2011  73.80  74.50  73.08  74.05\n",
              "221  2/11/2011  74.13  76.32  73.30  76.14\n",
              "222  2/18/2011  76.07  76.45  75.70  76.13\n",
              "223  2/25/2011  75.95  76.45  74.42  74.44\n",
              "224   3/4/2011  74.51  76.63  73.64  76.03\n",
              "225  3/11/2011  76.38  77.25  74.97  76.73"
            ],
            "text/html": [
              "\n",
              "  <div id=\"df-5fccc643-ded4-43a1-9ad2-053f00489ee0\">\n",
              "    <div class=\"colab-df-container\">\n",
              "      <div>\n",
              "<style scoped>\n",
              "    .dataframe tbody tr th:only-of-type {\n",
              "        vertical-align: middle;\n",
              "    }\n",
              "\n",
              "    .dataframe tbody tr th {\n",
              "        vertical-align: top;\n",
              "    }\n",
              "\n",
              "    .dataframe thead th {\n",
              "        text-align: right;\n",
              "    }\n",
              "</style>\n",
              "<table border=\"1\" class=\"dataframe\">\n",
              "  <thead>\n",
              "    <tr style=\"text-align: right;\">\n",
              "      <th></th>\n",
              "      <th>date</th>\n",
              "      <th>open</th>\n",
              "      <th>high</th>\n",
              "      <th>low</th>\n",
              "      <th>close</th>\n",
              "    </tr>\n",
              "  </thead>\n",
              "  <tbody>\n",
              "    <tr>\n",
              "      <th>216</th>\n",
              "      <td>1/7/2011</td>\n",
              "      <td>77.10</td>\n",
              "      <td>77.59</td>\n",
              "      <td>73.59</td>\n",
              "      <td>74.37</td>\n",
              "    </tr>\n",
              "    <tr>\n",
              "      <th>217</th>\n",
              "      <td>1/14/2011</td>\n",
              "      <td>74.25</td>\n",
              "      <td>74.49</td>\n",
              "      <td>72.46</td>\n",
              "      <td>74.06</td>\n",
              "    </tr>\n",
              "    <tr>\n",
              "      <th>218</th>\n",
              "      <td>1/21/2011</td>\n",
              "      <td>74.65</td>\n",
              "      <td>75.75</td>\n",
              "      <td>74.31</td>\n",
              "      <td>75.01</td>\n",
              "    </tr>\n",
              "    <tr>\n",
              "      <th>219</th>\n",
              "      <td>1/28/2011</td>\n",
              "      <td>74.25</td>\n",
              "      <td>75.85</td>\n",
              "      <td>73.05</td>\n",
              "      <td>73.28</td>\n",
              "    </tr>\n",
              "    <tr>\n",
              "      <th>220</th>\n",
              "      <td>2/4/2011</td>\n",
              "      <td>73.80</td>\n",
              "      <td>74.50</td>\n",
              "      <td>73.08</td>\n",
              "      <td>74.05</td>\n",
              "    </tr>\n",
              "    <tr>\n",
              "      <th>221</th>\n",
              "      <td>2/11/2011</td>\n",
              "      <td>74.13</td>\n",
              "      <td>76.32</td>\n",
              "      <td>73.30</td>\n",
              "      <td>76.14</td>\n",
              "    </tr>\n",
              "    <tr>\n",
              "      <th>222</th>\n",
              "      <td>2/18/2011</td>\n",
              "      <td>76.07</td>\n",
              "      <td>76.45</td>\n",
              "      <td>75.70</td>\n",
              "      <td>76.13</td>\n",
              "    </tr>\n",
              "    <tr>\n",
              "      <th>223</th>\n",
              "      <td>2/25/2011</td>\n",
              "      <td>75.95</td>\n",
              "      <td>76.45</td>\n",
              "      <td>74.42</td>\n",
              "      <td>74.44</td>\n",
              "    </tr>\n",
              "    <tr>\n",
              "      <th>224</th>\n",
              "      <td>3/4/2011</td>\n",
              "      <td>74.51</td>\n",
              "      <td>76.63</td>\n",
              "      <td>73.64</td>\n",
              "      <td>76.03</td>\n",
              "    </tr>\n",
              "    <tr>\n",
              "      <th>225</th>\n",
              "      <td>3/11/2011</td>\n",
              "      <td>76.38</td>\n",
              "      <td>77.25</td>\n",
              "      <td>74.97</td>\n",
              "      <td>76.73</td>\n",
              "    </tr>\n",
              "  </tbody>\n",
              "</table>\n",
              "</div>\n",
              "      <button class=\"colab-df-convert\" onclick=\"convertToInteractive('df-5fccc643-ded4-43a1-9ad2-053f00489ee0')\"\n",
              "              title=\"Convert this dataframe to an interactive table.\"\n",
              "              style=\"display:none;\">\n",
              "        \n",
              "  <svg xmlns=\"http://www.w3.org/2000/svg\" height=\"24px\"viewBox=\"0 0 24 24\"\n",
              "       width=\"24px\">\n",
              "    <path d=\"M0 0h24v24H0V0z\" fill=\"none\"/>\n",
              "    <path d=\"M18.56 5.44l.94 2.06.94-2.06 2.06-.94-2.06-.94-.94-2.06-.94 2.06-2.06.94zm-11 1L8.5 8.5l.94-2.06 2.06-.94-2.06-.94L8.5 2.5l-.94 2.06-2.06.94zm10 10l.94 2.06.94-2.06 2.06-.94-2.06-.94-.94-2.06-.94 2.06-2.06.94z\"/><path d=\"M17.41 7.96l-1.37-1.37c-.4-.4-.92-.59-1.43-.59-.52 0-1.04.2-1.43.59L10.3 9.45l-7.72 7.72c-.78.78-.78 2.05 0 2.83L4 21.41c.39.39.9.59 1.41.59.51 0 1.02-.2 1.41-.59l7.78-7.78 2.81-2.81c.8-.78.8-2.07 0-2.86zM5.41 20L4 18.59l7.72-7.72 1.47 1.35L5.41 20z\"/>\n",
              "  </svg>\n",
              "      </button>\n",
              "      \n",
              "  <style>\n",
              "    .colab-df-container {\n",
              "      display:flex;\n",
              "      flex-wrap:wrap;\n",
              "      gap: 12px;\n",
              "    }\n",
              "\n",
              "    .colab-df-convert {\n",
              "      background-color: #E8F0FE;\n",
              "      border: none;\n",
              "      border-radius: 50%;\n",
              "      cursor: pointer;\n",
              "      display: none;\n",
              "      fill: #1967D2;\n",
              "      height: 32px;\n",
              "      padding: 0 0 0 0;\n",
              "      width: 32px;\n",
              "    }\n",
              "\n",
              "    .colab-df-convert:hover {\n",
              "      background-color: #E2EBFA;\n",
              "      box-shadow: 0px 1px 2px rgba(60, 64, 67, 0.3), 0px 1px 3px 1px rgba(60, 64, 67, 0.15);\n",
              "      fill: #174EA6;\n",
              "    }\n",
              "\n",
              "    [theme=dark] .colab-df-convert {\n",
              "      background-color: #3B4455;\n",
              "      fill: #D2E3FC;\n",
              "    }\n",
              "\n",
              "    [theme=dark] .colab-df-convert:hover {\n",
              "      background-color: #434B5C;\n",
              "      box-shadow: 0px 1px 3px 1px rgba(0, 0, 0, 0.15);\n",
              "      filter: drop-shadow(0px 1px 2px rgba(0, 0, 0, 0.3));\n",
              "      fill: #FFFFFF;\n",
              "    }\n",
              "  </style>\n",
              "\n",
              "      <script>\n",
              "        const buttonEl =\n",
              "          document.querySelector('#df-5fccc643-ded4-43a1-9ad2-053f00489ee0 button.colab-df-convert');\n",
              "        buttonEl.style.display =\n",
              "          google.colab.kernel.accessAllowed ? 'block' : 'none';\n",
              "\n",
              "        async function convertToInteractive(key) {\n",
              "          const element = document.querySelector('#df-5fccc643-ded4-43a1-9ad2-053f00489ee0');\n",
              "          const dataTable =\n",
              "            await google.colab.kernel.invokeFunction('convertToInteractive',\n",
              "                                                     [key], {});\n",
              "          if (!dataTable) return;\n",
              "\n",
              "          const docLinkHtml = 'Like what you see? Visit the ' +\n",
              "            '<a target=\"_blank\" href=https://colab.research.google.com/notebooks/data_table.ipynb>data table notebook</a>'\n",
              "            + ' to learn more about interactive tables.';\n",
              "          element.innerHTML = '';\n",
              "          dataTable['output_type'] = 'display_data';\n",
              "          await google.colab.output.renderOutput(dataTable, element);\n",
              "          const docLink = document.createElement('div');\n",
              "          docLink.innerHTML = docLinkHtml;\n",
              "          element.appendChild(docLink);\n",
              "        }\n",
              "      </script>\n",
              "    </div>\n",
              "  </div>\n",
              "  "
            ]
          },
          "metadata": {},
          "execution_count": 45
        }
      ]
    },
    {
      "cell_type": "code",
      "source": [
        "df_mcd.dtypes"
      ],
      "metadata": {
        "id": "MjNBr4ZiH1Qh",
        "colab": {
          "base_uri": "https://localhost:8080/"
        },
        "outputId": "4a2fdb49-6c04-4ee5-b0f1-12349bb4ea7f"
      },
      "execution_count": null,
      "outputs": [
        {
          "output_type": "execute_result",
          "data": {
            "text/plain": [
              "date      object\n",
              "open     float64\n",
              "high     float64\n",
              "low      float64\n",
              "close    float64\n",
              "dtype: object"
            ]
          },
          "metadata": {},
          "execution_count": 46
        }
      ]
    },
    {
      "cell_type": "markdown",
      "source": [
        "\n",
        "Extrair e tratar os dados da empresa Coca-Cola\n",
        "\n",
        "---\n",
        "\n",
        "\n"
      ],
      "metadata": {
        "id": "l7c3EVmiIBXv"
      }
    },
    {
      "cell_type": "code",
      "source": [
        "df_ko = df[df['stock'] == 'KO']\n",
        "df_ko"
      ],
      "metadata": {
        "id": "tX4Yq0arIHBi"
      },
      "execution_count": null,
      "outputs": []
    },
    {
      "cell_type": "code",
      "source": [
        "#Selecionando apenas as colunas de data e valores de ações.\n",
        "df_ko = df_ko[['date', 'open', 'high', 'low', 'close']]\n",
        "df_ko"
      ],
      "metadata": {
        "id": "7q1ZCVnTIcs5"
      },
      "execution_count": null,
      "outputs": []
    },
    {
      "cell_type": "code",
      "source": [
        "df_ko.head(n=10)"
      ],
      "metadata": {
        "id": "LFYSEKwsJH54"
      },
      "execution_count": null,
      "outputs": []
    },
    {
      "cell_type": "code",
      "source": [
        "df_ko.dtypes"
      ],
      "metadata": {
        "id": "FrV-2KYoJLP4"
      },
      "execution_count": null,
      "outputs": []
    },
    {
      "cell_type": "code",
      "source": [
        "for col in ['open', 'high', 'low', 'close']:\n",
        "  df_ko[col] = df_ko[col].apply(lambda value: float(value.split(sep='$')[-1]))"
      ],
      "metadata": {
        "id": "YDNEUalpJUXZ"
      },
      "execution_count": null,
      "outputs": []
    },
    {
      "cell_type": "code",
      "source": [
        "df_ko.head(n=10)"
      ],
      "metadata": {
        "id": "Y-5AhvByJaSx"
      },
      "execution_count": null,
      "outputs": []
    },
    {
      "cell_type": "code",
      "source": [
        "df_ko.dtypes"
      ],
      "metadata": {
        "id": "dwMppEI8JgaK"
      },
      "execution_count": null,
      "outputs": []
    },
    {
      "cell_type": "markdown",
      "source": [
        "### Exercicio 2"
      ],
      "metadata": {
        "id": "J5UA8c7LJn9P"
      }
    },
    {
      "cell_type": "markdown",
      "source": [],
      "metadata": {
        "id": "h7hrqb2Cm2tV"
      }
    },
    {
      "cell_type": "markdown",
      "source": [
        "Seaborn"
      ],
      "metadata": {
        "id": "sW1s8obaJqeQ"
      }
    },
    {
      "cell_type": "code",
      "source": [
        "#Download\n",
        "!pip install seaborn"
      ],
      "metadata": {
        "id": "WUo7eIg1aj6T"
      },
      "execution_count": null,
      "outputs": []
    },
    {
      "cell_type": "code",
      "source": [
        "#importar pacote\n",
        "import seaborn as sns"
      ],
      "metadata": {
        "id": "8fw4AUWaarqS"
      },
      "execution_count": null,
      "outputs": []
    },
    {
      "cell_type": "code",
      "source": [
        "#Visualizar os valores de abertura das ações ao longo do tempo.\n",
        "plot = sns.lineplot(x=\"date\", y=\"open\", data=df_mcd)\n",
        "_ = plot.set_xticklabels(labels=df_mcd['date'], rotation=90)"
      ],
      "metadata": {
        "id": "1aVL10coazcZ"
      },
      "execution_count": null,
      "outputs": []
    },
    {
      "cell_type": "code",
      "source": [
        "#Visualizar os valores de fechamento das ações ao longo do tempo.\n",
        "plot = sns.lineplot(x='date', y='close',  data=df_mcd)\n",
        "_ = plot.set_xticklabels(labels=df_mcd['date'], rotation=90)"
      ],
      "metadata": {
        "id": "-SA5POevbxND"
      },
      "execution_count": null,
      "outputs": []
    },
    {
      "cell_type": "code",
      "source": [
        "#Visualizar os quatro valores no mesmo gráfico.\n",
        "plot = sns.lineplot(x=\"date\", y=\"value\", hue='variable', data=pd.melt(df_mcd, ['date']))\n",
        "_ = plot.set_xticklabels(labels=df_mcd['date'], rotation=90)"
      ],
      "metadata": {
        "id": "tk-EOzJhcIuy"
      },
      "execution_count": null,
      "outputs": []
    },
    {
      "cell_type": "code",
      "source": [
        "#Salvar o gráfico numa figura.\n",
        "plot.figure.savefig(\"./mcd.png\")"
      ],
      "metadata": {
        "id": "y4xiA326cfUY"
      },
      "execution_count": null,
      "outputs": []
    },
    {
      "cell_type": "markdown",
      "source": [
        "Faça o gráfico acima para a empresa Coca-Cola e salve a imagem com o nome ko.png."
      ],
      "metadata": {
        "id": "Cdal7_yPcsjQ"
      }
    },
    {
      "cell_type": "code",
      "source": [
        "#Visualizar os valores de abertura das ações ao longo do tempo.\n",
        "plot = sns.lineplot(x=\"date\", y=\"open\", data=df_ko)\n",
        "_ = plot.set_xticklabels(labels=df_ko['date'], rotation=90)"
      ],
      "metadata": {
        "id": "7HMoKypncxL5"
      },
      "execution_count": null,
      "outputs": []
    },
    {
      "cell_type": "code",
      "source": [
        "#Visualizar os valores de fechamento das ações ao longo do tempo.\n",
        "plot = sns.lineplot(x='date', y='close',  data=df_ko)\n",
        "_ = plot.set_xticklabels(labels=df_ko['date'], rotation=90)"
      ],
      "metadata": {
        "id": "k2PUKh6zc50J"
      },
      "execution_count": null,
      "outputs": []
    },
    {
      "cell_type": "code",
      "source": [
        "#Visualizar os quatro valores no mesmo gráfico.\n",
        "plot = sns.lineplot(x=\"date\", y=\"value\", hue='variable', data=pd.melt(df_ko, ['date']))\n",
        "_ = plot.set_xticklabels(labels=df_ko['date'], rotation=90)"
      ],
      "metadata": {
        "id": "yWMmWov2dDiX"
      },
      "execution_count": null,
      "outputs": []
    },
    {
      "cell_type": "code",
      "source": [
        "#Salvar o gráfico numa figura.\n",
        "plot.figure.savefig(\"./ko.png\")"
      ],
      "metadata": {
        "id": "P72MtGBPdJnw"
      },
      "execution_count": null,
      "outputs": []
    },
    {
      "cell_type": "markdown",
      "source": [
        "# Módulo 8 - Tratamento de Erros"
      ],
      "metadata": {
        "id": "5e1IZyYwaS6U"
      }
    },
    {
      "cell_type": "markdown",
      "source": [
        "## Aula 1: Tipos de erros"
      ],
      "metadata": {
        "id": "tBcULdOKaZDX"
      }
    },
    {
      "cell_type": "markdown",
      "source": [
        "**Erros de Sintaxe:** erros que ocorrem durante a escrita do código."
      ],
      "metadata": {
        "id": "B8OZGks5avMn"
      }
    },
    {
      "cell_type": "code",
      "source": [
        "pessoa = {'nome':'Helaman Viana', 'idade':20}\n",
        "if pessoa['idade'] > 18:\n",
        "  print(True)"
      ],
      "metadata": {
        "id": "PRc4psQAa4sc"
      },
      "execution_count": null,
      "outputs": []
    },
    {
      "cell_type": "markdown",
      "source": [
        "**Erro em tempo de execução:** erros durante execução"
      ],
      "metadata": {
        "id": "KzhWLg-Nz1j4"
      }
    },
    {
      "cell_type": "code",
      "source": [
        "print(1/0)"
      ],
      "metadata": {
        "id": "JWRAiPa-0Aiv"
      },
      "execution_count": null,
      "outputs": []
    },
    {
      "cell_type": "markdown",
      "source": [
        "Erros de lógica"
      ],
      "metadata": {
        "id": "NhRd23AY0FOI"
      }
    },
    {
      "cell_type": "code",
      "source": [
        "i = 0\n",
        "while True:\n",
        "  i += 1\n",
        "  if i > 10:\n",
        "    break"
      ],
      "metadata": {
        "id": "21kPv5p60H4_"
      },
      "execution_count": null,
      "outputs": []
    },
    {
      "cell_type": "markdown",
      "source": [
        "## Exercícios Módulo 8"
      ],
      "metadata": {
        "id": "32hzHYAf10Sf"
      }
    },
    {
      "cell_type": "markdown",
      "source": [
        "### Exercício 1"
      ],
      "metadata": {
        "id": "8zqRmoJD14U5"
      }
    },
    {
      "cell_type": "code",
      "source": [
        "credito = {'123':750, '456':812, '789':980}\n",
        "\n",
        "for chave, valor in credito.items():\n",
        "  print(f'Para o documento {chave}, o valor do score de crédito é {valor}.')"
      ],
      "metadata": {
        "id": "DxbvanAm18ZH"
      },
      "execution_count": null,
      "outputs": []
    },
    {
      "cell_type": "code",
      "source": [
        "def pi() -> float:\n",
        "  return 3.14159265359\n",
        "\n",
        "pi = pi()\n",
        "print(pi)"
      ],
      "metadata": {
        "id": "0sXKuSC02o8S"
      },
      "execution_count": null,
      "outputs": []
    },
    {
      "cell_type": "code",
      "source": [
        "emails = ['helaman.viana@gmail.com', 'helaman.viana@live.com', 'helaman.viana@yahoo.com']\n",
        "provedor_google = lambda email: 'gmail' in email\n",
        "\n",
        "emails_google = filter(provedor_google, emails)\n",
        "print(list(emails_google))"
      ],
      "metadata": {
        "id": "zuTsmr_F23ix"
      },
      "execution_count": null,
      "outputs": []
    },
    {
      "cell_type": "code",
      "source": [
        "class Pessoa(object):\n",
        "  def __init__(self, nome: str, idade: int, documento: str):\n",
        "    self.nome = nome\n",
        "    self.idade = idade\n",
        "    self.documento = documento\n",
        "andre = Pessoa(nome='Andre', idade=30, documento='123')"
      ],
      "metadata": {
        "id": "iv5G48Mv4T6M"
      },
      "execution_count": null,
      "outputs": []
    },
    {
      "cell_type": "markdown",
      "source": [
        "### Exercício 2"
      ],
      "metadata": {
        "id": "kxRwtpwI5RD6"
      }
    },
    {
      "cell_type": "code",
      "source": [
        "%%writefile credito.csv\n",
        "id_vendedor,valor_emprestimos,quantidade_emprestimos,data\n",
        "104271,448.0,1,20161208\n",
        "21476,826.7,3,20161208\n",
        "87440,313.6,3,20161208\n",
        "15980,808.0,6,20161208\n",
        "215906,2212.0,5,20161208\n",
        "33696,2771.3,2,20161208\n",
        "33893,2240.0,3,20161208\n",
        "214946,\"4151.0\",18,20161208\n",
        "123974,2021.95,2,20161208\n",
        "225870,4039.0,2,20161208"
      ],
      "metadata": {
        "id": "OVA0wUBK5UGB",
        "colab": {
          "base_uri": "https://localhost:8080/"
        },
        "outputId": "a4050d2e-2b17-46e4-f689-55b3e3a42f76"
      },
      "execution_count": null,
      "outputs": [
        {
          "output_type": "stream",
          "name": "stdout",
          "text": [
            "Overwriting credito.csv\n"
          ]
        }
      ]
    },
    {
      "cell_type": "code",
      "source": [
        "def valor_total_emprestimo(valor: float, quantidade: int) -> float:\n",
        "    return valor * quantidade\n",
        "\n",
        "emprestimos = []\n",
        "\n",
        "with open(file='./credito.csv', mode='r', encoding='utf8') as fp:\n",
        "    fp.readline() # cabeçalho\n",
        "    linha = fp.readline()\n",
        "\n",
        "    while linha:\n",
        "        linha_emprestimo = {}\n",
        "        linha_elementos = linha.strip().split(sep=',')\n",
        "        linha_emprestimo['id_vendedor'] = linha_elementos[0]\n",
        "        linha_emprestimo['valor_emprestimos'] = float(linha_elementos[1].strip('\"'))\n",
        "        linha_emprestimo['quantidade_emprestimos'] = int(linha_elementos[2])\n",
        "        linha_emprestimo['data'] = linha_elementos[3]\n",
        "        emprestimos.append(linha_emprestimo)\n",
        "        linha = fp.readline()\n",
        "\n",
        "emprestimos_total = []\n",
        "for emprestimo in emprestimos:\n",
        "    valor_total = valor_total_emprestimo(valor=emprestimo['valor_emprestimos'], quantidade=emprestimo['quantidade_emprestimos'])\n",
        "    emprestimos_total.append({emprestimo['id_vendedor']: valor_total})\n",
        "\n",
        "for emprestimo_total in emprestimos_total:\n",
        "    print(emprestimo_total)\n"
      ],
      "metadata": {
        "id": "NHWs1YjP5d7R"
      },
      "execution_count": null,
      "outputs": []
    },
    {
      "cell_type": "markdown",
      "source": [
        "# Modulo 9 - Scripting"
      ],
      "metadata": {
        "id": "LduE8BgVh-mc"
      }
    },
    {
      "cell_type": "markdown",
      "source": [
        "## Aula 1 - Instalando o Python na máquina\n",
        "\n",
        "```\n",
        "# Isto está formatado como código\n",
        "```\n",
        "\n"
      ],
      "metadata": {
        "id": "DWmsQ-StiRlM"
      }
    },
    {
      "cell_type": "markdown",
      "source": [
        "Conferir versão do python via python"
      ],
      "metadata": {
        "id": "GxmsMGsNjAVs"
      }
    },
    {
      "cell_type": "code",
      "source": [
        "import platform\n",
        "print(platform.python_version())\n",
        "print(platform.system())"
      ],
      "metadata": {
        "id": "nOsxYQaoiUu9"
      },
      "execution_count": null,
      "outputs": []
    },
    {
      "cell_type": "markdown",
      "source": [
        "Conferir versão do python via Bash (linguagem nativa Linux)"
      ],
      "metadata": {
        "id": "1pFquyKEjEvN"
      }
    },
    {
      "cell_type": "code",
      "source": [
        "!python -V"
      ],
      "metadata": {
        "id": "nMB5XRDejNqe"
      },
      "execution_count": null,
      "outputs": []
    },
    {
      "cell_type": "markdown",
      "source": [
        "Conferir versão do PIP via bash"
      ],
      "metadata": {
        "id": "jj_ob7BjjlQ9"
      }
    },
    {
      "cell_type": "code",
      "source": [
        "!pip -V"
      ],
      "metadata": {
        "id": "NNL2D3gBjkkw"
      },
      "execution_count": null,
      "outputs": []
    },
    {
      "cell_type": "markdown",
      "source": [
        "## Aula 2: Executando códigos Python no terminal"
      ],
      "metadata": {
        "id": "6CTAcnWQl4N8"
      }
    },
    {
      "cell_type": "code",
      "source": [
        "from datetime import datetime\n",
        "print(datetime.now().year)"
      ],
      "metadata": {
        "id": "T-NGMSz5mDMD"
      },
      "execution_count": null,
      "outputs": []
    },
    {
      "cell_type": "markdown",
      "source": [
        "## Aula 3: Criando arquivos de script Python"
      ],
      "metadata": {
        "id": "TTAdmMJdGPdP"
      }
    },
    {
      "cell_type": "markdown",
      "source": [
        "Script para extrair taxa CDI do B3."
      ],
      "metadata": {
        "id": "aiF6XMd1LSvA"
      }
    },
    {
      "cell_type": "code",
      "source": [
        "import os\n",
        "import json\n",
        "from datetime import datetime\n",
        "\n",
        "import requests\n",
        "\n",
        "URL = 'https://wwww2.cetip.com.br/ConsultarTaxaDi/ConsultarTaxaDICetip.aspx'\n",
        "\n",
        "#Criando variável de data e hora\n",
        "data_e_hora =  datetime.now()\n",
        "data = datetime.strftime(data_e_hora, '%Y/%m%d')\n",
        "hora = datetime.strftime(data_e_hora, '%H,%M,%S')\n",
        "\n",
        "#Captando taxa CDI do site B3\n",
        "try:\n",
        "  response = requests.get(URL)\n",
        "  response.raise_for_status()\n",
        "except requests.HTTPError as exc:\n",
        "  print('Dado não encontrado, continuando.')\n",
        "  cdi = None\n",
        "except Exception as exc:\n",
        "  print('Erro, parando a execução.')\n",
        "  raise exc\n",
        "else:\n",
        "  dado = json.loads(response.text)\n",
        "  cdi = float(dado['taxa'].replace(',','.'))\n",
        "\n",
        "#Verificando se o arquivo \"taxa-cdi.csv\" existe\n",
        "if os.path.exists('./taxa-cdi.csv') == False:\n",
        "  with open(file='./taxa-cdi.csv', mode='w', encoding='utf8') as fp:\n",
        "    fp.write('data, hora, taxa\\n')\n",
        "\n",
        "\n",
        "#Salvando dados no arquivo \"taxa-cdi.csv\"\n",
        "with  open(file='./taxa-cdi.csv', mode='a', encoding='utf8') as fp:\n",
        "  fp.write(f'{data}, {hora}, {cdi}\\n')\n",
        "\n",
        "print('Sucesso')"
      ],
      "metadata": {
        "id": "pCswTb6OGXN1"
      },
      "execution_count": null,
      "outputs": []
    },
    {
      "cell_type": "markdown",
      "source": [
        "Criar arquivo de script args.py"
      ],
      "metadata": {
        "id": "bocCV7ZVPAMO"
      }
    },
    {
      "cell_type": "code",
      "source": [
        "!python extrair-cdi.py"
      ],
      "metadata": {
        "id": "eQ9L_LxBPEbo"
      },
      "execution_count": null,
      "outputs": []
    },
    {
      "cell_type": "markdown",
      "source": [
        "## Exercicios Modulo 9"
      ],
      "metadata": {
        "id": "BpiCleCbtrfC"
      }
    },
    {
      "cell_type": "code",
      "source": [
        "import os\n",
        "import time\n",
        "import json\n",
        "from random import random\n",
        "from datetime import datetime\n",
        "\n",
        "import requests\n",
        "\n",
        "URL = 'https://www2.cetip.com.br/ConsultarTaxaDi/ConsultarTaxaDICetip.aspx'\n",
        "\n",
        "# Creating the date and time variable\n",
        "\n",
        "for _ in range(0, 10):\n",
        "\n",
        "  data_e_hora = datetime.now()\n",
        "  data = datetime.strftime(data_e_hora, '%Y/%m/%d')\n",
        "  hora = datetime.strftime(data_e_hora, '%H:%M:%S')\n",
        "\n",
        "  # Getting the CDI rate from the B3 website\n",
        "\n",
        "  try:\n",
        "    response = requests.get(URL)\n",
        "    response.raise_for_status()\n",
        "  except requests.HTTPError as exc:\n",
        "    print(\"Data not found, continuing.\")\n",
        "    cdi = None\n",
        "  except Exception as exc:\n",
        "    print(\"Error, stopping execution.\")\n",
        "    raise exc\n",
        "  else:\n",
        "    dado = json.loads(response.text)\n",
        "    cdi = float(dado['taxa'].replace(',', '.')) + (random() - 0.5)\n",
        "\n",
        "  # Checking if the \"taxa-cdi.csv\" file exists\n",
        "\n",
        "  if os.path.exists('./taxa-cdi.csv') == False:\n",
        "\n",
        "    with open(file='./taxa-cdi.csv', mode='w', encoding='utf8') as fp:\n",
        "      fp.write('data,hora,taxa\\n')\n",
        "\n",
        "  # Saving data in the \"taxa-cdi.csv\" file\n",
        "\n",
        "  with open(file='./taxa-cdi.csv', mode='a', encoding='utf8') as fp:\n",
        "    fp.write(f'{data},{hora},{cdi}\\n')\n",
        "\n",
        "  time.sleep(2 + (random() - 0.5))\n",
        "\n",
        "print(\"Success\")\n"
      ],
      "metadata": {
        "id": "QdWjt29lvZ9a"
      },
      "execution_count": null,
      "outputs": []
    },
    {
      "cell_type": "code",
      "source": [
        "#Chamando arquivo py criado\n",
        "!python extracao.py"
      ],
      "metadata": {
        "id": "n9FZPG5PwAqE"
      },
      "execution_count": null,
      "outputs": []
    },
    {
      "cell_type": "markdown",
      "source": [
        "Exercicio 2"
      ],
      "metadata": {
        "id": "OaEXXqOewdWr"
      }
    },
    {
      "cell_type": "code",
      "source": [
        "!python visualizacao.py taxa-cdi-2022-03-08-10-12-45.csv"
      ],
      "metadata": {
        "id": "dX3Jshuqwezi"
      },
      "execution_count": null,
      "outputs": []
    },
    {
      "cell_type": "markdown",
      "source": [
        "Exercicio 3 - Teste"
      ],
      "metadata": {
        "id": "WvmjEpzHxOh9"
      }
    },
    {
      "cell_type": "code",
      "source": [
        "!python analise.py"
      ],
      "metadata": {
        "id": "uAEzuemZxQNZ"
      },
      "execution_count": null,
      "outputs": []
    },
    {
      "cell_type": "code",
      "source": [
        "!cat analise.py"
      ],
      "metadata": {
        "id": "GbZxYVLuybR7"
      },
      "execution_count": null,
      "outputs": []
    },
    {
      "cell_type": "code",
      "source": [
        "!cat extracao.py"
      ],
      "metadata": {
        "id": "Ud_Q5x0YygDV"
      },
      "execution_count": null,
      "outputs": []
    },
    {
      "cell_type": "markdown",
      "source": [
        "# Modulo 10 - Projeto"
      ],
      "metadata": {
        "id": "7Ha3hSp5GYgc"
      }
    },
    {
      "cell_type": "markdown",
      "source": [
        "## Aula 1: Introdução ao Kaggle"
      ],
      "metadata": {
        "id": "UZ7xcTGdGdVy"
      }
    },
    {
      "cell_type": "markdown",
      "source": [
        "Exploração de dados"
      ],
      "metadata": {
        "id": "AW31BaMhPI1z"
      }
    },
    {
      "cell_type": "code",
      "source": [
        "import pandas as pd"
      ],
      "metadata": {
        "id": "C9Uhfa8UGfjz"
      },
      "execution_count": null,
      "outputs": []
    },
    {
      "cell_type": "code",
      "source": [
        "df = pd.read_csv('https://raw.githubusercontent.com/andre-marcos-perez/ebac-course-utils/develop/dataset/credito.csv', na_values=['na', None, '', 'NaN'])"
      ],
      "metadata": {
        "id": "g6ut_pOKLFtd"
      },
      "execution_count": null,
      "outputs": []
    },
    {
      "cell_type": "code",
      "source": [
        "df.head()"
      ],
      "metadata": {
        "id": "ZEPrbpVbLVV7"
      },
      "execution_count": null,
      "outputs": []
    },
    {
      "cell_type": "markdown",
      "source": [
        "Estrutura dos dados"
      ],
      "metadata": {
        "id": "SM_KX8laPMB_"
      }
    },
    {
      "cell_type": "code",
      "source": [
        "df.shape #Traz quantidade linhas e colunas"
      ],
      "metadata": {
        "id": "PIW1fcK3PN6P"
      },
      "execution_count": null,
      "outputs": []
    },
    {
      "cell_type": "code",
      "source": [
        "#Achar clientes adimplentes\n",
        "df[df['default'] == 0].shape"
      ],
      "metadata": {
        "id": "MJbDf_1IPZk_"
      },
      "execution_count": null,
      "outputs": []
    },
    {
      "cell_type": "code",
      "source": [
        "#Achar clientes inadimplentes\n",
        "df[df['default'] == 1].shape"
      ],
      "metadata": {
        "id": "yfR-Y38RP_Rs"
      },
      "execution_count": null,
      "outputs": []
    },
    {
      "cell_type": "code",
      "source": [
        "qtd_total, _ = df.shape\n",
        "qtd_adimplente, _ = df[df['default'] == 0].shape\n",
        "qtd_inadimplente, _ = df[df['default'] == 1].shape\n",
        "\n",
        "print(f'A proporção clientes adimplentes é de {round(100 * qtd_adimplente / qtd_total, 2)}%')\n",
        "print(f'A proporção clientes inadimplentes é de {round(100 * qtd_inadimplente / qtd_total, 2)}%')"
      ],
      "metadata": {
        "id": "AAcvmc2xQUbk"
      },
      "execution_count": null,
      "outputs": []
    },
    {
      "cell_type": "markdown",
      "source": [
        "Schema"
      ],
      "metadata": {
        "id": "rginDzqsRWe1"
      }
    },
    {
      "cell_type": "code",
      "source": [
        "df.head()"
      ],
      "metadata": {
        "id": "30zKo7e3RYR1"
      },
      "execution_count": null,
      "outputs": []
    },
    {
      "cell_type": "code",
      "source": [
        "#Verificar os tipos de todas as colunas\n",
        "df.dtypes"
      ],
      "metadata": {
        "id": "Y1_464GWR2wj"
      },
      "execution_count": null,
      "outputs": []
    },
    {
      "cell_type": "code",
      "source": [
        "#Atributos categoricos\n",
        "df.select_dtypes('object').describe().transpose()"
      ],
      "metadata": {
        "id": "l3kmU5m7SqP8"
      },
      "execution_count": null,
      "outputs": []
    },
    {
      "cell_type": "code",
      "source": [
        "#Atributos numericos\n",
        "df.drop('id', axis=1).select_dtypes('number').describe().transpose()"
      ],
      "metadata": {
        "id": "lW-x91hSUD2m"
      },
      "execution_count": null,
      "outputs": []
    },
    {
      "cell_type": "markdown",
      "source": [
        "**Dados faltantes**\n",
        "Podem ser:\n",
        "\n",
        "\n",
        "*   Vazios(\"\")\n",
        "*   Nulos(None)\n",
        "*   Não disponiveis ou aplicaveis(na, NA, etc)\n",
        "*   Não numérico(nan, NanN, etc)\n",
        "\n",
        "\n",
        "\n"
      ],
      "metadata": {
        "id": "WOoRHZnnUmei"
      }
    },
    {
      "cell_type": "code",
      "source": [
        "#Verificar colunas com dados faltantes\n",
        "df.isna().any()"
      ],
      "metadata": {
        "id": "1Lea46DuVDaU"
      },
      "execution_count": null,
      "outputs": []
    },
    {
      "cell_type": "code",
      "source": [
        "#A função para levantar algumas estatisticas sobre as colunas dos dados faltantes\n",
        "\n",
        "def stats_dados_faltantes(df: pd.DataFrame) -> None:\n",
        "\n",
        "  stats_dados_faltantes = []\n",
        "  for col in df.columns:\n",
        "    if df[col].isna().any():\n",
        "      qtd, _ = df[df[col].isna()].shape\n",
        "      total, _ = df.shape\n",
        "      dict_dados_faltantes = {col: {'quantidade': qtd, \"porcentagem\": round(100 * qtd/total, 2)}}\n",
        "      stats_dados_faltantes.append(dict_dados_faltantes)\n",
        "\n",
        "  for stat in stats_dados_faltantes:\n",
        "    print(stat)"
      ],
      "metadata": {
        "id": "lW_GlVowZIn-"
      },
      "execution_count": null,
      "outputs": []
    },
    {
      "cell_type": "code",
      "source": [
        "stats_dados_faltantes(df=df)"
      ],
      "metadata": {
        "id": "AAJMi6g6ZPqO"
      },
      "execution_count": null,
      "outputs": []
    },
    {
      "cell_type": "code",
      "source": [
        "stats_dados_faltantes(df=df[df['default'] == 0])"
      ],
      "metadata": {
        "id": "GfAp75cQZT30"
      },
      "execution_count": null,
      "outputs": []
    },
    {
      "cell_type": "code",
      "source": [
        "stats_dados_faltantes(df=df[df['default'] == 1])"
      ],
      "metadata": {
        "id": "7y0hM-XzZVrs"
      },
      "execution_count": null,
      "outputs": []
    },
    {
      "cell_type": "markdown",
      "source": [
        "## Aula 3: Transformação e limpeza de dados"
      ],
      "metadata": {
        "id": "bY7tBkYeHdCH"
      }
    },
    {
      "cell_type": "markdown",
      "source": [
        "Correção de Schema"
      ],
      "metadata": {
        "id": "XUCPIaIPHe5O"
      }
    },
    {
      "cell_type": "code",
      "source": [
        "df[['limite_credito', 'valor_transacoes_12m']].dtypes"
      ],
      "metadata": {
        "id": "vN5qc-aeHhmm"
      },
      "execution_count": null,
      "outputs": []
    },
    {
      "cell_type": "code",
      "source": [
        "df[['limite_credito', 'valor_transacoes_12m']].head()"
      ],
      "metadata": {
        "id": "6Gflf82qIVyX"
      },
      "execution_count": null,
      "outputs": []
    },
    {
      "cell_type": "markdown",
      "source": [
        "Criar função lambda para limpar os dados"
      ],
      "metadata": {
        "id": "cRJr_zI4IgQQ"
      }
    },
    {
      "cell_type": "code",
      "source": [
        "fn = lambda valor: float(valor.replace('.', '').replace(',','.'))\n",
        "\n",
        "valores_originais = ['12.691,51', '8.256,96', '3.418,56', '3.313,03']\n",
        "valores_limpos = list(map(fn, valores_originais))\n",
        "\n",
        "print(valores_originais)\n",
        "print(valores_limpos)"
      ],
      "metadata": {
        "id": "w2Xro6-zIkwf"
      },
      "execution_count": null,
      "outputs": []
    },
    {
      "cell_type": "markdown",
      "source": [
        "Usando função lambda criada para o codigo arquivo csv (coluna)"
      ],
      "metadata": {
        "id": "B5-Sgl2_Jwvm"
      }
    },
    {
      "cell_type": "code",
      "source": [
        "df['valor_transacoes_12m'] = df['valor_transacoes_12m'].apply(fn)\n",
        "df['limite_credito'] = df['limite_credito'].apply(fn)"
      ],
      "metadata": {
        "id": "rujCg37SJ28A"
      },
      "execution_count": null,
      "outputs": []
    },
    {
      "cell_type": "code",
      "source": [
        "df[['valor_transacoes_12m', 'limite_credito']].dtypes"
      ],
      "metadata": {
        "id": "OkPUlAcIKNJ_"
      },
      "execution_count": null,
      "outputs": []
    },
    {
      "cell_type": "code",
      "source": [
        "df.dtypes"
      ],
      "metadata": {
        "id": "Ac-cNyrhKoIA"
      },
      "execution_count": null,
      "outputs": []
    },
    {
      "cell_type": "code",
      "source": [
        "#Atributos categóricos\n",
        "df.select_dtypes('object').describe().transpose()"
      ],
      "metadata": {
        "id": "AQ38HCZaKxAY"
      },
      "execution_count": null,
      "outputs": []
    },
    {
      "cell_type": "code",
      "source": [
        "#Atributos numericos\n",
        "df.drop('id', axis=1).select_dtypes('number').describe().transpose()"
      ],
      "metadata": {
        "id": "XYqGI7VRLBGJ"
      },
      "execution_count": null,
      "outputs": []
    },
    {
      "cell_type": "markdown",
      "source": [
        "Remoção de dados faltantes"
      ],
      "metadata": {
        "id": "V6pakKYpSL7H"
      }
    },
    {
      "cell_type": "code",
      "source": [
        "#Removendo colunas sem dados\n",
        "df.dropna(inplace=True)"
      ],
      "metadata": {
        "id": "vHNkoikaSOS1"
      },
      "execution_count": null,
      "outputs": []
    },
    {
      "cell_type": "markdown",
      "source": [
        "Analisando colunas de novo"
      ],
      "metadata": {
        "id": "90KtbAloS5WW"
      }
    },
    {
      "cell_type": "code",
      "source": [
        "df.shape"
      ],
      "metadata": {
        "id": "YVrgjtxOSzlW"
      },
      "execution_count": null,
      "outputs": []
    },
    {
      "cell_type": "code",
      "source": [
        "df[df['default'] == 0].shape"
      ],
      "metadata": {
        "id": "FUZ70QznS71O"
      },
      "execution_count": null,
      "outputs": []
    },
    {
      "cell_type": "code",
      "source": [
        "df[df['default'] == 1].shape"
      ],
      "metadata": {
        "id": "dICFD3MRTEHe"
      },
      "execution_count": null,
      "outputs": []
    },
    {
      "cell_type": "code",
      "source": [
        "qtd_total_novo, _ = df.shape\n",
        "qtd_adimplentes_novo, _ = df[df['default'] == 0].shape\n",
        "qtd_inadimplentes_novo, _ = df[df['default'] == 1].shape\n",
        "\n",
        "print(f\"A proporcão adimplentes ativos é de {round(100 * qtd_adimplente / qtd_total, 2)}%\")\n",
        "print(f\"A nova proporcão de clientes adimplentes é de {round(100 * qtd_adimplentes_novo / qtd_total_novo, 2)}%\")\n",
        "print(\"\")\n",
        "print(f\"A proporcão clientes inadimplentes é de {round(100 * qtd_inadimplente / qtd_total, 2)}%\")\n",
        "print(f\"A nova proporcão de clientes inadimplentes é de {round(100 * qtd_inadimplentes_novo / qtd_total_novo, 2)}%\")"
      ],
      "metadata": {
        "id": "QQngYBQATOgO"
      },
      "execution_count": null,
      "outputs": []
    },
    {
      "cell_type": "markdown",
      "source": [
        "## Aula 4: Visualização de dados"
      ],
      "metadata": {
        "id": "Kc9Grn_SToUS"
      }
    },
    {
      "cell_type": "code",
      "source": [
        "import seaborn as sns\n",
        "import matplotlib.pyplot as plt\n",
        "\n",
        "sns.set_style(\"whitegrid\")"
      ],
      "metadata": {
        "id": "PZuxyHQsTrFs"
      },
      "execution_count": null,
      "outputs": []
    },
    {
      "cell_type": "code",
      "source": [
        "df_adimplente = df[df['default'] == 0]"
      ],
      "metadata": {
        "id": "LgRifCCzUCFK"
      },
      "execution_count": null,
      "outputs": []
    },
    {
      "cell_type": "code",
      "source": [
        "df_inadimplente = df[df['default'] == 1]"
      ],
      "metadata": {
        "id": "tPmPyNUBUJPj"
      },
      "execution_count": null,
      "outputs": []
    },
    {
      "cell_type": "markdown",
      "source": [
        "Visualizações categoricas\n"
      ],
      "metadata": {
        "id": "SKEG2oqNUNHR"
      }
    },
    {
      "cell_type": "code",
      "source": [
        "df.select_dtypes('object').head()"
      ],
      "metadata": {
        "id": "YtBZmt9DUQXa"
      },
      "execution_count": null,
      "outputs": []
    },
    {
      "cell_type": "markdown",
      "source": [
        "Escolaridade\n"
      ],
      "metadata": {
        "id": "t7Y2oqoiXu6B"
      }
    },
    {
      "cell_type": "code",
      "source": [
        "coluna = 'escolaridade'\n",
        "titulos = ['Escolaridade dos Clientes', 'Escolaridade dos Clientes Adimplentes', 'Escolaridade dos Clientes Inadimplentes']\n",
        "\n",
        "eixo = 0\n",
        "max_y = 0\n",
        "max = df.select_dtypes('object').describe()[coluna]['freq'] * 1.1\n",
        "\n",
        "figura, eixos = plt.subplots(1,3, figsize=(20, 5), sharex=True)\n",
        "\n",
        "for dataframe in [df, df_adimplente, df_inadimplente]:\n",
        "\n",
        "  df_to_plot = dataframe[coluna].value_counts().to_frame()\n",
        "  df_to_plot.rename(columns={coluna: 'frequencia_absoluta'}, inplace=True)\n",
        "  df_to_plot[coluna] = df_to_plot.index\n",
        "  df_to_plot.sort_values(by=[coluna], inplace=True)\n",
        "  df_to_plot.sort_values(by=[coluna])\n",
        "\n",
        "  f = sns.barplot(x=df_to_plot[coluna], y=df_to_plot['frequencia_absoluta'], ax=eixos[eixo])\n",
        "  f.set(title=titulos[eixo], xlabel=coluna.capitalize(), ylabel='Frequência Absoluta')\n",
        "  f.set_xticklabels(labels=f.get_xticklabels(), rotation=90)\n",
        "\n",
        "  _, max_y_f = f.get_ylim()\n",
        "  max_y = max_y_f if max_y_f > max_y else max_y\n",
        "  f.set(ylim=(0, max_y))\n",
        "\n",
        "  eixo += 1\n",
        "\n",
        "figura.show()"
      ],
      "metadata": {
        "id": "oJIKXigDXxJf",
        "colab": {
          "base_uri": "https://localhost:8080/",
          "height": 362
        },
        "outputId": "9b7da2db-01a8-4e48-83f1-6360463808b3"
      },
      "execution_count": null,
      "outputs": [
        {
          "output_type": "display_data",
          "data": {
            "text/plain": [
              "<Figure size 1440x360 with 3 Axes>"
            ],
            "image/png": "[encoded data removed]"
          },
          "metadata": {}
        }
      ]
    },
    {
      "cell_type": "code",
      "source": [
        "coluna = 'salario_anual'\n",
        "titulos = ['Salario Anual dos Clientes', 'Salario Anual dos Clientes Adimplentes', 'Salario Anual dos Clientes Inadimplentes']\n",
        "\n",
        "eixo = 0\n",
        "max_y = 0\n",
        "max = df.select_dtypes('object').describe()[coluna]['freq'] * 1.1\n",
        "\n",
        "figura, eixos = plt.subplots(1,3, figsize=(20, 5), sharex=True)\n",
        "\n",
        "for dataframe in [df, df_adimplente, df_inadimplente]:\n",
        "\n",
        "  df_to_plot = dataframe[coluna].value_counts().to_frame()\n",
        "  df_to_plot.rename(columns={coluna: 'frequencia_absoluta'}, inplace=True)\n",
        "  df_to_plot[coluna] = df_to_plot.index\n",
        "  df_to_plot.sort_values(by=[coluna], inplace=True)\n",
        "  df_to_plot.sort_values(by=[coluna])\n",
        "\n",
        "  f = sns.barplot(x=df_to_plot[coluna], y=df_to_plot['frequencia_absoluta'], ax=eixos[eixo])\n",
        "  f.set(title=titulos[eixo], xlabel=coluna.capitalize(), ylabel='Frequência Absoluta')\n",
        "  f.set_xticklabels(labels=f.get_xticklabels(), rotation=90)\n",
        "\n",
        "  _, max_y_f = f.get_ylim()\n",
        "  max_y = max_y_f if max_y_f > max_y else max_y\n",
        "  f.set(ylim=(0, max_y))\n",
        "\n",
        "  eixo += 1\n",
        "\n",
        "figura.show()"
      ],
      "metadata": {
        "colab": {
          "base_uri": "https://localhost:8080/",
          "height": 344
        },
        "id": "xDsFSU206gdq",
        "outputId": "5a93c21c-4e82-4d12-f90f-7e02a3934937"
      },
      "execution_count": null,
      "outputs": [
        {
          "output_type": "display_data",
          "data": {
            "text/plain": [
              "<Figure size 1440x360 with 3 Axes>"
            ],
            "image/png": "[encoded data removed]"
          },
          "metadata": {}
        }
      ]
    },
    {
      "cell_type": "markdown",
      "source": [
        "Visualizações Numericas"
      ],
      "metadata": {
        "id": "KatPUfjh7SsX"
      }
    },
    {
      "cell_type": "code",
      "source": [
        "df.select_dtypes('object').head(n=5)"
      ],
      "metadata": {
        "id": "vaK0HAEl7W5I"
      },
      "execution_count": null,
      "outputs": []
    },
    {
      "cell_type": "markdown",
      "source": [
        "Quantidade de transações nos Ultimos 12 Meses"
      ],
      "metadata": {
        "id": "TGft2cCJ7cpZ"
      }
    },
    {
      "cell_type": "code",
      "source": [
        "coluna = 'qtd_transacoes_12m'\n",
        "titulos = ['Qtd. de Transações no Último Ano', 'Qtd. de Transações no Último Ano de Adimplentes', 'Qtd. de Transações no Último Ano de Inadimplentes']\n",
        "\n",
        "eixo = 0\n",
        "max_y = 0\n",
        "figura, eixos = plt.subplots(1,3, figsize=(20, 5), sharex=True)\n",
        "\n",
        "for dataframe in [df, df_adimplente, df_inadimplente]:\n",
        "\n",
        "  f = sns.histplot(x=coluna, data=dataframe, stat='count', ax=eixos[eixo])\n",
        "  f.set(title=titulos[eixo], xlabel=coluna.capitalize(), ylabel='Frequência Absoluta')\n",
        "\n",
        "  _, max_y_f = f.get_ylim()\n",
        "  max_y = max_y_f if max_y_f > max_y else max_y\n",
        "  f.set(ylim=(0, max_y))\n",
        "\n",
        "  eixo += 1\n",
        "\n",
        "figura.show()"
      ],
      "metadata": {
        "colab": {
          "base_uri": "https://localhost:8080/",
          "height": 286
        },
        "id": "-mLija5d7iaG",
        "outputId": "23bdad1f-00c1-45a5-b300-402100d98d8c"
      },
      "execution_count": null,
      "outputs": [
        {
          "output_type": "display_data",
          "data": {
            "text/plain": [
              "<Figure size 1440x360 with 3 Axes>"
            ],
            "image/png": "[encoded data removed]"
          },
          "metadata": {}
        }
      ]
    },
    {
      "cell_type": "code",
      "source": [
        "#Valor das transações\n",
        "coluna = 'valor_transacoes_12m'\n",
        "titulos = ['Valor das Transações no Último Ano', 'Valor das Transações no Último Ano de Adimplentes', 'Valor das Transações no Último Ano de Inadimplentes']\n",
        "\n",
        "eixo = 0\n",
        "max_y = 0\n",
        "figura, eixos = plt.subplots(1,3, figsize=(20, 5), sharex=True)\n",
        "\n",
        "for dataframe in [df, df_adimplente, df_inadimplente]:\n",
        "\n",
        "  f = sns.histplot(x=coluna, data=dataframe, stat='count', ax=eixos[eixo])\n",
        "  f.set(title=titulos[eixo], xlabel=coluna.capitalize(), ylabel='Frequência Absoluta')\n",
        "\n",
        "  _, max_y_f = f.get_ylim()\n",
        "  max_y = max_y_f if max_y_f > max_y else max_y\n",
        "  f.set(ylim=(0, max_y))\n",
        "\n",
        "  eixo += 1\n",
        "\n",
        "figura.show()"
      ],
      "metadata": {
        "colab": {
          "base_uri": "https://localhost:8080/",
          "height": 288
        },
        "id": "WYwy3DRY72-n",
        "outputId": "63d87cb1-3de9-46f2-9585-4fdb902a776d"
      },
      "execution_count": null,
      "outputs": [
        {
          "output_type": "display_data",
          "data": {
            "text/plain": [
              "<Figure size 1440x360 with 3 Axes>"
            ],
            "image/png": "[encoded data removed]"
          },
          "metadata": {}
        }
      ]
    },
    {
      "cell_type": "markdown",
      "source": [
        " - Valor de Transações nos Últimos 12 Meses x Quantidade de Transações nos Últimos 12 Meses"
      ],
      "metadata": {
        "id": "7nWcMYUD9Glm"
      }
    },
    {
      "cell_type": "code",
      "source": [
        "f = sns.relplot(x='valor_transacoes_12m', y='qtd_transacoes_12m', data=df, hue='default')\n",
        "_ = f.set(\n",
        "    title='Relação entre Valor e Quantidade de Transações no Último Ano',\n",
        "    xlabel='Valor das Transações no Último Ano',\n",
        "    ylabel='Quantidade das Transações no Último Ano'\n",
        "  )"
      ],
      "metadata": {
        "colab": {
          "base_uri": "https://localhost:8080/",
          "height": 386
        },
        "id": "MtEthEs49HBo",
        "outputId": "fc94b4d1-153f-4632-8fec-174a74875181"
      },
      "execution_count": null,
      "outputs": [
        {
          "output_type": "display_data",
          "data": {
            "text/plain": [
              "<Figure size 403.375x360 with 1 Axes>"
            ],
            "image/png": "[encoded data removed]"
          },
          "metadata": {}
        }
      ]
    },
    {
      "cell_type": "markdown",
      "source": [
        "# Novo"
      ],
      "metadata": {
        "id": "Byfi2tt46e6S"
      }
    },
    {
      "cell_type": "code",
      "source": [
        "def calcula_imc_helaman:\n",
        "    return 60/(1.6*1.6)"
      ],
      "metadata": {
        "id": "lcB-WzeZ6htF"
      },
      "execution_count": null,
      "outputs": []
    }
  ],
  "metadata": {
    "colab": {
      "provenance": [],
      "toc_visible": true,
      "authorship_tag": "ABX9TyPdJcq2DZqP16lkiI6l7DJa",
      "include_colab_link": true
    },
    "kernelspec": {
      "display_name": "Python 3",
      "name": "python3"
    },
    "language_info": {
      "name": "python"
    }
  },
  "nbformat": 4,
  "nbformat_minor": 0
}